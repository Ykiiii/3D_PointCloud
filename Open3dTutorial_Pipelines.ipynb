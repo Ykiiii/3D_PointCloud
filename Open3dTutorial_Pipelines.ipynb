{
 "cells": [
  {
   "cell_type": "markdown",
   "metadata": {},
   "source": [
    "# ICP 点云精配准\n",
    "本教程演示了ICP（迭代最接近点）配准算法。多年来，它一直是研究和工业领域中几何配准的主流。\n",
    "输入是两个点云和一个初始变换，该变换将源点云与目标点云大致对齐。输出是一个细化的变换，将两个点云紧密地对齐。\n",
    "在配准过程中，一个辅助函数draw_registration_result将对齐情况可视化。\n",
    "在本教程中，我们展示了两个ICP变体，点对点ICP和点对平面ICP"
   ]
  },
  {
   "cell_type": "code",
   "execution_count": 1,
   "metadata": {},
   "outputs": [
    {
     "name": "stdout",
     "output_type": "stream",
     "text": [
      "Jupyter environment detected. Enabling Open3D WebVisualizer.\n",
      "[Open3D INFO] WebRTC GUI backend enabled.\n",
      "[Open3D INFO] WebRTCWindowSystem: HTTP handshake server disabled.\n"
     ]
    }
   ],
   "source": [
    "import open3d as o3d\n",
    "import open3d_example as o3de\n",
    "import numpy as np\n",
    "import copy,time,re\n",
    "import matplotlib.pyplot as plt\n",
    "import matplotlib.image as mpimg"
   ]
  },
  {
   "cell_type": "markdown",
   "metadata": {},
   "source": [
    "## 初始化"
   ]
  },
  {
   "cell_type": "code",
   "execution_count": 11,
   "metadata": {},
   "outputs": [],
   "source": [
    "# 辅助的可视化函数\n",
    "def draw_registration_result(source, target, transformation):\n",
    "    source_temp = copy.deepcopy(source)\n",
    "    target_temp = copy.deepcopy(target)\n",
    "    source_temp.paint_uniform_color([1, 0.706, 1])\n",
    "    target_temp.paint_uniform_color([0, 0.651, 0.929])\n",
    "    source_temp.transform(transformation)\n",
    "    o3d.visualization.draw_geometries([source_temp, target_temp],\n",
    "                                      zoom=0.4459,\n",
    "                                      front=[0.9288, -0.2951, -0.2242],\n",
    "                                      lookat=[1.6784, 2.0612, 1.4451],\n",
    "                                      up=[-0.3402, -0.9189, -0.1996])"
   ]
  },
  {
   "cell_type": "code",
   "execution_count": 12,
   "metadata": {},
   "outputs": [],
   "source": [
    "# 制作算法输入\n",
    "# 从两个文件中读取一个源点云和一个目标点云。给出了一个粗略的变换。\n",
    "# 最初的对齐方式通常是通过全局配准算法得到的。例子见全局配准。\n",
    "\n",
    "source = o3d.io.read_point_cloud(\"PointCloudData\\\\DemoICPPointClouds\\\\cloud_bin_0.pcd\")\n",
    "target = o3d.io.read_point_cloud(\"PointCloudData\\\\DemoICPPointClouds\\\\cloud_bin_1.pcd\")\n",
    "threshold = 0.02\n",
    "trans_init = np.asarray([[0.862, 0.011, -0.507, 0.5],\n",
    "                         [-0.139, 0.967, -0.215, 0.7],\n",
    "                         [0.487, 0.255, 0.835, -1.4], \n",
    "                         [0.0, 0.0, 0.0, 1.0]])\n",
    "draw_registration_result(source, target, trans_init)\n"
   ]
  },
  {
   "cell_type": "code",
   "execution_count": 39,
   "metadata": {},
   "outputs": [
    {
     "name": "stdout",
     "output_type": "stream",
     "text": [
      "Initial alignment\n",
      "RegistrationResult with fitness=1.747228e-01, inlier_rmse=1.177106e-02, and correspondence_set size of 34741\n",
      "Access transformation to get result.\n"
     ]
    }
   ],
   "source": [
    "# 函数 evaluate_registration 计算两个主要指标。\n",
    "# fitness，衡量重叠的区域(# inlier correspondences / # of points in target)。越高越好。\n",
    "# inlier_rmse, 衡量所有inlier对应点的RMSE。越低越好。\n",
    "print(\"Initial alignment\")\n",
    "evaluation = o3d.pipelines.registration.evaluate_registration(\n",
    "  source, target, threshold, trans_init)\n",
    "print(evaluation)"
   ]
  },
  {
   "cell_type": "markdown",
   "metadata": {},
   "source": [
    "## 点对点 ICP\n",
    "一般来说，ICP算法经过两步迭代。\n",
    "\n",
    "1. 从目标点云P和用当前变换矩阵T变换的源点云Q中找到对应集K={(p,q)}。\n",
    "2. 通过最小化定义在对应集K上的目标函数E(T)来更新变换T。\n",
    "\n",
    "不同的ICP变体使用不同的目标函数E（T）\n",
    "\n",
    "TransformationEstimationPointToPoint类提供了计算点对点ICP目标的残差和雅各布矩阵的函数。函数registration_icp将其作为参数，并运行点对点ICP来获得结果"
   ]
  },
  {
   "cell_type": "code",
   "execution_count": 40,
   "metadata": {},
   "outputs": [
    {
     "name": "stdout",
     "output_type": "stream",
     "text": [
      "Apply point-to-point ICP\n",
      "RegistrationResult with fitness=3.724495e-01, inlier_rmse=7.760179e-03, and correspondence_set size of 74056\n",
      "Access transformation to get result.\n",
      "Transformation is:\n",
      "[[ 0.83924644  0.01006041 -0.54390867  0.64639961]\n",
      " [-0.15102344  0.96521988 -0.21491604  0.75166079]\n",
      " [ 0.52191123  0.2616952   0.81146378 -1.50303533]\n",
      " [ 0.          0.          0.          1.        ]]\n",
      "[Open3D WARNING] GLFW Error: WGL: Failed to make context current: 句柄无效。 \n",
      "[Open3D WARNING] GLFW Error: WGL: Failed to make context current: 句柄无效。 \n"
     ]
    }
   ],
   "source": [
    "print(\"Apply point-to-point ICP\")\n",
    "reg_p2p = o3d.pipelines.registration.registration_icp(\n",
    "    source, target, threshold, trans_init,\n",
    "    o3d.pipelines.registration.TransformationEstimationPointToPoint())\n",
    "print(reg_p2p)\n",
    "print(\"Transformation is:\")\n",
    "print(reg_p2p.transformation)\n",
    "draw_registration_result(source, target, reg_p2p.transformation)"
   ]
  },
  {
   "cell_type": "code",
   "execution_count": 41,
   "metadata": {},
   "outputs": [
    {
     "name": "stdout",
     "output_type": "stream",
     "text": [
      "RegistrationResult with fitness=6.211230e-01, inlier_rmse=6.583448e-03, and correspondence_set size of 123501\n",
      "Access transformation to get result.\n",
      "Transformation is:\n",
      "[[ 0.84024592  0.00687676 -0.54241281  0.6463702 ]\n",
      " [-0.14819104  0.96517833 -0.21706206  0.81180074]\n",
      " [ 0.52111439  0.26195134  0.81189372 -1.48346821]\n",
      " [ 0.          0.          0.          1.        ]]\n"
     ]
    }
   ],
   "source": [
    "# 默认情况下，registration_icp运行到收敛或达到最大迭代次数（默认为30次）。\n",
    "# 可以改变它以允许更多的计算时间并进一步改善结果。\n",
    "reg_p2p = o3d.pipelines.registration.registration_icp(\n",
    "    source, target, threshold, trans_init,\n",
    "    o3d.pipelines.registration.TransformationEstimationPointToPoint(),\n",
    "    o3d.pipelines.registration.ICPConvergenceCriteria(max_iteration=2000))\n",
    "print(reg_p2p)\n",
    "print(\"Transformation is:\")\n",
    "print(reg_p2p.transformation)\n",
    "draw_registration_result(source, target, reg_p2p.transformation)"
   ]
  },
  {
   "cell_type": "markdown",
   "metadata": {},
   "source": [
    "## 点对面 ICP\n",
    "点对平面的ICP算法[ChenAndMedioni1992]使用一个不同的目标函数\n",
    "\n",
    "其中np是p点的法线。[Rusinkiewicz2001]表明，点到平面的ICP算法比点到点的ICP算法具有更快的收敛速度。\n",
    "\n",
    "registration_icp被调用时有一个不同的参数TransformationEstimationPointToPlane。在内部，这个类实现了计算点对平面ICP目标的残差和雅各布矩阵的函数。\n",
    "\n",
    "**点对平面的ICP算法使用点法线。在本教程中，我们从文件中加载法线。如果没有给出法线，可以用顶点法线估计来计算**"
   ]
  },
  {
   "cell_type": "code",
   "execution_count": 13,
   "metadata": {},
   "outputs": [
    {
     "name": "stdout",
     "output_type": "stream",
     "text": [
      "Apply point-to-plane ICP\n",
      "RegistrationResult with fitness=6.209722e-01, inlier_rmse=6.581453e-03, and correspondence_set size of 123471\n",
      "Access transformation to get result.\n",
      "Transformation is:\n",
      "[[ 0.84023324  0.00618369 -0.54244126  0.64720943]\n",
      " [-0.14752342  0.96523919 -0.21724508  0.81018928]\n",
      " [ 0.52132423  0.26174429  0.81182576 -1.48366001]\n",
      " [ 0.          0.          0.          1.        ]]\n"
     ]
    }
   ],
   "source": [
    "print(\"Apply point-to-plane ICP\")\n",
    "reg_p2l = o3d.pipelines.registration.registration_icp(\n",
    "    source, target, threshold, trans_init,\n",
    "    o3d.pipelines.registration.TransformationEstimationPointToPlane())\n",
    "print(reg_p2l)\n",
    "print(\"Transformation is:\")\n",
    "print(reg_p2l.transformation)\n",
    "draw_registration_result(source, target, reg_p2l.transformation)"
   ]
  },
  {
   "cell_type": "markdown",
   "metadata": {},
   "source": [
    "# 鲁棒核ICP\n",
    "本教程演示了鲁棒核在剔除异常值方面的使用。在这个特定的教程中，我们将使用ICP（迭代最接近点）配准算法作为我们要处理异常值的目标问题。即便如此，该理论也适用于任何特定的优化问题，而不仅仅是ICP。目前，鲁棒的核子只在PointToPlane ICP中实现。"
   ]
  },
  {
   "cell_type": "markdown",
   "metadata": {},
   "source": [
    "### 初始化\n",
    "初始对齐通常由全局配准算法获得。例子见全局配准。"
   ]
  },
  {
   "cell_type": "code",
   "execution_count": 2,
   "metadata": {},
   "outputs": [
    {
     "name": "stdout",
     "output_type": "stream",
     "text": [
      "[Open3D WARNING] GLFW Error: WGL: Failed to make context current: 不支持请求的转换操作。 \n"
     ]
    }
   ],
   "source": [
    "def draw_registration_result(source, target, transformation):\n",
    "    source_temp = copy.deepcopy(source)\n",
    "    target_temp = copy.deepcopy(target)\n",
    "    source_temp.paint_uniform_color([1, 0.706, 0])\n",
    "    target_temp.paint_uniform_color([0, 0.651, 0.929])\n",
    "    source_temp.transform(transformation)\n",
    "    o3d.visualization.draw_geometries([source_temp, target_temp],\n",
    "                                      zoom=0.4459,\n",
    "                                      front=[0.9288, -0.2951, -0.2242],\n",
    "                                      lookat=[1.6784, 2.0612, 1.4451],\n",
    "                                      up=[-0.3402, -0.9189, -0.1996])\n",
    "source = o3d.io.read_point_cloud(\"PointCloudData\\\\DemoICPPointClouds\\\\cloud_bin_0.pcd\")\n",
    "target = o3d.io.read_point_cloud(\"PointCloudData\\\\DemoICPPointClouds\\\\cloud_bin_1.pcd\")\n",
    "# threshold = 0.2\n",
    "trans_init = np.asarray([[0.862, 0.011, -0.507, 0.5],\n",
    "                         [-0.139, 0.967, -0.215, 0.7],\n",
    "                         [0.487, 0.255, 0.835, -1.4], [0.0, 0.0, 0.0, 1.0]])\n",
    "draw_registration_result(source, target, trans_init)\n"
   ]
  },
  {
   "cell_type": "code",
   "execution_count": 3,
   "metadata": {},
   "outputs": [
    {
     "name": "stdout",
     "output_type": "stream",
     "text": [
      "Source PointCloud + noise:\n"
     ]
    }
   ],
   "source": [
    "# 为了更好地展示在配准中使用鲁棒核的优势，我们在源点云中加入一些人工生成的高斯噪声。\n",
    "def apply_noise(pcd, mu, sigma):\n",
    "    noisy_pcd = copy.deepcopy(pcd)\n",
    "    points = np.asarray(noisy_pcd.points)\n",
    "    points += np.random.normal(mu, sigma, size=points.shape)\n",
    "    noisy_pcd.points = o3d.utility.Vector3dVector(points)\n",
    "    return noisy_pcd\n",
    "\n",
    "\n",
    "mu, sigma = 0, 0.1  # mean and standard deviation\n",
    "source_noisy = apply_noise(source, mu, sigma)\n",
    "\n",
    "print(\"Source PointCloud + noise:\")\n",
    "o3d.visualization.draw_geometries([source_noisy],\n",
    "                                  zoom=0.4459,\n",
    "                                  front=[0.353, -0.469, -0.809],\n",
    "                                  lookat=[2.343, 2.217, 1.809],\n",
    "                                  up=[-0.097, -0.879, 0.467])\n"
   ]
  },
  {
   "cell_type": "markdown",
   "metadata": {},
   "source": [
    "### 普通icp对比"
   ]
  },
  {
   "cell_type": "code",
   "execution_count": 4,
   "metadata": {},
   "outputs": [
    {
     "name": "stdout",
     "output_type": "stream",
     "text": [
      "Vanilla point-to-plane ICP, threshold=0.02:\n",
      "RegistrationResult with fitness=9.832273e-02, inlier_rmse=1.194019e-02, and correspondence_set size of 19550\n",
      "Access transformation to get result.\n",
      "Transformation is:\n",
      "[[ 0.85566315  0.02092175 -0.51732603  0.49651143]\n",
      " [-0.15729807  0.96286167 -0.22093554  0.78189812]\n",
      " [ 0.49257678  0.26961951  0.82707936 -1.43488145]\n",
      " [ 0.          0.          0.          1.        ]]\n",
      "[Open3D WARNING] GLFW Error: WGL: Failed to make context current: 不支持请求的转换操作。 \n",
      "[Open3D WARNING] GLFW Error: WGL: Failed to make context current: 不支持请求的转换操作。 \n",
      "[Open3D WARNING] GLFW Error: WGL: Failed to make context current: 不支持请求的转换操作。 \n"
     ]
    }
   ],
   "source": [
    "# 普通icp\n",
    "threshold = 0.02\n",
    "print(\"Vanilla point-to-plane ICP, threshold={}:\".format(threshold))\n",
    "p2l = o3d.pipelines.registration.TransformationEstimationPointToPlane()\n",
    "reg_p2l = o3d.pipelines.registration.registration_icp(source_noisy, target,\n",
    "                                                      threshold, trans_init,\n",
    "                                                      p2l)\n",
    "\n",
    "print(reg_p2l)\n",
    "print(\"Transformation is:\")\n",
    "print(reg_p2l.transformation)\n",
    "draw_registration_result(source, target, reg_p2l.transformation)\n"
   ]
  },
  {
   "cell_type": "code",
   "execution_count": 53,
   "metadata": {},
   "outputs": [
    {
     "name": "stdout",
     "output_type": "stream",
     "text": [
      "Vanilla point-to-plane ICP, threshold=1.0:\n",
      "RegistrationResult with fitness=1.000000e+00, inlier_rmse=2.427158e-01, and correspondence_set size of 198835\n",
      "Access transformation to get result.\n",
      "Transformation is:\n",
      "[[ 0.79557845  0.06884341 -0.6022038   1.52038715]\n",
      " [-0.2946509   0.91256001 -0.28498479  1.24918378]\n",
      " [ 0.52893267  0.40339783  0.74607859 -1.46445994]\n",
      " [ 0.          0.          0.          1.        ]]\n",
      "[Open3D WARNING] GLFW Error: WGL: Failed to make context current: 句柄无效。 \n",
      "[Open3D WARNING] GLFW Error: WGL: Failed to make context current: 句柄无效。 \n",
      "[Open3D WARNING] GLFW Error: WGL: Failed to make context current: 句柄无效。 \n"
     ]
    }
   ],
   "source": [
    "# 调整普通ICP\n",
    "# 鉴于我们现在处理的是高斯噪声，我们可以尝试增加阈值来搜索最近的邻居，以改善配准结果。\n",
    "# 我们可以看到，在这些条件下，如果没有一个健壮的内核，传统的ICP没有机会处理离群值\n",
    "threshold = 1.0\n",
    "print(\"Vanilla point-to-plane ICP, threshold={}:\".format(threshold))\n",
    "p2l = o3d.pipelines.registration.TransformationEstimationPointToPlane()\n",
    "reg_p2l = o3d.pipelines.registration.registration_icp(source_noisy, target,\n",
    "                                                      threshold, trans_init,\n",
    "                                                      p2l)\n",
    "\n",
    "print(reg_p2l)\n",
    "print(\"Transformation is:\")\n",
    "print(reg_p2l.transformation)\n",
    "draw_registration_result(source, target, reg_p2l.transformation)\n"
   ]
  },
  {
   "cell_type": "markdown",
   "metadata": {},
   "source": [
    "### 鲁棒核ICP"
   ]
  },
  {
   "cell_type": "code",
   "execution_count": 6,
   "metadata": {},
   "outputs": [
    {
     "name": "stdout",
     "output_type": "stream",
     "text": [
      "Robust point-to-plane ICP, threshold=1:\n",
      "Using robust loss: RobustKernel::TukeyLoss with k=0.100000\n",
      "RegistrationResult with fitness=9.375311e-01, inlier_rmse=3.355652e-01, and correspondence_set size of 186414\n",
      "Access transformation to get result.\n",
      "Transformation is:\n",
      "[[ 0.83303579  0.04164397 -0.55189021  0.59904471]\n",
      " [-0.18757404  0.95978205 -0.21049859  0.9112166 ]\n",
      " [ 0.5200013   0.2780633   0.80722149 -1.51084955]\n",
      " [ 0.          0.          0.          1.        ]]\n"
     ]
    }
   ],
   "source": [
    "# 鲁棒核ICP\n",
    "# 使用相同的阈值=1.0和一个稳健的内核，我们可以正确地配准两个点云。\n",
    "threshold = 1\n",
    "print(\"Robust point-to-plane ICP, threshold={}:\".format(threshold))\n",
    "loss = o3d.pipelines.registration.TukeyLoss(k=sigma)\n",
    "print(\"Using robust loss:\", loss)\n",
    "p2l = o3d.pipelines.registration.TransformationEstimationPointToPlane(loss)\n",
    "reg_p2l = o3d.pipelines.registration.registration_icp(source_noisy, target,\n",
    "                                                      threshold, trans_init,\n",
    "                                                      p2l)\n",
    "print(reg_p2l)\n",
    "print(\"Transformation is:\")\n",
    "print(reg_p2l.transformation)\n",
    "draw_registration_result(source, target, reg_p2l.transformation)\n",
    "\n",
    "# 对于参数k，我们将其设置为与噪声模型的标准偏差k=σ相匹配。\n",
    "# Robust Kernels中使用的参数k通常被选为与输入数据的噪声模型的标准差相匹配。\n",
    "# 在这个意义上，k是区分离群者/离群者的工具。\n",
    "# 尽管这在现实世界的数据中并不总是那么容易定义，但对于合成数据来说，为了说明鲁棒核的好处，这很容易固定下来。"
   ]
  },
  {
   "cell_type": "markdown",
   "metadata": {},
   "source": [
    "# 彩色点云配准\n",
    "本教程演示了一个ICP变体，它同时使用几何和颜色进行配准。它实现了[Park2017]的算法。颜色信息锁定了沿切线平面的对齐。因此，这个算法比之前的点云配准算法更准确、更稳健，而运行速度与ICP配准的速度相当。本教程使用ICP配准的符号。"
   ]
  },
  {
   "cell_type": "markdown",
   "metadata": {},
   "source": [
    "### 初始化"
   ]
  },
  {
   "cell_type": "code",
   "execution_count": 7,
   "metadata": {},
   "outputs": [
    {
     "name": "stdout",
     "output_type": "stream",
     "text": [
      "1. Load two point clouds and show initial pose\n",
      "[Open3D WARNING] GLFW Error: WGL: Failed to make context current: 句柄无效。 \n",
      "[Open3D WARNING] GLFW Error: WGL: Failed to make context current: 不支持请求的转换操作。 \n"
     ]
    }
   ],
   "source": [
    "def draw_registration_result_original_color(source, target, transformation):\n",
    "    source_temp = copy.deepcopy(source)\n",
    "    source_temp.transform(transformation)\n",
    "    o3d.visualization.draw_geometries([source_temp, target],\n",
    "                                      zoom=0.5,\n",
    "                                      front=[-0.2458, -0.8088, 0.5342],\n",
    "                                      lookat=[1.7745, 2.2305, 0.9787],\n",
    "                                      up=[0.3109, -0.5878, -0.7468])\n",
    "print(\"1. Load two point clouds and show initial pose\")\n",
    "# demo_colored_icp_pcds = o3d.data.DemoColoredICPPointClouds()\n",
    "# source = o3d.io.read_point_cloud(demo_colored_icp_pcds.paths[0])\n",
    "# target = o3d.io.read_point_cloud(demo_colored_icp_pcds.paths[1])\n",
    "\n",
    "source = o3d.io.read_point_cloud(\"PointCloudData\\\\DemoICPPointClouds\\\\cloud_bin_0.pcd\")\n",
    "target = o3d.io.read_point_cloud(\"PointCloudData\\\\DemoICPPointClouds\\\\cloud_bin_1.pcd\")\n",
    "# draw initial alignment\n",
    "current_transformation = np.identity(4)\n",
    "draw_registration_result_original_color(source, target, current_transformation)\n"
   ]
  },
  {
   "cell_type": "markdown",
   "metadata": {},
   "source": [
    "### 点对面的ICP(作对比，与上同)\n",
    "首先运行点对平面ICP作为一个基准方法。下面的可视化图显示了错位的绿色三角形纹理。这是因为几何约束并不能阻止两个平面的滑移。"
   ]
  },
  {
   "cell_type": "code",
   "execution_count": 14,
   "metadata": {},
   "outputs": [
    {
     "name": "stdout",
     "output_type": "stream",
     "text": [
      "2. Point-to-plane ICP registration is applied on original point\n",
      "   clouds to refine the alignment. Distance threshold 0.02.\n",
      "RegistrationResult with fitness=5.391405e-02, inlier_rmse=1.175471e-02, and correspondence_set size of 10720\n",
      "Access transformation to get result.\n",
      "[Open3D WARNING] GLFW Error: WGL: Failed to make context current: 句柄无效。 \n"
     ]
    }
   ],
   "source": [
    "# point to plane ICP\n",
    "current_transformation = np.identity(4)# 这里更改了初始矩阵，导致效果差\n",
    "print(\"2. Point-to-plane ICP registration is applied on original point\")\n",
    "print(\"   clouds to refine the alignment. Distance threshold 0.02.\")\n",
    "result_icp = o3d.pipelines.registration.registration_icp(\n",
    "    source, target, 0.02, current_transformation,\n",
    "    o3d.pipelines.registration.TransformationEstimationPointToPlane())\n",
    "print(result_icp)\n",
    "draw_registration_result_original_color(source, target,\n",
    "                                        result_icp.transformation)\n"
   ]
  },
  {
   "cell_type": "code",
   "execution_count": null,
   "metadata": {},
   "outputs": [],
   "source": []
  },
  {
   "cell_type": "markdown",
   "metadata": {},
   "source": [
    "### 彩色点云配准\n",
    "（也不是很准）"
   ]
  },
  {
   "cell_type": "code",
   "execution_count": 15,
   "metadata": {},
   "outputs": [
    {
     "name": "stdout",
     "output_type": "stream",
     "text": [
      "3. Colored point cloud registration\n",
      "[50, 0.04, 0]\n",
      "3-1. Downsample with a voxel size 0.04\n",
      "3-2. Estimate normal.\n",
      "3-3. Applying colored point cloud registration\n",
      "RegistrationResult with fitness=1.961972e-01, inlier_rmse=2.186962e-02, and correspondence_set size of 1393\n",
      "Access transformation to get result.\n",
      "[30, 0.02, 1]\n",
      "3-1. Downsample with a voxel size 0.02\n",
      "3-2. Estimate normal.\n",
      "3-3. Applying colored point cloud registration\n",
      "RegistrationResult with fitness=1.302414e-01, inlier_rmse=1.056453e-02, and correspondence_set size of 3544\n",
      "Access transformation to get result.\n",
      "[14, 0.01, 2]\n",
      "3-1. Downsample with a voxel size 0.01\n",
      "3-2. Estimate normal.\n",
      "3-3. Applying colored point cloud registration\n",
      "RegistrationResult with fitness=1.140592e-01, inlier_rmse=5.827927e-03, and correspondence_set size of 10876\n",
      "Access transformation to get result.\n",
      "[Open3D WARNING] GLFW Error: WGL: Failed to make context current: 不支持请求的转换操作。 \n",
      "[Open3D WARNING] GLFW Error: WGL: Failed to make context current: 不支持请求的转换操作。 \n"
     ]
    }
   ],
   "source": [
    "# colored pointcloud registration\n",
    "# This is implementation of following paper\n",
    "# J. Park, Q.-Y. Zhou, V. Koltun,\n",
    "# Colored Point Cloud Registration Revisited, ICCV 2017\n",
    "voxel_radius = [0.04, 0.02, 0.01]\n",
    "max_iter = [50, 30, 14]\n",
    "current_transformation = np.identity(4)\n",
    "print(\"3. Colored point cloud registration\")\n",
    "for scale in range(3):\n",
    "    iter = max_iter[scale]\n",
    "    radius = voxel_radius[scale]\n",
    "    print([iter, radius, scale])\n",
    "\n",
    "    print(\"3-1. Downsample with a voxel size %.2f\" % radius)\n",
    "    source_down = source.voxel_down_sample(radius)\n",
    "    target_down = target.voxel_down_sample(radius)\n",
    "\n",
    "    print(\"3-2. Estimate normal.\")\n",
    "    source_down.estimate_normals(\n",
    "        o3d.geometry.KDTreeSearchParamHybrid(radius=radius * 2, max_nn=30))\n",
    "    target_down.estimate_normals(\n",
    "        o3d.geometry.KDTreeSearchParamHybrid(radius=radius * 2, max_nn=30))\n",
    "\n",
    "    print(\"3-3. Applying colored point cloud registration\")\n",
    "    result_icp = o3d.pipelines.registration.registration_colored_icp(\n",
    "        source_down, target_down, radius, current_transformation,\n",
    "        o3d.pipelines.registration.TransformationEstimationForColoredICP(),\n",
    "        o3d.pipelines.registration.ICPConvergenceCriteria(relative_fitness=1e-6,\n",
    "                                                          relative_rmse=1e-6,\n",
    "                                                          max_iteration=iter))\n",
    "    current_transformation = result_icp.transformation\n",
    "    print(result_icp)\n",
    "draw_registration_result_original_color(source, target,\n",
    "                                        result_icp.transformation)\n",
    "# 总共有3层多分辨率的点云是用voxel_down_sample创建的。\n",
    "# 法线是通过顶点法线估计来计算的。\n",
    "# lambda_geometric是registration_colored_icp的一个可选参数，它决定了λ∈[0,1]的整体能量λEG+(1-λ)EC。\n"
   ]
  },
  {
   "cell_type": "markdown",
   "metadata": {},
   "source": [
    "# 全局配准Global registration"
   ]
  },
  {
   "cell_type": "markdown",
   "metadata": {},
   "source": [
    "# 多路配准Multiway registration"
   ]
  },
  {
   "cell_type": "markdown",
   "metadata": {},
   "source": [
    "# RGBD集成"
   ]
  },
  {
   "cell_type": "markdown",
   "metadata": {},
   "source": [
    "# RGBD里程计"
   ]
  },
  {
   "cell_type": "markdown",
   "metadata": {},
   "source": [
    "# 颜色映射优化"
   ]
  }
 ],
 "metadata": {
  "kernelspec": {
   "display_name": "yk_env",
   "language": "python",
   "name": "python3"
  },
  "language_info": {
   "codemirror_mode": {
    "name": "ipython",
    "version": 3
   },
   "file_extension": ".py",
   "mimetype": "text/x-python",
   "name": "python",
   "nbconvert_exporter": "python",
   "pygments_lexer": "ipython3",
   "version": "3.7.16"
  }
 },
 "nbformat": 4,
 "nbformat_minor": 2
}
