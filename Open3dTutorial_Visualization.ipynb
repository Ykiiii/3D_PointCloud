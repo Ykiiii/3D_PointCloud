{
 "cells": [
  {
   "cell_type": "markdown",
   "metadata": {},
   "source": [
    "# 可视化\n",
    "## draw_geometries函数\n",
    "Open3D提供了一个方便的可视化函数draw_geometries，它接收一个几何对象（PointCloud、TriangleMesh或Image）的列表，并将它们一起渲染出来。我们在可视化器中实现了很多功能，比如通过鼠标操作实现旋转、平移和缩放，改变渲染风格，以及屏幕捕捉。在窗口内按H键可以打印出一个全面的功能列表\n",
    "\n",
    "**除了 draw_geometries 之外，Open3D 还有一组具有更高级功能的同级函数。 draw_geometries_with_custom_animation 允许程序员定义一个自定义的视图轨迹并在 GUI 中播放动画。 draw_geometries_with_animation_callback 和 draw_geometries_with_key_callback 接受 Python 回调函数作为输入。回调函数在一个自动动画循环中被调用，或者在一个按键事件中被调用。详见自定义的可视化**"
   ]
  },
  {
   "cell_type": "code",
   "execution_count": 1,
   "metadata": {},
   "outputs": [
    {
     "name": "stdout",
     "output_type": "stream",
     "text": [
      "Jupyter environment detected. Enabling Open3D WebVisualizer.\n",
      "[Open3D INFO] WebRTC GUI backend enabled.\n",
      "[Open3D INFO] WebRTCWindowSystem: HTTP handshake server disabled.\n"
     ]
    }
   ],
   "source": [
    "import open3d as o3d\n",
    "import open3d_example as o3de\n",
    "import numpy as np\n",
    "import copy,time,re,os\n",
    "import matplotlib.pyplot as plt\n",
    "import matplotlib.image as mpimg"
   ]
  },
  {
   "cell_type": "code",
   "execution_count": 6,
   "metadata": {},
   "outputs": [
    {
     "name": "stdout",
     "output_type": "stream",
     "text": [
      "Load a ply point cloud, print it, and render it\n",
      "[Open3D WARNING] GLFW Error: WGL: Failed to make context current: 句柄无效。 \n",
      "[Open3D WARNING] GLFW Error: WGL: Failed to make context current: 句柄无效。 \n",
      "[Open3D WARNING] GLFW Error: WGL: Failed to make context current: 不支持请求的转换操作。 \n"
     ]
    }
   ],
   "source": [
    "print(\"Load a ply point cloud, print it, and render it\")\n",
    "pcd = o3d.io.read_point_cloud(\"PointCloudData/isl-org_examples/fragment.ply\")\n",
    "mesh = o3d.geometry.TriangleMesh.create_coordinate_frame()\n",
    "o3d.visualization.draw_geometries([pcd,mesh],\n",
    "                                  zoom=0.3412,\n",
    "                                  front=[0.4257, -0.2125, -0.8795],\n",
    "                                  lookat=[2.6172, 2.0475, 1.532],\n",
    "                                  up=[-0.0694, -0.9768, 0.2024])\n"
   ]
  },
  {
   "cell_type": "markdown",
   "metadata": {},
   "source": []
  },
  {
   "cell_type": "code",
   "execution_count": 8,
   "metadata": {},
   "outputs": [
    {
     "name": "stdout",
     "output_type": "stream",
     "text": [
      "Let's define some primitives\n",
      "We draw a few primitives using collection.\n",
      "[Open3D WARNING] GLFW Error: WGL: Failed to make context current: 不支持请求的转换操作。 \n"
     ]
    }
   ],
   "source": [
    "print(\"Let's define some primitives\")\n",
    "mesh_box = o3d.geometry.TriangleMesh.create_box(width=1.0,\n",
    "                                                height=1.0,\n",
    "                                                depth=1.0)\n",
    "mesh_box.compute_vertex_normals()\n",
    "mesh_box.paint_uniform_color([0.9, 0.1, 0.1])\n",
    "mesh_sphere = o3d.geometry.TriangleMesh.create_sphere(radius=1.0)\n",
    "mesh_sphere.compute_vertex_normals()\n",
    "mesh_sphere.paint_uniform_color([0.1, 0.1, 0.7])\n",
    "mesh_cylinder = o3d.geometry.TriangleMesh.create_cylinder(radius=0.3,\n",
    "                                                          height=4.0)\n",
    "mesh_cylinder.compute_vertex_normals()\n",
    "mesh_cylinder.paint_uniform_color([0.1, 0.9, 0.1])\n",
    "mesh_frame = o3d.geometry.TriangleMesh.create_coordinate_frame(\n",
    "    size=0.6, origin=[-2, -2, -2])\n",
    "print(\"We draw a few primitives using collection.\")\n",
    "o3d.visualization.draw_geometries(\n",
    "    [mesh_box, mesh_sphere, mesh_cylinder, mesh_frame])\n",
    "\n"
   ]
  }
 ],
 "metadata": {
  "kernelspec": {
   "display_name": "yk_env",
   "language": "python",
   "name": "python3"
  },
  "language_info": {
   "codemirror_mode": {
    "name": "ipython",
    "version": 3
   },
   "file_extension": ".py",
   "mimetype": "text/x-python",
   "name": "python",
   "nbconvert_exporter": "python",
   "pygments_lexer": "ipython3",
   "version": "3.7.16"
  }
 },
 "nbformat": 4,
 "nbformat_minor": 2
}
