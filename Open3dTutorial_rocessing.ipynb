{
 "cells": [
  {
   "cell_type": "markdown",
   "metadata": {},
   "source": [
    "File IO\n",
    "Point cloud\n",
    "Mesh\n",
    "Image\n",
    "Point cloud outlier removal\n",
    "Prepare input data\n",
    "Select down sample\n",
    "Statistical outlier removal\n",
    "Radius outlier removal\n",
    "Voxelization\n",
    "From triangle mesh\n",
    "From point cloud\n",
    "Inclusion test\n",
    "Voxel carving\n",
    "Octree\n",
    "From point cloud\n",
    "From voxel grid\n",
    "Traversal\n",
    "Find leaf node containing point\n",
    "Surface reconstruction\n",
    "Alpha shapes\n",
    "Ball pivoting\n",
    "Poisson surface reconstruction\n",
    "Normal estimation\n",
    "Transformation\n",
    "Translate\n",
    "Rotation\n",
    "Scale\n",
    "General transformation\n",
    "Mesh deformation\n",
    "Smoothed ARAP\n",
    "Intrinsic shape signatures (ISS)\n",
    "ISS Keypoints\n",
    "ISS keypoint detection example\n",
    "Ray Casting\n",
    "Creating a virtual point cloud\n",
    "Distance Queries\n",
    "Converting a mesh to an implicit representation\n",
    "Computing distances with closest point queries"
   ]
  }
 ],
 "metadata": {
  "language_info": {
   "name": "python"
  }
 },
 "nbformat": 4,
 "nbformat_minor": 2
}
