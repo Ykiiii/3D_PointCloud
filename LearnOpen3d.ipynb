{
 "cells": [
  {
   "cell_type": "markdown",
   "metadata": {},
   "source": [
    "# open3d"
   ]
  },
  {
   "cell_type": "markdown",
   "metadata": {},
   "source": [
    "## 基础\n",
    "colab不支持open3d三维可视化，jupyter notebook本地运行可视化是弹窗显示"
   ]
  },
  {
   "cell_type": "code",
   "execution_count": 2,
   "metadata": {},
   "outputs": [
    {
     "name": "stdout",
     "output_type": "stream",
     "text": [
      "PointCloud with 43381 points.\n",
      "[[-0.01911783 -0.03290318  0.98277861]\n",
      " [-0.01802992 -0.03287225  0.98180258]\n",
      " [-0.01769577 -0.03290823  0.98286402]\n",
      " ...\n",
      " [ 0.02130458  0.07828158  0.98029351]\n",
      " [ 0.0216579   0.07827332  0.98019391]\n",
      " [ 0.02201807  0.0782923   0.98043334]]\n"
     ]
    }
   ],
   "source": [
    "import open3d as o3d\n",
    "import numpy as np\n",
    "# 读取 展示\n",
    "datadir = \"PointCloudData/rectangle.ply\"\n",
    "pcd = o3d.io.read_point_cloud(datadir)\n",
    "print(pcd)\n",
    "print(np.asarray(pcd.points))\n",
    "# o3d.visualization.draw_geometries([pcd],mesh_show_wireframe=True)"
   ]
  },
  {
   "cell_type": "code",
   "execution_count": 7,
   "id": "0eb67b03",
   "metadata": {},
   "outputs": [],
   "source": [
    "import numpy as np\n",
    "import open3d as o3d\n",
    "# 从np生成\n",
    "if __name__ ==\"__main__\":\n",
    "    points = np.random.rand(10000, 3)\n",
    "    pcd = o3d.geometry.PointCloud()\n",
    "    pcd.points = o3d.utility.Vector3dVector(points)\n",
    "    o3d.visualization.draw_geometries([pcd])"
   ]
  },
  {
   "cell_type": "code",
   "execution_count": null,
   "metadata": {},
   "outputs": [],
   "source": [
    "# 下采样\n",
    "downpcd = pcd.voxel_down_sample(voxel_size = 0.05)\n",
    "# 法线估计，按“N”查看法线\n",
    "downpcd.estimate_normals(search_param=o3d.geometry.KDTreeSearchParamHybrid(radius=0.1, max_nn=30))\n",
    "o3d.visualization.draw_geometries([downpcd])"
   ]
  },
  {
   "cell_type": "code",
   "execution_count": 5,
   "metadata": {},
   "outputs": [
    {
     "name": "stdout",
     "output_type": "stream",
     "text": [
      "['.git', 'hull_cloud.pcd', 'LearnOpen3d.ipynb', 'PointCloudData', 'Readme.md', 'test01.py']\n"
     ]
    }
   ],
   "source": [
    "import os\n",
    "print(os.listdir())"
   ]
  }
 ],
 "metadata": {
  "kernelspec": {
   "display_name": "Python 3 (ipykernel)",
   "language": "python",
   "name": "python3"
  },
  "language_info": {
   "codemirror_mode": {
    "name": "ipython",
    "version": 3
   },
   "file_extension": ".py",
   "mimetype": "text/x-python",
   "name": "python",
   "nbconvert_exporter": "python",
   "pygments_lexer": "ipython3",
   "version": "3.7.16"
  }
 },
 "nbformat": 4,
 "nbformat_minor": 5
}
