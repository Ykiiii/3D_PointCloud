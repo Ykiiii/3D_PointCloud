{
 "cells": [
  {
   "cell_type": "markdown",
   "metadata": {},
   "source": [
    "# open3d"
   ]
  },
  {
   "cell_type": "markdown",
   "metadata": {},
   "source": [
    "## 基础"
   ]
  },
  {
   "cell_type": "code",
   "execution_count": 2,
   "metadata": {},
   "outputs": [
    {
     "name": "stdout",
     "output_type": "stream",
     "text": [
      "PointCloud with 2426 points.\n",
      "[[ 3.61914677e-03 -6.53125495e-02  1.17495155e+00]\n",
      " [ 3.61852837e-03 -6.46385327e-02  1.17494941e+00]\n",
      " [ 2.94297212e-03 -6.39582351e-02  1.17483580e+00]\n",
      " ...\n",
      " [ 8.67882685e-04  1.15810130e-02  1.18325245e+00]\n",
      " [ 4.14819340e-04  1.24894679e-02  1.18369329e+00]\n",
      " [-4.93057072e-04  1.36156855e-02  1.18302321e+00]]\n"
     ]
    }
   ],
   "source": [
    "import open3d as o3d\n",
    "import numpy as np\n",
    "# 读取 展示\n",
    "if __name__ ==\"__main__\":\n",
    "    datadir = \"J:\\Document\\Coding\\PointCloud\\model_1.ply\"\n",
    "    pcd = o3d.io.read_point_cloud(datadir)\n",
    "    print(pcd)\n",
    "    print(np.asarray(pcd.points))\n",
    "    o3d.visualization.draw_geometries([pcd],mesh_show_wireframe=True)"
   ]
  },
  {
   "cell_type": "code",
   "execution_count": 12,
   "id": "0eb67b03",
   "metadata": {},
   "outputs": [],
   "source": [
    "import numpy as np\n",
    "import open3d as o3d\n",
    "# 从np生成\n",
    "if __name__ ==\"__main__\":\n",
    "    points = np.random.rand(10000, 3)\n",
    "    pcd = o3d.geometry.PointCloud()\n",
    "    pcd.points = o3d.utility.Vector3dVector(points)\n",
    "    o3d.visualization.draw_geometries([pcd])"
   ]
  },
  {
   "cell_type": "code",
   "execution_count": 2,
   "metadata": {},
   "outputs": [],
   "source": [
    "# 下采样\n",
    "downpcd = pcd.voxel_down_sample(voxel_size = 0.05)\n",
    "# 法线估计，按“N”查看法线\n",
    "downpcd.estimate_normals(search_param=o3d.geometry.KDTreeSearchParamHybrid(radius=0.1, max_nn=30))\n",
    "o3d.visualization.draw_geometries([downpcd])"
   ]
  },
  {
   "cell_type": "code",
   "execution_count": 14,
   "metadata": {},
   "outputs": [],
   "source": [
    "asfa"
   ]
  }
 ],
 "metadata": {
  "kernelspec": {
   "display_name": "Python 3 (ipykernel)",
   "language": "python",
   "name": "python3"
  },
  "language_info": {
   "codemirror_mode": {
    "name": "ipython",
    "version": 3
   },
   "file_extension": ".py",
   "mimetype": "text/x-python",
   "name": "python",
   "nbconvert_exporter": "python",
   "pygments_lexer": "ipython3",
   "version": "3.7.16"
  }
 },
 "nbformat": 4,
 "nbformat_minor": 5
}
