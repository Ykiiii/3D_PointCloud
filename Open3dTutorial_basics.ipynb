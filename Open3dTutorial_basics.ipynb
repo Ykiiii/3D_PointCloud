{
 "cells": [
  {
   "cell_type": "markdown",
   "metadata": {},
   "source": [
    "# open3d基础\n",
    "三维数据基础，包括点云、mesh、深度图、KD树\n",
    "\n",
    "官方文档地址：http://www.open3d.org/docs/release/tutorial/geometry/pointcloud.html\n",
    "\n",
    "colab不支持open3d三维可视化，jupyter notebook本地运行可视化是弹窗显示"
   ]
  },
  {
   "cell_type": "markdown",
   "metadata": {},
   "source": [
    "# 点云处理\n",
    "## 读取 展示"
   ]
  },
  {
   "cell_type": "code",
   "execution_count": null,
   "metadata": {},
   "outputs": [],
   "source": [
    "import open3d as o3d\n",
    "import numpy as np\n",
    "# 读取 展示\n",
    "datadir = \"PointCloudData\\\\yk_examples\\\\rectangle.ply\"\n",
    "pcd = o3d.io.read_point_cloud(datadir)\n",
    "print(pcd)\n",
    "print(np.asarray(pcd.points))\n",
    "print(np.asarray(pcd.points).shape)\n",
    "\n",
    "# 弹窗\"Ctrl+C\"可以复制参数，粘贴即可得到缩放、视角之类的东西\n",
    "o3d.visualization.draw_geometries([pcd],mesh_show_wireframe=True)"
   ]
  },
  {
   "cell_type": "markdown",
   "metadata": {},
   "source": [
    "## 下采样 法线估计"
   ]
  },
  {
   "cell_type": "code",
   "execution_count": null,
   "metadata": {},
   "outputs": [],
   "source": [
    "# 下采样\n",
    "downpcd = pcd.voxel_down_sample(voxel_size = 0.001)\n",
    "# 法线估计，按“N”查看法线，不计算也能直接显示法线\n",
    "downpcd.estimate_normals(search_param=o3d.geometry.KDTreeSearchParamHybrid(radius=0.1, max_nn=30))\n",
    "# np.asarray(downpcd.normals).shape\n",
    "# o3d.visualization.draw_geometries([downpcd])"
   ]
  },
  {
   "cell_type": "markdown",
   "metadata": {},
   "source": [
    "## 裁剪"
   ]
  },
  {
   "cell_type": "code",
   "execution_count": null,
   "metadata": {},
   "outputs": [],
   "source": [
    "# 裁剪\n",
    "pcd = o3d.io.read_point_cloud(\"PointCloudData\\\\isl-org_examples\\\\fragment.ply\")\n",
    "vol = o3d.visualization.read_selection_polygon_volume(\"PointCloudData\\\\isl-org_examples\\\\cropped.json\")\n",
    "chair = vol.crop_point_cloud(pcd)\n",
    "o3d.visualization.draw_geometries([chair],\n",
    "                                  zoom=0.7,                             # 相机变焦\n",
    "                                  front=[0.5439, -0.2333, -0.8060],     # 相机矢量\n",
    "                                  lookat=[2.4615, 2.1331, 1.338],       # 相机矢量\n",
    "                                  up=[-0.1781, -0.9708, 0.1608])        # 相机矢量\n"
   ]
  },
  {
   "cell_type": "markdown",
   "metadata": {},
   "source": [
    "## 更改颜色"
   ]
  },
  {
   "cell_type": "code",
   "execution_count": null,
   "metadata": {},
   "outputs": [],
   "source": [
    "# 更改点云颜色，红绿蓝\n",
    "chair.paint_uniform_color([0,0,1])\n",
    "o3d.visualization.draw_geometries([chair],\n",
    "                                zoom=0.7,\n",
    "                                front=[0.5439, -0.2333, -0.8060],\n",
    "                                lookat=[2.4615, 2.1331, 1.338],\n",
    "                                up=[-0.1781, -0.9708, 0.1608]\n",
    "                                )"
   ]
  },
  {
   "cell_type": "markdown",
   "metadata": {},
   "source": [
    "## 计算点云差异"
   ]
  },
  {
   "cell_type": "code",
   "execution_count": null,
   "metadata": {},
   "outputs": [],
   "source": [
    "# 为【源点云(pcd)中的每个点】计算与【目标点云(chair)中最近的点】的距离\n",
    "# 可计算两个点云之间的差异(倒角距离)\n",
    "dists = pcd.compute_point_cloud_distance(chair)\n",
    "dists = np.asarray(dists)\n",
    "ind = np.where(dists > 0.01)[0]\n",
    "pcd_without_chair = pcd.select_by_index(ind)\n",
    "o3d.visualization.draw_geometries([pcd_without_chair],\n",
    "                                  zoom=0.3412,\n",
    "                                  front=[0.4257, -0.2125, -0.8795],\n",
    "                                  lookat=[2.6172, 2.0475, 1.532],\n",
    "                                  up=[-0.0694, -0.9768, 0.2024])"
   ]
  },
  {
   "cell_type": "markdown",
   "metadata": {},
   "source": [
    "## 包围点云的bounding_box"
   ]
  },
  {
   "cell_type": "code",
   "execution_count": null,
   "metadata": {},
   "outputs": [],
   "source": [
    "# 包围边界体(矩形框)\n",
    "aabb = chair.get_axis_aligned_bounding_box()\n",
    "aabb.color = (1, 0, 0)\n",
    "obb = chair.get_oriented_bounding_box()\n",
    "obb.color = (0, 1, 0)\n",
    "o3d.visualization.draw_geometries([chair, aabb, obb],\n",
    "                                  zoom=0.7,\n",
    "                                  front=[0.5439, -0.2333, -0.8060],\n",
    "                                  lookat=[2.4615, 2.1331, 1.338],\n",
    "                                  up=[-0.1781, -0.9708, 0.1608])\n"
   ]
  },
  {
   "cell_type": "markdown",
   "metadata": {},
   "source": [
    "## 点云的凸包"
   ]
  },
  {
   "cell_type": "code",
   "execution_count": null,
   "metadata": {},
   "outputs": [],
   "source": [
    "# 点云的最小凸面体\n",
    "hull,idx = chair.compute_convex_hull()\n",
    "hull_ls = o3d.geometry.LineSet.create_from_triangle_mesh(hull)\n",
    "hull_ls.paint_uniform_color((1,0,0))\n",
    "o3d.visualization.draw_geometries([chair,hull_ls],\n",
    "                                  zoom=0.7,\n",
    "                                  front=[0.5439, -0.2333, -0.8060],\n",
    "                                  lookat=[2.4615, 2.1331, 1.338],\n",
    "                                  up=[-0.1781, -0.9708, 0.1608])\n"
   ]
  },
  {
   "cell_type": "markdown",
   "metadata": {},
   "source": [
    "## DBSCAN 聚类"
   ]
  },
  {
   "cell_type": "code",
   "execution_count": null,
   "metadata": {},
   "outputs": [],
   "source": [
    "# DBSCAN 聚类\n",
    "import matplotlib.pyplot as plt\n",
    "\n",
    "with o3d.utility.VerbosityContextManager(\n",
    "        o3d.utility.VerbosityLevel.Debug) as cm:\n",
    "    labels = np.array(\n",
    "        pcd.cluster_dbscan(eps=0.02, min_points=10, print_progress=True))\n",
    "\n",
    "max_label = labels.max()\n",
    "print(f\"point cloud has {max_label + 1} clusters\")\n",
    "colors = plt.get_cmap(\"tab20\")(labels / (max_label if max_label > 0 else 1))\n",
    "colors[labels < 0] = 0\n",
    "pcd.colors = o3d.utility.Vector3dVector(colors[:, :3])\n",
    "o3d.visualization.draw_geometries([pcd],\n",
    "                                  zoom=0.455,\n",
    "                                  front=[-0.4999, -0.1659, -0.8499],\n",
    "                                  lookat=[2.1813, 2.0619, 2.0999],\n",
    "                                  up=[0.1204, -0.9852, 0.1215])\n"
   ]
  },
  {
   "cell_type": "markdown",
   "metadata": {},
   "source": [
    "## 支持平面检测"
   ]
  },
  {
   "cell_type": "code",
   "execution_count": null,
   "metadata": {},
   "outputs": [],
   "source": [
    "# 平面检测\n",
    "# 用ransac分割几何基元，找到支持度最大的平面\n",
    "plane_model, inliers = pcd.segment_plane(distance_threshold=0.01, # 一个点与一个估计的平面的最大距离，超过即立群\n",
    "                                         ransac_n=3,              # 平面随机采样点数量\n",
    "                                         num_iterations=1000)     # 随机平面被采样和验证的频率\n",
    "[a, b, c, d] = plane_model                                        # 对于(x,y,z)，若ax+by+cz+d=0，则该点在平面上\n",
    "print(f\"Plane equation: {a:.2f}x + {b:.2f}y + {c:.2f}z + {d:.2f} = 0\")\n",
    "\n",
    "inlier_cloud = pcd.select_by_index(inliers)\n",
    "inlier_cloud.paint_uniform_color([1, 0, 0])\n",
    "outlier_cloud = pcd.select_by_index(inliers, invert=True)\n",
    "o3d.visualization.draw_geometries([inlier_cloud, outlier_cloud],\n",
    "                                  zoom=0.8,\n",
    "                                  front=[-0.4999, -0.1659, -0.8499],\n",
    "                                  lookat=[2.1813, 2.0619, 2.0999],\n",
    "                                  up=[0.1204, -0.9852, 0.1215])\n",
    "\n"
   ]
  },
  {
   "cell_type": "markdown",
   "metadata": {},
   "source": [
    "## 所有平面检测并补全"
   ]
  },
  {
   "cell_type": "code",
   "execution_count": null,
   "metadata": {},
   "outputs": [],
   "source": [
    "# 平面检测并补全\n",
    "# 找到点云中的所有平面,用矩形平面贴出来表示为完整平面\n",
    "pcd.paint_uniform_color((1,1,0))\n",
    "# using all defaults\n",
    "oboxes = pcd.detect_planar_patches(                         # 函数返回 patch 列表,包含BoundingBox对象\n",
    "    normal_variance_threshold_deg=60,                       # 法线偏差允许的值,越小留下的点越少,平面质量越高\n",
    "    coplanarity_deg=75,                                     # 距离平面的允许值,越小留下的点越少,平面质量越高\n",
    "    outlier_ratio=0.75,                                     # 最大允许离群比,越大留下的点越少\n",
    "    min_plane_edge_length=0,                                # 补丁的边缘要比平面大x,才算作平面补丁,0默认1%\n",
    "    min_num_points=0,                                       # 关联八叉树的深度,0默认为点云中点数的0.1%\n",
    "    search_param=o3d.geometry.KDTreeSearchParamKNN(knn=30)) # 每个点最近的K个邻居增长合并\n",
    "\n",
    "print(\"Detected {} patches\".format(len(oboxes)))\n",
    "\n",
    "geometries = []\n",
    "for obox in oboxes:\n",
    "    mesh = o3d.geometry.TriangleMesh.create_from_oriented_bounding_box(obox, scale=[1, 1, 0.0001])\n",
    "    mesh.paint_uniform_color(obox.color)\n",
    "    geometries.append(mesh)\n",
    "    geometries.append(obox)\n",
    "geometries.append(pcd)\n",
    "\n",
    "o3d.visualization.draw_geometries(geometries,\n",
    "                                  zoom=0.62,\n",
    "                                  front=[0.4361, -0.2632, -0.8605],\n",
    "                                  lookat=[2.4947, 1.7728, 1.5541],\n",
    "                                  up=[-0.1726, -0.9630, 0.2071])"
   ]
  },
  {
   "cell_type": "markdown",
   "metadata": {},
   "source": [
    "## 不可见点去除"
   ]
  },
  {
   "cell_type": "code",
   "execution_count": null,
   "metadata": {},
   "outputs": [],
   "source": [
    "datadir = \"PointCloudData\\\\yk_examples\\\\t_pipe.ply\"\n",
    "mesh = o3d.io.read_triangle_mesh(datadir)   # 读取文件为 mesh\n",
    "# mesh.compute_vertex_normals()\n",
    "pcd = mesh.sample_points_poisson_disk(5000) # mesh采样为点云\n",
    "diameter = np.linalg.norm(\n",
    "    np.asarray(pcd.get_max_bound()) - np.asarray(pcd.get_min_bound())) # 欧式距离\n",
    "# o3d.visualization.draw_geometries([pcd])"
   ]
  },
  {
   "cell_type": "code",
   "execution_count": null,
   "metadata": {},
   "outputs": [],
   "source": [
    "print(\"Define parameters used for hidden_point_removal\")\n",
    "camera = [0, 0, diameter]   # 相机位置\n",
    "radius = diameter * 100     # 投影半径\n",
    "\n",
    "print(\"Get all points that are visible from given view point\")\n",
    "_, pt_map = pcd.hidden_point_removal(camera, radius)\n",
    "\n",
    "print(\"Visualize result\")\n",
    "pcd = pcd.select_by_index(pt_map)\n",
    "o3d.visualization.draw_geometries([pcd])"
   ]
  },
  {
   "cell_type": "markdown",
   "metadata": {},
   "source": [
    "# mesh处理\n",
    "参考学习地址：https://blog.csdn.net/u014072827/article/details/112399050\n",
    "## 读取 展示"
   ]
  },
  {
   "cell_type": "code",
   "execution_count": null,
   "metadata": {},
   "outputs": [],
   "source": [
    "import open3d as o3d\n",
    "mesh = o3d.io.read_triangle_mesh(\"PointCloudData/yk_examples/t_pipe.ply\")\n",
    "print(mesh)\n",
    "print('Vertices:')\n",
    "print(np.asarray(mesh.vertices))\n",
    "print('Triangles:')\n",
    "print(np.asarray(mesh.triangles))\n",
    "# o3d.visualization.draw_geometries([mesh],\n",
    "#                                   zoom=1.3,                             # 相机变焦\n",
    "#                                   front=[0.0032, -0.2870, -0.9579],     # 相机矢量\n",
    "#                                   lookat=[20.0052, 22.3584, 37.2739],   # 相机矢量\n",
    "#                                   up=[0.4301, -0.8644, 0.2604])         # 相机矢量"
   ]
  },
  {
   "cell_type": "markdown",
   "metadata": {},
   "source": [
    "## 可视化3D网格\n",
    "## 表面法线估计"
   ]
  },
  {
   "cell_type": "code",
   "execution_count": null,
   "metadata": {},
   "outputs": [],
   "source": [
    "# 可视化3D网格 表面法线估计\n",
    "mesh.compute_vertex_normals()\n",
    "print(np.asarray(mesh.triangle_normals))        # 表面法线估计\n",
    "o3d.visualization.draw_geometries([mesh],\n",
    "                                  zoom=1.3,                             # 相机变焦\n",
    "                                  front=[0.0032, -0.2870, -0.9579],     # 相机矢量\n",
    "                                  lookat=[20.0052, 22.3584, 37.2739],   # 相机矢量\n",
    "                                  up=[0.4301, -0.8644, 0.2604])         # 相机矢量"
   ]
  },
  {
   "cell_type": "markdown",
   "metadata": {},
   "source": [
    "## 裁剪"
   ]
  },
  {
   "cell_type": "code",
   "execution_count": null,
   "metadata": {},
   "outputs": [],
   "source": [
    "import copy\n",
    "# 只取前半个三角形网格\n",
    "mesh1 = copy.deepcopy(mesh)\n",
    "mesh1.triangles = o3d.utility.Vector3iVector(\n",
    "    np.asarray(mesh1.triangles)[:len(mesh1.triangles) // 2, :])\n",
    "mesh1.triangle_normals = o3d.utility.Vector3dVector(\n",
    "    np.asarray(mesh1.triangle_normals)[:len(mesh1.triangle_normals) // 2, :])\n",
    "print(mesh1.triangles)\n",
    "o3d.visualization.draw_geometries([mesh1],\n",
    "                                  zoom=1.3,                             # 相机变焦\n",
    "                                  front=[0.0032, -0.2870, -0.9579],     # 相机矢量\n",
    "                                  lookat=[20.0052, 22.3584, 37.2739],   # 相机矢量\n",
    "                                  up=[0.4301, -0.8644, 0.2604])         # 相机矢量\n"
   ]
  },
  {
   "cell_type": "markdown",
   "metadata": {},
   "source": [
    "## 更改颜色"
   ]
  },
  {
   "cell_type": "code",
   "execution_count": null,
   "metadata": {},
   "outputs": [],
   "source": [
    "# 涂色\n",
    "mesh1.paint_uniform_color([1, 0.706, 0])\n",
    "o3d.visualization.draw_geometries([mesh1],\n",
    "                                  zoom=1.3,                             # 相机变焦\n",
    "                                  front=[0.0032, -0.2870, -0.9579],     # 相机矢量\n",
    "                                  lookat=[20.0052, 22.3584, 37.2739],   # 相机矢量\n",
    "                                  up=[0.4301, -0.8644, 0.2604])         # 相机矢量\n"
   ]
  },
  {
   "cell_type": "markdown",
   "metadata": {},
   "source": [
    "## 网格属性\n",
    "check函数为官网doc中的例程，get_mesh函数为官方github中open3d_example\n",
    "\n",
    "参考学习地址：https://blog.csdn.net/u014072827/article/details/112399050"
   ]
  },
  {
   "cell_type": "code",
   "execution_count": null,
   "metadata": {},
   "outputs": [],
   "source": [
    "import open3d_example as o3de\n",
    "def check_properties(name, mesh):\n",
    "    mesh.compute_vertex_normals()\n",
    "    edge_manifold = mesh.is_edge_manifold(allow_boundary_edges=True)\n",
    "    edge_manifold_boundary = mesh.is_edge_manifold(allow_boundary_edges=False)\n",
    "    vertex_manifold = mesh.is_vertex_manifold()\n",
    "    self_intersecting = mesh.is_self_intersecting()\n",
    "    watertight = mesh.is_watertight()\n",
    "    orientable = mesh.is_orientable()\n",
    "\n",
    "    print(name)\n",
    "    print(f\"  edge_manifold:          {edge_manifold}\")             # 是否为边缘流形(考虑边界)\n",
    "    print(f\"  edge_manifold_boundary: {edge_manifold_boundary}\")    # 是否为边缘流形(不考虑边界)\n",
    "    print(f\"  vertex_manifold:        {vertex_manifold}\")           # 是否为所有顶点为流形\n",
    "    print(f\"  self_intersecting:      {self_intersecting}\")         # 是否为自相交网格\n",
    "    print(f\"  watertight:             {watertight}\")                # 是否为水密网格\n",
    "    print(f\"  orientable:             {orientable}\")                # 是否为可定向的网格\n",
    "\n",
    "    geoms = [mesh]\n",
    "    if not edge_manifold:\n",
    "        edges = mesh.get_non_manifold_edges(allow_boundary_edges=True)\n",
    "        geoms.append(o3de.edges_to_lineset(mesh, edges, (1, 0, 0)))\n",
    "    if not edge_manifold_boundary:\n",
    "        edges = mesh.get_non_manifold_edges(allow_boundary_edges=False)\n",
    "        geoms.append(o3de.edges_to_lineset(mesh, edges, (0, 1, 0)))\n",
    "    if not vertex_manifold:\n",
    "        verts = np.asarray(mesh.get_non_manifold_vertices())\n",
    "        pcl = o3d.geometry.PointCloud(\n",
    "            points=o3d.utility.Vector3dVector(np.asarray(mesh.vertices)[verts]))\n",
    "        pcl.paint_uniform_color((0, 0, 1))\n",
    "        geoms.append(pcl)\n",
    "    if self_intersecting:\n",
    "        intersecting_triangles = np.asarray(\n",
    "            mesh.get_self_intersecting_triangles())\n",
    "        intersecting_triangles = intersecting_triangles[0:1]\n",
    "        intersecting_triangles = np.unique(intersecting_triangles)\n",
    "        print(\"  # visualize self-intersecting triangles\")\n",
    "        triangles = np.asarray(mesh.triangles)[intersecting_triangles]\n",
    "        edges = [\n",
    "            np.vstack((triangles[:, i], triangles[:, j]))\n",
    "            for i, j in [(0, 1), (1, 2), (2, 0)]\n",
    "        ]\n",
    "        edges = np.hstack(edges).T\n",
    "        edges = o3d.utility.Vector2iVector(edges)\n",
    "        geoms.append(o3de.edges_to_lineset(mesh, edges, (1, 0, 1)))\n",
    "    o3d.visualization.draw_geometries(geoms, mesh_show_back_face=True)\n",
    "\n",
    "if __name__ ==\"__main__\":\n",
    "    check_properties('t-pipe', mesh)\n",
    "    check_properties(\"plane\",o3de.get_plane_mesh())\n",
    "    check_properties(\"non-manifold edge\", o3de.get_non_manifold_edge_mesh())\n",
    "    check_properties(\"non-manifold vertex\", o3de.get_non_manifold_vertex_mesh())\n",
    "    check_properties(\"open box\", o3de.get_open_box_mesh())\n",
    "    check_properties(\"intersecting_boxes\", o3de.get_intersecting_boxes_mesh())"
   ]
  },
  {
   "cell_type": "markdown",
   "metadata": {},
   "source": [
    "## 网格滤波\n",
    "### 均值滤波"
   ]
  },
  {
   "cell_type": "code",
   "execution_count": null,
   "metadata": {},
   "outputs": [],
   "source": [
    "import numpy as np\n",
    "import open3d as o3d\n",
    "\n",
    "# mesh = o3d.io.read_triangle_mesh(\"PointCloudData/yk_examples/t_pipe.ply\")\n",
    "mesh = o3d.geometry.TriangleMesh.create_sphere()\n",
    "# 向mesh添加噪声\n",
    "vertices = np.asarray(mesh.vertices)\n",
    "noise = 1\n",
    "vertices += np.random.uniform(0, noise, size=vertices.shape)\n",
    "mesh.vertices = o3d.utility.Vector3dVector(vertices)\n",
    "mesh.compute_vertex_normals()\n",
    "o3d.visualization.draw_geometries([mesh])\n",
    "\n",
    "# 均值迭代 1 次\n",
    "mesh_out = mesh.filter_smooth_simple(number_of_iterations=1)\n",
    "mesh_out.compute_vertex_normals()\n",
    "o3d.visualization.draw_geometries([mesh_out])\n",
    "\n",
    "# 均值迭代 5 次\n",
    "mesh_out = mesh.filter_smooth_simple(number_of_iterations=5)\n",
    "mesh_out.compute_vertex_normals()\n",
    "o3d.visualization.draw_geometries([mesh_out])"
   ]
  },
  {
   "cell_type": "markdown",
   "metadata": {},
   "source": [
    "### 拉普拉斯算子"
   ]
  },
  {
   "cell_type": "code",
   "execution_count": null,
   "metadata": {},
   "outputs": [],
   "source": [
    "# 使用拉普拉斯滤波迭代10次\n",
    "mesh_out = mesh.filter_smooth_laplacian(number_of_iterations=10)\n",
    "mesh_out.compute_vertex_normals()\n",
    "o3d.visualization.draw_geometries([mesh_out])\n",
    " \n",
    "# 使用拉普拉斯滤波迭代50次\n",
    "mesh_out = mesh.filter_smooth_laplacian(number_of_iterations=50)\n",
    "mesh_out.compute_vertex_normals()\n",
    "o3d.visualization.draw_geometries([mesh_out])"
   ]
  },
  {
   "cell_type": "markdown",
   "metadata": {},
   "source": [
    "### Taubin滤波"
   ]
  },
  {
   "cell_type": "code",
   "execution_count": null,
   "metadata": {},
   "outputs": [],
   "source": [
    "# 使用taubin滤波迭代10次\n",
    "mesh_out = mesh.filter_smooth_taubin(number_of_iterations=10)\n",
    "mesh_out.compute_vertex_normals()\n",
    "o3d.visualization.draw_geometries([mesh_out])\n",
    " \n",
    "# 使用taubin滤波迭代100次\n",
    "mesh_out = mesh.filter_smooth_taubin(number_of_iterations=100)\n",
    "mesh_out.compute_vertex_normals()\n",
    "o3d.visualization.draw_geometries([mesh_out])"
   ]
  },
  {
   "cell_type": "markdown",
   "metadata": {},
   "source": [
    "## 采样"
   ]
  },
  {
   "cell_type": "code",
   "execution_count": null,
   "metadata": {},
   "outputs": [],
   "source": [
    "# mesh = o3d.geometry.TriangleMesh.create_sphere()\n",
    "mesh = o3d.io.read_triangle_mesh(\"PointCloudData/yk_examples/t_pipe.ply\")\n",
    "mesh.compute_vertex_normals()\n",
    "# 均匀采样\n",
    "o3d.visualization.draw_geometries([mesh])\n",
    "pcd = mesh.sample_points_uniformly(number_of_points=500)\n",
    "o3d.visualization.draw_geometries([pcd])"
   ]
  },
  {
   "cell_type": "code",
   "execution_count": null,
   "metadata": {},
   "outputs": [],
   "source": [
    "# 泊松分布采样\n",
    "pcd = mesh.sample_points_poisson_disk(number_of_points=500, init_factor=5)\n",
    "o3d.visualization.draw_geometries([pcd])\n",
    " \n",
    "# pcd = mesh.sample_points_uniformly(number_of_points=2500)\n",
    "# pcd = mesh.sample_points_poisson_disk(number_of_points=500, pcl=pcd)\n",
    "# o3d.visualization.draw_geometries([pcd])"
   ]
  },
  {
   "cell_type": "markdown",
   "metadata": {},
   "source": [
    "## 网格细分"
   ]
  },
  {
   "cell_type": "code",
   "execution_count": null,
   "metadata": {},
   "outputs": [],
   "source": [
    "# subdivide_midpoint方法，中点作为顶点增加三角形\n",
    "mesh = o3d.geometry.TriangleMesh.create_box()\n",
    "mesh.compute_vertex_normals()\n",
    "print(\n",
    "    f'The mesh has {len(mesh.vertices)} vertices and {len(mesh.triangles)} triangles'\n",
    ")\n",
    "o3d.visualization.draw_geometries([mesh], mesh_show_wireframe=True)\n",
    "mesh = mesh.subdivide_midpoint(number_of_iterations=2)\n",
    "print(\n",
    "    f'After subdivision it has {len(mesh.vertices)} vertices and {len(mesh.triangles)} triangles'\n",
    ")\n",
    "o3d.visualization.draw_geometries([mesh], mesh_show_wireframe=True)\n"
   ]
  },
  {
   "cell_type": "code",
   "execution_count": null,
   "metadata": {},
   "outputs": [],
   "source": [
    "# subdivide_loop方法，边角更加平滑\n",
    "mesh = o3d.geometry.TriangleMesh.create_sphere()\n",
    "mesh.compute_vertex_normals()\n",
    "print(\n",
    "    f'The mesh has {len(mesh.vertices)} vertices and {len(mesh.triangles)} triangles'\n",
    ")\n",
    "o3d.visualization.draw_geometries([mesh], mesh_show_wireframe=True)\n",
    "mesh = mesh.subdivide_loop(number_of_iterations=2)\n",
    "print(\n",
    "    f'After subdivision it has {len(mesh.vertices)} vertices and {len(mesh.triangles)} triangles'\n",
    ")\n",
    "o3d.visualization.draw_geometries([mesh], mesh_show_wireframe=True)"
   ]
  },
  {
   "cell_type": "markdown",
   "metadata": {},
   "source": [
    "## 网格简化\n",
    "### 顶点聚类\n",
    "将所有落入给定大小的体素的顶点聚集到单个顶点"
   ]
  },
  {
   "cell_type": "code",
   "execution_count": null,
   "metadata": {},
   "outputs": [],
   "source": [
    "import copy\n",
    "mesh = o3d.io.read_triangle_mesh(\"PointCloudData\\isl-org_examples\\BunnyMesh.ply\")\n",
    "mesh.compute_vertex_normals()\n",
    "mesh_in = copy.deepcopy(mesh)\n",
    "print(\n",
    "    f'Input mesh has {len(mesh_in.vertices)} vertices and {len(mesh_in.triangles)} triangles'\n",
    ")\n",
    "o3d.visualization.draw_geometries([mesh_in],mesh_show_wireframe=True)\n",
    "\n",
    "\n",
    "# voxel_size设置体素网格大小\n",
    "# contraction定义如何聚集顶点\n",
    "# o3d.geometry.SimplificationContraction.Average 计算一个简单的平均值\n",
    "voxel_size = max(mesh_in.get_max_bound() - mesh_in.get_min_bound()) / 32\n",
    "print(f'voxel_size = {voxel_size:e}')\n",
    "mesh_smp = mesh_in.simplify_vertex_clustering(\n",
    "    voxel_size=voxel_size,\n",
    "    contraction=o3d.geometry.SimplificationContraction.Average)\n",
    "print(\n",
    "    f'Simplified mesh has {len(mesh_smp.vertices)} vertices and {len(mesh_smp.triangles)} triangles'\n",
    ")\n",
    "o3d.visualization.draw_geometries([mesh_smp],mesh_show_wireframe=True)\n",
    "\n",
    "voxel_size = max(mesh_in.get_max_bound() - mesh_in.get_min_bound()) / 16\n",
    "print(f'voxel_size = {voxel_size:e}')\n",
    "mesh_smp = mesh_in.simplify_vertex_clustering(\n",
    "    voxel_size=voxel_size,\n",
    "    contraction=o3d.geometry.SimplificationContraction.Average)\n",
    "print(\n",
    "    f'Simplified mesh has {len(mesh_smp.vertices)} vertices and {len(mesh_smp.triangles)} triangles'\n",
    ")\n",
    "o3d.visualization.draw_geometries([mesh_smp],mesh_show_wireframe=True)\n"
   ]
  },
  {
   "cell_type": "markdown",
   "metadata": {},
   "source": [
    "### 网格抽取\n",
    "逐步执行的网格抽取，选择一个使误差度量最小化的三角形并将其删除。重复此过程直到满足指定的三角形数量时停止。"
   ]
  },
  {
   "cell_type": "code",
   "execution_count": null,
   "metadata": {},
   "outputs": [],
   "source": [
    "mesh_in = copy.deepcopy(mesh)\n",
    "\n",
    "# 参数target_number_of_triangles定义了停止抽取停止的规则\n",
    "mesh_smp = mesh_in.simplify_quadric_decimation(\n",
    "    target_number_of_triangles=6500)\n",
    "print(f'Simplified mesh has {len(mesh_smp.vertices)} vertices and {len(mesh_smp.triangles)} triangles')\n",
    "o3d.visualization.draw_geometries([mesh_smp],mesh_show_wireframe=True)\n",
    " \n",
    "mesh_smp = mesh_in.simplify_quadric_decimation(\n",
    "    target_number_of_triangles=1700)\n",
    "print(f'Simplified mesh has {len(mesh_smp.vertices)} vertices and {len(mesh_smp.triangles)} triangles')\n",
    "o3d.visualization.draw_geometries([mesh_smp],mesh_show_wireframe=True)"
   ]
  },
  {
   "cell_type": "markdown",
   "metadata": {},
   "source": [
    "### 连通分量\n",
    "将每个三角形分配给一组连接的三角形。 它为每个三角形返回cluster_index中的簇索引，每个簇返回cluster_n_triangles中三角形的数目以及cluster_area中簇的表面积"
   ]
  },
  {
   "cell_type": "code",
   "execution_count": 1,
   "metadata": {},
   "outputs": [
    {
     "name": "stdout",
     "output_type": "stream",
     "text": [
      "Jupyter environment detected. Enabling Open3D WebVisualizer.\n",
      "[Open3D INFO] WebRTC GUI backend enabled.\n",
      "[Open3D INFO] WebRTCWindowSystem: HTTP handshake server disabled.\n"
     ]
    }
   ],
   "source": [
    "import open3d as o3d\n",
    "import numpy as np\n",
    "import open3d_example as o3de\n",
    "import copy\n",
    "# 生成数据\n",
    "# mesh = o3de.get_bunny_mesh().subdivide_midpoint(number_of_iterations=2)\n",
    "mesh = o3d.io.read_triangle_mesh(\"PointCloudData\\isl-org_examples\\BunnyMesh.ply\")\n",
    "# mesh.subdivide_midpoint(number_of_iterations=2)\n",
    "mesh.compute_vertex_normals()\n",
    "vert = np.asarray(mesh.vertices)\n",
    "min_vert, max_vert = vert.min(axis=0), vert.max(axis=0)\n",
    "for _ in range(30):\n",
    "    cube = o3d.geometry.TriangleMesh.create_box()\n",
    "    cube.scale(0.005, center=cube.get_center())\n",
    "    cube.translate(\n",
    "        (\n",
    "            np.random.uniform(min_vert[0], max_vert[0]),\n",
    "            np.random.uniform(min_vert[1], max_vert[1]),\n",
    "            np.random.uniform(min_vert[2], max_vert[2]),\n",
    "        ),\n",
    "        relative=False,\n",
    "    )\n",
    "    mesh += cube\n",
    "mesh.compute_vertex_normals()\n",
    "# 显示输入网格\n",
    "o3d.visualization.draw_geometries([mesh],mesh_show_wireframe=True)"
   ]
  },
  {
   "cell_type": "code",
   "execution_count": 2,
   "metadata": {},
   "outputs": [
    {
     "name": "stdout",
     "output_type": "stream",
     "text": [
      "Cluster connected triangles\n",
      "[Open3D DEBUG] [ClusterConnectedTriangles] Compute triangle adjacency\n",
      "[Open3D DEBUG] [ClusterConnectedTriangles] Done computing triangle adjacency\n",
      "[Open3D DEBUG] [ClusterConnectedTriangles] Done clustering, #clusters=31\n"
     ]
    }
   ],
   "source": [
    "print(\"Cluster connected triangles\")\n",
    "with o3d.utility.VerbosityContextManager(o3d.utility.VerbosityLevel.Debug) as cm:\n",
    "    triangle_clusters, cluster_n_triangles, cluster_area = (\n",
    "        mesh.cluster_connected_triangles())\n",
    "triangle_clusters = np.asarray(triangle_clusters)\n",
    "cluster_n_triangles = np.asarray(cluster_n_triangles)\n",
    "cluster_area = np.asarray(cluster_area)"
   ]
  },
  {
   "cell_type": "code",
   "execution_count": 3,
   "metadata": {},
   "outputs": [
    {
     "name": "stdout",
     "output_type": "stream",
     "text": [
      "[Open3D WARNING] GLFW Error: WGL: Failed to make context current: 句柄无效。 \n",
      "[Open3D WARNING] GLFW Error: WGL: Failed to make context current: 不支持请求的转换操作。 \n"
     ]
    }
   ],
   "source": [
    "# 删除小的连通分量\n",
    "mesh_0 = copy.deepcopy(mesh)\n",
    "triangles_to_remove = cluster_n_triangles[triangle_clusters] < 100\n",
    "mesh_0.remove_triangles_by_mask(triangles_to_remove)\n",
    "o3d.visualization.draw_geometries([mesh_0],mesh_show_wireframe=True)"
   ]
  },
  {
   "cell_type": "code",
   "execution_count": 5,
   "metadata": {},
   "outputs": [],
   "source": [
    "# 显示最大的连通分量\n",
    "mesh_1 = copy.deepcopy(mesh)\n",
    "largest_cluster_idx = cluster_n_triangles.argmax()\n",
    "triangles_to_remove = triangle_clusters != largest_cluster_idx\n",
    "mesh_1.remove_triangles_by_mask(triangles_to_remove)\n",
    "o3d.visualization.draw_geometries([mesh_1],mesh_show_wireframe=True)"
   ]
  }
 ],
 "metadata": {
  "kernelspec": {
   "display_name": "Python 3 (ipykernel)",
   "language": "python",
   "name": "python3"
  },
  "language_info": {
   "codemirror_mode": {
    "name": "ipython",
    "version": 3
   },
   "file_extension": ".py",
   "mimetype": "text/x-python",
   "name": "python",
   "nbconvert_exporter": "python",
   "pygments_lexer": "ipython3",
   "version": "3.7.16"
  }
 },
 "nbformat": 4,
 "nbformat_minor": 5
}
