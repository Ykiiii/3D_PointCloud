{
 "cells": [
  {
   "cell_type": "markdown",
   "metadata": {},
   "source": [
    "# 几何基础\n",
    "三维数据基础，包括点云、mesh、深度图、KD树\n",
    "\n",
    "- 官方文档地址：http://www.open3d.org/docs/release/tutorial/geometry/pointcloud.html\n",
    "- o3d.data数据集抽风，我直接把用到的给下下来了\n",
    "- colab不支持open3d三维可视化，jupyter notebook本地运行可视化是弹窗显示"
   ]
  },
  {
   "cell_type": "code",
   "execution_count": 1,
   "metadata": {},
   "outputs": [
    {
     "name": "stdout",
     "output_type": "stream",
     "text": [
      "Jupyter environment detected. Enabling Open3D WebVisualizer.\n",
      "[Open3D INFO] WebRTC GUI backend enabled.\n",
      "[Open3D INFO] WebRTCWindowSystem: HTTP handshake server disabled.\n"
     ]
    }
   ],
   "source": [
    "import open3d as o3d\n",
    "import open3d_example as o3de\n",
    "import numpy as np\n",
    "import copy,time,re\n",
    "import matplotlib.pyplot as plt\n",
    "import matplotlib.image as mpimg"
   ]
  },
  {
   "cell_type": "markdown",
   "metadata": {},
   "source": [
    "## 点云处理\n",
    "### 读取 展示"
   ]
  },
  {
   "cell_type": "code",
   "execution_count": 2,
   "metadata": {},
   "outputs": [
    {
     "name": "stdout",
     "output_type": "stream",
     "text": [
      "PointCloud with 43381 points.\n",
      "[[-0.01911783 -0.03290318  0.98277861]\n",
      " [-0.01802992 -0.03287225  0.98180258]\n",
      " [-0.01769577 -0.03290823  0.98286402]\n",
      " ...\n",
      " [ 0.02130458  0.07828158  0.98029351]\n",
      " [ 0.0216579   0.07827332  0.98019391]\n",
      " [ 0.02201807  0.0782923   0.98043334]]\n",
      "(43381, 3)\n"
     ]
    }
   ],
   "source": [
    "\n",
    "# 读取 展示\n",
    "datadir = \"PointCloudData\\\\yk_examples\\\\rectangle.ply\"\n",
    "pcd = o3d.io.read_point_cloud(datadir)\n",
    "print(pcd)\n",
    "print(np.asarray(pcd.points))\n",
    "print(np.asarray(pcd.points).shape)\n",
    "\n",
    "# 弹窗\"Ctrl+C\"可以复制参数，粘贴即可得到缩放、视角之类的东西\n",
    "o3d.visualization.draw_geometries([pcd],mesh_show_wireframe=True)"
   ]
  },
  {
   "cell_type": "markdown",
   "metadata": {},
   "source": [
    "### 下采样 法线估计"
   ]
  },
  {
   "cell_type": "code",
   "execution_count": null,
   "metadata": {},
   "outputs": [],
   "source": [
    "# 下采样\n",
    "downpcd = pcd.voxel_down_sample(voxel_size = 0.001)\n",
    "# 法线估计，按“N”查看法线，不计算也能直接显示法线\n",
    "downpcd.estimate_normals(search_param=o3d.geometry.KDTreeSearchParamHybrid(radius=0.1, max_nn=30))\n",
    "# np.asarray(downpcd.normals).shape\n",
    "# o3d.visualization.draw_geometries([downpcd])"
   ]
  },
  {
   "cell_type": "markdown",
   "metadata": {},
   "source": [
    "### 裁剪"
   ]
  },
  {
   "cell_type": "code",
   "execution_count": 22,
   "metadata": {},
   "outputs": [],
   "source": [
    "# 裁剪\n",
    "pcd = o3d.io.read_point_cloud(\"PointCloudData\\\\isl-org_examples\\\\fragment.ply\")\n",
    "vol = o3d.visualization.read_selection_polygon_volume(\"PointCloudData\\\\isl-org_examples\\\\cropped.json\")\n",
    "chair = vol.crop_point_cloud(pcd)\n",
    "o3d.visualization.draw_geometries([chair],\n",
    "                                  zoom=0.7,                             # 相机变焦\n",
    "                                  front=[0.5439, -0.2333, -0.8060],     # 相机矢量\n",
    "                                  lookat=[2.4615, 2.1331, 1.338],       # 相机矢量\n",
    "                                  up=[-0.1781, -0.9708, 0.1608])        # 相机矢量\n"
   ]
  },
  {
   "cell_type": "markdown",
   "metadata": {},
   "source": [
    "### 更改颜色"
   ]
  },
  {
   "cell_type": "code",
   "execution_count": 23,
   "metadata": {},
   "outputs": [],
   "source": [
    "# 更改点云颜色，红绿蓝\n",
    "chair.paint_uniform_color([0,0,1])\n",
    "o3d.visualization.draw_geometries([chair],\n",
    "                                zoom=0.7,\n",
    "                                front=[0.5439, -0.2333, -0.8060],\n",
    "                                lookat=[2.4615, 2.1331, 1.338],\n",
    "                                up=[-0.1781, -0.9708, 0.1608]\n",
    "                                )"
   ]
  },
  {
   "cell_type": "markdown",
   "metadata": {},
   "source": [
    "### 计算点云差异"
   ]
  },
  {
   "cell_type": "code",
   "execution_count": null,
   "metadata": {},
   "outputs": [],
   "source": [
    "# 为【源点云(pcd)中的每个点】计算与【目标点云(chair)中最近的点】的距离\n",
    "# 可计算两个点云之间的差异(倒角距离)\n",
    "dists = pcd.compute_point_cloud_distance(chair)\n",
    "dists = np.asarray(dists)\n",
    "ind = np.where(dists > 0.01)[0]\n",
    "pcd_without_chair = pcd.select_by_index(ind)\n",
    "o3d.visualization.draw_geometries([pcd_without_chair],\n",
    "                                  zoom=0.3412,\n",
    "                                  front=[0.4257, -0.2125, -0.8795],\n",
    "                                  lookat=[2.6172, 2.0475, 1.532],\n",
    "                                  up=[-0.0694, -0.9768, 0.2024])"
   ]
  },
  {
   "cell_type": "markdown",
   "metadata": {},
   "source": [
    "### 包围点云的bounding_box"
   ]
  },
  {
   "cell_type": "code",
   "execution_count": 5,
   "metadata": {},
   "outputs": [
    {
     "name": "stdout",
     "output_type": "stream",
     "text": [
      "[Open3D WARNING] GLFW Error: WGL: Failed to make context current: 不支持请求的转换操作。 \n"
     ]
    }
   ],
   "source": [
    "# 包围边界体(矩形框)\n",
    "aabb = chair.get_axis_aligned_bounding_box()\n",
    "aabb.color = (1, 0, 0)\n",
    "obb = chair.get_oriented_bounding_box()\n",
    "obb.color = (0, 1, 0)\n",
    "o3d.visualization.draw_geometries([chair, aabb, obb],\n",
    "                                  zoom=0.7,\n",
    "                                  front=[0.5439, -0.2333, -0.8060],\n",
    "                                  lookat=[2.4615, 2.1331, 1.338],\n",
    "                                  up=[-0.1781, -0.9708, 0.1608])\n"
   ]
  },
  {
   "cell_type": "markdown",
   "metadata": {},
   "source": [
    "### 点云的凸包"
   ]
  },
  {
   "cell_type": "code",
   "execution_count": null,
   "metadata": {},
   "outputs": [],
   "source": [
    "# 点云的最小凸面体\n",
    "hull,idx = chair.compute_convex_hull()\n",
    "hull_ls = o3d.geometry.LineSet.create_from_triangle_mesh(hull)\n",
    "hull_ls.paint_uniform_color((1,0,0))\n",
    "o3d.visualization.draw_geometries([chair,hull_ls],\n",
    "                                  zoom=0.7,\n",
    "                                  front=[0.5439, -0.2333, -0.8060],\n",
    "                                  lookat=[2.4615, 2.1331, 1.338],\n",
    "                                  up=[-0.1781, -0.9708, 0.1608])\n"
   ]
  },
  {
   "cell_type": "markdown",
   "metadata": {},
   "source": [
    "### DBSCAN 聚类"
   ]
  },
  {
   "cell_type": "code",
   "execution_count": 24,
   "metadata": {},
   "outputs": [
    {
     "name": "stdout",
     "output_type": "stream",
     "text": [
      "[Open3D DEBUG] Precompute neighbors.\n",
      "[Open3D DEBUG] Done Precompute neighbors.\n",
      "[Open3D DEBUG] Compute Clusters\n",
      "[Open3D DEBUG] Done Compute Clusters: 10\n",
      "point cloud has 10 clusters\n"
     ]
    }
   ],
   "source": [
    "# DBSCAN 聚类\n",
    "\n",
    "\n",
    "with o3d.utility.VerbosityContextManager(\n",
    "        o3d.utility.VerbosityLevel.Debug) as cm:\n",
    "    labels = np.array(\n",
    "        pcd.cluster_dbscan(eps=0.02, min_points=10, print_progress=True))\n",
    "\n",
    "max_label = labels.max()\n",
    "print(f\"point cloud has {max_label + 1} clusters\")\n",
    "colors = plt.get_cmap(\"tab20\")(labels / (max_label if max_label > 0 else 1))\n",
    "colors[labels < 0] = 0\n",
    "pcd.colors = o3d.utility.Vector3dVector(colors[:, :3])\n",
    "o3d.visualization.draw_geometries([pcd],\n",
    "                                  zoom=0.455,\n",
    "                                  front=[-0.4999, -0.1659, -0.8499],\n",
    "                                  lookat=[2.1813, 2.0619, 2.0999],\n",
    "                                  up=[0.1204, -0.9852, 0.1215])\n"
   ]
  },
  {
   "cell_type": "markdown",
   "metadata": {},
   "source": [
    "### 支持平面检测"
   ]
  },
  {
   "cell_type": "code",
   "execution_count": 4,
   "metadata": {},
   "outputs": [
    {
     "name": "stdout",
     "output_type": "stream",
     "text": [
      "Plane equation: -0.00x + 1.00y + 0.02z + -2.43 = 0\n"
     ]
    }
   ],
   "source": [
    "# 平面检测\n",
    "# 用ransac分割几何基元，找到支持度最大的平面\n",
    "plane_model, inliers = pcd.segment_plane(distance_threshold=0.01, # 一个点与一个估计的平面的最大距离，超过即立群\n",
    "                                         ransac_n=3,              # 平面随机采样点数量\n",
    "                                         num_iterations=1000)     # 随机平面被采样和验证的频率\n",
    "[a, b, c, d] = plane_model                                        # 对于(x,y,z)，若ax+by+cz+d=0，则该点在平面上\n",
    "print(f\"Plane equation: {a:.2f}x + {b:.2f}y + {c:.2f}z + {d:.2f} = 0\")\n",
    "\n",
    "inlier_cloud = pcd.select_by_index(inliers)\n",
    "inlier_cloud.paint_uniform_color([1, 0, 0])\n",
    "outlier_cloud = pcd.select_by_index(inliers, invert=True)\n",
    "o3d.visualization.draw_geometries([inlier_cloud, outlier_cloud],\n",
    "                                  zoom=0.8,\n",
    "                                  front=[-0.4999, -0.1659, -0.8499],\n",
    "                                  lookat=[2.1813, 2.0619, 2.0999],\n",
    "                                  up=[0.1204, -0.9852, 0.1215])\n",
    "\n"
   ]
  },
  {
   "cell_type": "markdown",
   "metadata": {},
   "source": [
    "### 所有平面检测并补全"
   ]
  },
  {
   "cell_type": "code",
   "execution_count": null,
   "metadata": {},
   "outputs": [],
   "source": [
    "# 平面检测并补全\n",
    "# 找到点云中的所有平面,用矩形平面贴出来表示为完整平面\n",
    "pcd.paint_uniform_color((1,1,0))\n",
    "# using all defaults\n",
    "oboxes = pcd.detect_planar_patches(                         # 函数返回 patch 列表,包含BoundingBox对象\n",
    "    normal_variance_threshold_deg=60,                       # 法线偏差允许的值,越小留下的点越少,平面质量越高\n",
    "    coplanarity_deg=75,                                     # 距离平面的允许值,越小留下的点越少,平面质量越高\n",
    "    outlier_ratio=0.75,                                     # 最大允许离群比,越大留下的点越少\n",
    "    min_plane_edge_length=0,                                # 补丁的边缘要比平面大x,才算作平面补丁,0默认1%\n",
    "    min_num_points=0,                                       # 关联八叉树的深度,0默认为点云中点数的0.1%\n",
    "    search_param=o3d.geometry.KDTreeSearchParamKNN(knn=30)) # 每个点最近的K个邻居增长合并\n",
    "\n",
    "print(\"Detected {} patches\".format(len(oboxes)))\n",
    "\n",
    "geometries = []\n",
    "for obox in oboxes:\n",
    "    mesh = o3d.geometry.TriangleMesh.create_from_oriented_bounding_box(obox, scale=[1, 1, 0.0001])\n",
    "    mesh.paint_uniform_color(obox.color)\n",
    "    geometries.append(mesh)\n",
    "    geometries.append(obox)\n",
    "geometries.append(pcd)\n",
    "\n",
    "o3d.visualization.draw_geometries(geometries,\n",
    "                                  zoom=0.62,\n",
    "                                  front=[0.4361, -0.2632, -0.8605],\n",
    "                                  lookat=[2.4947, 1.7728, 1.5541],\n",
    "                                  up=[-0.1726, -0.9630, 0.2071])"
   ]
  },
  {
   "cell_type": "markdown",
   "metadata": {},
   "source": [
    "### 不可见点去除"
   ]
  },
  {
   "cell_type": "code",
   "execution_count": null,
   "metadata": {},
   "outputs": [],
   "source": [
    "datadir = \"PointCloudData\\\\yk_examples\\\\TpipeMesh.ply\"\n",
    "mesh = o3d.io.read_triangle_mesh(datadir)   # 读取文件为 mesh\n",
    "# mesh.compute_vertex_normals()\n",
    "pcd = mesh.sample_points_poisson_disk(5000) # mesh采样为点云\n",
    "diameter = np.linalg.norm(\n",
    "    np.asarray(pcd.get_max_bound()) - np.asarray(pcd.get_min_bound())) # 欧式距离\n",
    "# o3d.visualization.draw_geometries([pcd])"
   ]
  },
  {
   "cell_type": "code",
   "execution_count": null,
   "metadata": {},
   "outputs": [],
   "source": [
    "print(\"Define parameters used for hidden_point_removal\")\n",
    "camera = [0, 0, diameter]   # 相机位置\n",
    "radius = diameter * 100     # 投影半径\n",
    "\n",
    "print(\"Get all points that are visible from given view point\")\n",
    "_, pt_map = pcd.hidden_point_removal(camera, radius)\n",
    "\n",
    "print(\"Visualize result\")\n",
    "pcd = pcd.select_by_index(pt_map)\n",
    "o3d.visualization.draw_geometries([pcd])"
   ]
  },
  {
   "cell_type": "markdown",
   "metadata": {},
   "source": [
    "## mesh处理\n",
    "参考学习地址：https://blog.csdn.net/u014072827/article/details/112399050\n",
    "### 读取 展示"
   ]
  },
  {
   "cell_type": "code",
   "execution_count": 5,
   "metadata": {},
   "outputs": [
    {
     "name": "stdout",
     "output_type": "stream",
     "text": [
      "TriangleMesh with 440 points and 884 triangles.\n",
      "Vertices:\n",
      "[[ 4.96496344 11.06433868 54.        ]\n",
      " [ 1.0656873   8.64243221 54.        ]\n",
      " [ 5.53543854  9.68709087 54.        ]\n",
      " ...\n",
      " [14.          4.50000095 27.        ]\n",
      " [14.74536228  4.52928638 27.74536133]\n",
      " [15.48612785  4.616961   28.48612785]]\n",
      "Triangles:\n",
      "[[  0   1   2]\n",
      " [  2   1   3]\n",
      " [  2   3   4]\n",
      " ...\n",
      " [380 147 149]\n",
      " [380 149 378]\n",
      " [378 149 377]]\n"
     ]
    }
   ],
   "source": [
    "\n",
    "mesh = o3d.io.read_triangle_mesh(\"PointCloudData/yk_examples/TpipeMesh.ply\")\n",
    "print(mesh)\n",
    "print('Vertices:')\n",
    "print(np.asarray(mesh.vertices))\n",
    "print('Triangles:')\n",
    "print(np.asarray(mesh.triangles))\n",
    "# o3d.visualization.draw_geometries([mesh],\n",
    "#                                   zoom=1.3,                             # 相机变焦\n",
    "#                                   front=[0.0032, -0.2870, -0.9579],     # 相机矢量\n",
    "#                                   lookat=[20.0052, 22.3584, 37.2739],   # 相机矢量\n",
    "#                                   up=[0.4301, -0.8644, 0.2604])         # 相机矢量"
   ]
  },
  {
   "cell_type": "markdown",
   "metadata": {},
   "source": [
    "### 可视化3D网格\n",
    "### 表面法线估计"
   ]
  },
  {
   "cell_type": "code",
   "execution_count": 6,
   "metadata": {},
   "outputs": [
    {
     "name": "stdout",
     "output_type": "stream",
     "text": [
      "[[ 0.          0.          1.        ]\n",
      " [ 0.          0.          1.        ]\n",
      " [ 0.          0.          1.        ]\n",
      " ...\n",
      " [ 0.07845896 -0.99691734  0.        ]\n",
      " [-0.03925991 -0.99922903 -0.        ]\n",
      " [-0.11539827 -0.99331694  0.00216814]]\n",
      "[Open3D WARNING] GLFW Error: WGL: Failed to make context current: 不支持请求的转换操作。 \n"
     ]
    }
   ],
   "source": [
    "# 可视化3D网格 表面法线估计\n",
    "mesh.compute_vertex_normals()\n",
    "print(np.asarray(mesh.triangle_normals))        # 表面法线估计\n",
    "o3d.visualization.draw_geometries([mesh],\n",
    "                                  zoom=1.3,                             # 相机变焦\n",
    "                                  front=[0.0032, -0.2870, -0.9579],     # 相机矢量\n",
    "                                  lookat=[20.0052, 22.3584, 37.2739],   # 相机矢量\n",
    "                                  up=[0.4301, -0.8644, 0.2604],\n",
    "                                  mesh_show_wireframe=True\n",
    "                                  )"
   ]
  },
  {
   "cell_type": "markdown",
   "metadata": {},
   "source": [
    "### 裁剪"
   ]
  },
  {
   "cell_type": "code",
   "execution_count": null,
   "metadata": {},
   "outputs": [],
   "source": [
    "\n",
    "# 只取前半个三角形网格\n",
    "mesh1 = copy.deepcopy(mesh)\n",
    "mesh1.triangles = o3d.utility.Vector3iVector(\n",
    "    np.asarray(mesh1.triangles)[:len(mesh1.triangles) // 2, :])\n",
    "mesh1.triangle_normals = o3d.utility.Vector3dVector(\n",
    "    np.asarray(mesh1.triangle_normals)[:len(mesh1.triangle_normals) // 2, :])\n",
    "print(mesh1.triangles)\n",
    "o3d.visualization.draw_geometries([mesh1],\n",
    "                                  zoom=1.3,                             # 相机变焦\n",
    "                                  front=[0.0032, -0.2870, -0.9579],     # 相机矢量\n",
    "                                  lookat=[20.0052, 22.3584, 37.2739],   # 相机矢量\n",
    "                                  up=[0.4301, -0.8644, 0.2604])         # 相机矢量\n"
   ]
  },
  {
   "cell_type": "markdown",
   "metadata": {},
   "source": [
    "### 更改颜色"
   ]
  },
  {
   "cell_type": "code",
   "execution_count": null,
   "metadata": {},
   "outputs": [],
   "source": [
    "# 涂色\n",
    "mesh1.paint_uniform_color([1, 0.706, 0])\n",
    "o3d.visualization.draw_geometries([mesh1],\n",
    "                                  zoom=1.3,                             # 相机变焦\n",
    "                                  front=[0.0032, -0.2870, -0.9579],     # 相机矢量\n",
    "                                  lookat=[20.0052, 22.3584, 37.2739],   # 相机矢量\n",
    "                                  up=[0.4301, -0.8644, 0.2604])         # 相机矢量\n"
   ]
  },
  {
   "cell_type": "markdown",
   "metadata": {},
   "source": [
    "### 网格属性\n",
    "check函数为官网doc中的例程，get_mesh函数为官方github中open3d_example\n",
    "\n",
    "参考学习地址：https://blog.csdn.net/u014072827/article/details/112399050"
   ]
  },
  {
   "cell_type": "code",
   "execution_count": null,
   "metadata": {},
   "outputs": [],
   "source": [
    "\n",
    "def check_properties(name, mesh):\n",
    "    mesh.compute_vertex_normals()\n",
    "    edge_manifold = mesh.is_edge_manifold(allow_boundary_edges=True)\n",
    "    edge_manifold_boundary = mesh.is_edge_manifold(allow_boundary_edges=False)\n",
    "    vertex_manifold = mesh.is_vertex_manifold()\n",
    "    self_intersecting = mesh.is_self_intersecting()\n",
    "    watertight = mesh.is_watertight()\n",
    "    orientable = mesh.is_orientable()\n",
    "\n",
    "    print(name)\n",
    "    print(f\"  edge_manifold:          {edge_manifold}\")             # 是否为边缘流形(考虑边界)\n",
    "    print(f\"  edge_manifold_boundary: {edge_manifold_boundary}\")    # 是否为边缘流形(不考虑边界)\n",
    "    print(f\"  vertex_manifold:        {vertex_manifold}\")           # 是否为所有顶点为流形\n",
    "    print(f\"  self_intersecting:      {self_intersecting}\")         # 是否为自相交网格\n",
    "    print(f\"  watertight:             {watertight}\")                # 是否为水密网格\n",
    "    print(f\"  orientable:             {orientable}\")                # 是否为可定向的网格\n",
    "\n",
    "    geoms = [mesh]\n",
    "    if not edge_manifold:\n",
    "        edges = mesh.get_non_manifold_edges(allow_boundary_edges=True)\n",
    "        geoms.append(o3de.edges_to_lineset(mesh, edges, (1, 0, 0)))\n",
    "    if not edge_manifold_boundary:\n",
    "        edges = mesh.get_non_manifold_edges(allow_boundary_edges=False)\n",
    "        geoms.append(o3de.edges_to_lineset(mesh, edges, (0, 1, 0)))\n",
    "    if not vertex_manifold:\n",
    "        verts = np.asarray(mesh.get_non_manifold_vertices())\n",
    "        pcl = o3d.geometry.PointCloud(\n",
    "            points=o3d.utility.Vector3dVector(np.asarray(mesh.vertices)[verts]))\n",
    "        pcl.paint_uniform_color((0, 0, 1))\n",
    "        geoms.append(pcl)\n",
    "    if self_intersecting:\n",
    "        intersecting_triangles = np.asarray(\n",
    "            mesh.get_self_intersecting_triangles())\n",
    "        intersecting_triangles = intersecting_triangles[0:1]\n",
    "        intersecting_triangles = np.unique(intersecting_triangles)\n",
    "        print(\"  # visualize self-intersecting triangles\")\n",
    "        triangles = np.asarray(mesh.triangles)[intersecting_triangles]\n",
    "        edges = [\n",
    "            np.vstack((triangles[:, i], triangles[:, j]))\n",
    "            for i, j in [(0, 1), (1, 2), (2, 0)]\n",
    "        ]\n",
    "        edges = np.hstack(edges).T\n",
    "        edges = o3d.utility.Vector2iVector(edges)\n",
    "        geoms.append(o3de.edges_to_lineset(mesh, edges, (1, 0, 1)))\n",
    "    o3d.visualization.draw_geometries(geoms, mesh_show_back_face=True)\n",
    "\n",
    "if __name__ ==\"__main__\":\n",
    "    check_properties('t-pipe', mesh)\n",
    "    check_properties(\"plane\",o3de.get_plane_mesh())\n",
    "    check_properties(\"non-manifold edge\", o3de.get_non_manifold_edge_mesh())\n",
    "    check_properties(\"non-manifold vertex\", o3de.get_non_manifold_vertex_mesh())\n",
    "    check_properties(\"open box\", o3de.get_open_box_mesh())\n",
    "    check_properties(\"intersecting_boxes\", o3de.get_intersecting_boxes_mesh())"
   ]
  },
  {
   "cell_type": "markdown",
   "metadata": {},
   "source": [
    "### 网格滤波\n",
    "#### 均值滤波"
   ]
  },
  {
   "cell_type": "code",
   "execution_count": null,
   "metadata": {},
   "outputs": [],
   "source": [
    "\n",
    "\n",
    "# mesh = o3d.io.read_triangle_mesh(\"PointCloudData/yk_examples/TpipeMesh.ply\")\n",
    "mesh = o3d.geometry.TriangleMesh.create_sphere()\n",
    "# 向mesh添加噪声\n",
    "vertices = np.asarray(mesh.vertices)\n",
    "noise = 1\n",
    "vertices += np.random.uniform(0, noise, size=vertices.shape)\n",
    "mesh.vertices = o3d.utility.Vector3dVector(vertices)\n",
    "mesh.compute_vertex_normals()\n",
    "o3d.visualization.draw_geometries([mesh])\n",
    "\n",
    "# 均值迭代 1 次\n",
    "mesh_out = mesh.filter_smooth_simple(number_of_iterations=1)\n",
    "mesh_out.compute_vertex_normals()\n",
    "o3d.visualization.draw_geometries([mesh_out])\n",
    "\n",
    "# 均值迭代 5 次\n",
    "mesh_out = mesh.filter_smooth_simple(number_of_iterations=5)\n",
    "mesh_out.compute_vertex_normals()\n",
    "o3d.visualization.draw_geometries([mesh_out])"
   ]
  },
  {
   "cell_type": "markdown",
   "metadata": {},
   "source": [
    "#### 拉普拉斯算子"
   ]
  },
  {
   "cell_type": "code",
   "execution_count": null,
   "metadata": {},
   "outputs": [],
   "source": [
    "# 使用拉普拉斯滤波迭代10次\n",
    "mesh_out = mesh.filter_smooth_laplacian(number_of_iterations=10)\n",
    "mesh_out.compute_vertex_normals()\n",
    "o3d.visualization.draw_geometries([mesh_out])\n",
    " \n",
    "# 使用拉普拉斯滤波迭代50次\n",
    "mesh_out = mesh.filter_smooth_laplacian(number_of_iterations=50)\n",
    "mesh_out.compute_vertex_normals()\n",
    "o3d.visualization.draw_geometries([mesh_out])"
   ]
  },
  {
   "cell_type": "markdown",
   "metadata": {},
   "source": [
    "#### Taubin滤波"
   ]
  },
  {
   "cell_type": "code",
   "execution_count": null,
   "metadata": {},
   "outputs": [],
   "source": [
    "# 使用taubin滤波迭代10次\n",
    "mesh_out = mesh.filter_smooth_taubin(number_of_iterations=10)\n",
    "mesh_out.compute_vertex_normals()\n",
    "o3d.visualization.draw_geometries([mesh_out])\n",
    " \n",
    "# 使用taubin滤波迭代100次\n",
    "mesh_out = mesh.filter_smooth_taubin(number_of_iterations=100)\n",
    "mesh_out.compute_vertex_normals()\n",
    "o3d.visualization.draw_geometries([mesh_out])"
   ]
  },
  {
   "cell_type": "markdown",
   "metadata": {},
   "source": [
    "### 采样(mesh转点云)"
   ]
  },
  {
   "cell_type": "code",
   "execution_count": null,
   "metadata": {},
   "outputs": [],
   "source": [
    "# mesh = o3d.geometry.TriangleMesh.create_sphere()\n",
    "mesh = o3d.io.read_triangle_mesh(\"PointCloudData/yk_examples/TpipeMesh.ply\")\n",
    "mesh.compute_vertex_normals()\n",
    "# 均匀采样\n",
    "o3d.visualization.draw_geometries([mesh])\n",
    "pcd = mesh.sample_points_uniformly(number_of_points=500)\n",
    "o3d.visualization.draw_geometries([pcd])"
   ]
  },
  {
   "cell_type": "code",
   "execution_count": null,
   "metadata": {},
   "outputs": [],
   "source": [
    "# 泊松分布采样\n",
    "pcd = mesh.sample_points_poisson_disk(number_of_points=500, init_factor=5)\n",
    "o3d.visualization.draw_geometries([pcd])\n",
    " \n",
    "# pcd = mesh.sample_points_uniformly(number_of_points=2500)\n",
    "# pcd = mesh.sample_points_poisson_disk(number_of_points=500, pcl=pcd)\n",
    "# o3d.visualization.draw_geometries([pcd])"
   ]
  },
  {
   "cell_type": "markdown",
   "metadata": {},
   "source": [
    "### 网格细分"
   ]
  },
  {
   "cell_type": "code",
   "execution_count": null,
   "metadata": {},
   "outputs": [],
   "source": [
    "# subdivide_midpoint方法，中点作为顶点增加三角形\n",
    "mesh = o3d.geometry.TriangleMesh.create_box()\n",
    "mesh.compute_vertex_normals()\n",
    "print(\n",
    "    f'The mesh has {len(mesh.vertices)} vertices and {len(mesh.triangles)} triangles'\n",
    ")\n",
    "o3d.visualization.draw_geometries([mesh], mesh_show_wireframe=True)\n",
    "mesh = mesh.subdivide_midpoint(number_of_iterations=2)\n",
    "print(\n",
    "    f'After subdivision it has {len(mesh.vertices)} vertices and {len(mesh.triangles)} triangles'\n",
    ")\n",
    "o3d.visualization.draw_geometries([mesh], mesh_show_wireframe=True)\n"
   ]
  },
  {
   "cell_type": "code",
   "execution_count": null,
   "metadata": {},
   "outputs": [],
   "source": [
    "# subdivide_loop方法，边角更加平滑\n",
    "mesh = o3d.geometry.TriangleMesh.create_sphere()\n",
    "mesh.compute_vertex_normals()\n",
    "print(\n",
    "    f'The mesh has {len(mesh.vertices)} vertices and {len(mesh.triangles)} triangles'\n",
    ")\n",
    "o3d.visualization.draw_geometries([mesh], mesh_show_wireframe=True)\n",
    "mesh = mesh.subdivide_loop(number_of_iterations=2)\n",
    "print(\n",
    "    f'After subdivision it has {len(mesh.vertices)} vertices and {len(mesh.triangles)} triangles'\n",
    ")\n",
    "o3d.visualization.draw_geometries([mesh], mesh_show_wireframe=True)"
   ]
  },
  {
   "cell_type": "markdown",
   "metadata": {},
   "source": [
    "### 网格简化\n",
    "#### 顶点聚类\n",
    "将所有落入给定大小的体素的顶点聚集到单个顶点"
   ]
  },
  {
   "cell_type": "code",
   "execution_count": null,
   "metadata": {},
   "outputs": [],
   "source": [
    "\n",
    "mesh = o3d.io.read_triangle_mesh(\"PointCloudData\\isl-org_examples\\BunnyMesh.ply\")\n",
    "mesh.compute_vertex_normals()\n",
    "mesh_in = copy.deepcopy(mesh)\n",
    "print(\n",
    "    f'Input mesh has {len(mesh_in.vertices)} vertices and {len(mesh_in.triangles)} triangles'\n",
    ")\n",
    "o3d.visualization.draw_geometries([mesh_in],mesh_show_wireframe=True)\n",
    "\n",
    "\n",
    "# voxel_size设置体素网格大小\n",
    "# contraction定义如何聚集顶点\n",
    "# o3d.geometry.SimplificationContraction.Average 计算一个简单的平均值\n",
    "voxel_size = max(mesh_in.get_max_bound() - mesh_in.get_min_bound()) / 32\n",
    "print(f'voxel_size = {voxel_size:e}')\n",
    "mesh_smp = mesh_in.simplify_vertex_clustering(\n",
    "    voxel_size=voxel_size,\n",
    "    contraction=o3d.geometry.SimplificationContraction.Average)\n",
    "print(\n",
    "    f'Simplified mesh has {len(mesh_smp.vertices)} vertices and {len(mesh_smp.triangles)} triangles'\n",
    ")\n",
    "o3d.visualization.draw_geometries([mesh_smp],mesh_show_wireframe=True)\n",
    "\n",
    "voxel_size = max(mesh_in.get_max_bound() - mesh_in.get_min_bound()) / 16\n",
    "print(f'voxel_size = {voxel_size:e}')\n",
    "mesh_smp = mesh_in.simplify_vertex_clustering(\n",
    "    voxel_size=voxel_size,\n",
    "    contraction=o3d.geometry.SimplificationContraction.Average)\n",
    "print(\n",
    "    f'Simplified mesh has {len(mesh_smp.vertices)} vertices and {len(mesh_smp.triangles)} triangles'\n",
    ")\n",
    "o3d.visualization.draw_geometries([mesh_smp],mesh_show_wireframe=True)\n"
   ]
  },
  {
   "cell_type": "markdown",
   "metadata": {},
   "source": [
    "#### 网格抽取\n",
    "逐步执行的网格抽取，选择一个使误差度量最小化的三角形并将其删除。重复此过程直到满足指定的三角形数量时停止。"
   ]
  },
  {
   "cell_type": "code",
   "execution_count": null,
   "metadata": {},
   "outputs": [],
   "source": [
    "mesh_in = copy.deepcopy(mesh)\n",
    "\n",
    "# 参数target_number_of_triangles定义了停止抽取停止的规则\n",
    "mesh_smp = mesh_in.simplify_quadric_decimation(\n",
    "    target_number_of_triangles=6500)\n",
    "print(f'Simplified mesh has {len(mesh_smp.vertices)} vertices and {len(mesh_smp.triangles)} triangles')\n",
    "o3d.visualization.draw_geometries([mesh_smp],mesh_show_wireframe=True)\n",
    " \n",
    "mesh_smp = mesh_in.simplify_quadric_decimation(\n",
    "    target_number_of_triangles=1700)\n",
    "print(f'Simplified mesh has {len(mesh_smp.vertices)} vertices and {len(mesh_smp.triangles)} triangles')\n",
    "o3d.visualization.draw_geometries([mesh_smp],mesh_show_wireframe=True)"
   ]
  },
  {
   "cell_type": "markdown",
   "metadata": {},
   "source": [
    "#### 连通分量\n",
    "将每个三角形分配给一组连接的三角形。 它为每个三角形返回cluster_index中的簇索引，每个簇返回cluster_n_triangles中三角形的数目以及cluster_area中簇的表面积"
   ]
  },
  {
   "cell_type": "code",
   "execution_count": null,
   "metadata": {},
   "outputs": [],
   "source": [
    "\n",
    "# 生成数据\n",
    "# mesh = o3de.get_bunny_mesh().subdivide_midpoint(number_of_iterations=2)\n",
    "mesh = o3d.io.read_triangle_mesh(\"PointCloudData\\isl-org_examples\\BunnyMesh.ply\")\n",
    "# mesh.subdivide_midpoint(number_of_iterations=2)\n",
    "mesh.compute_vertex_normals()\n",
    "vert = np.asarray(mesh.vertices)\n",
    "min_vert, max_vert = vert.min(axis=0), vert.max(axis=0)\n",
    "for _ in range(30):\n",
    "    cube = o3d.geometry.TriangleMesh.create_box()\n",
    "    cube.scale(0.005, center=cube.get_center())\n",
    "    cube.translate(\n",
    "        (\n",
    "            np.random.uniform(min_vert[0], max_vert[0]),\n",
    "            np.random.uniform(min_vert[1], max_vert[1]),\n",
    "            np.random.uniform(min_vert[2], max_vert[2]),\n",
    "        ),\n",
    "        relative=False,\n",
    "    )\n",
    "    mesh += cube\n",
    "mesh.compute_vertex_normals()\n",
    "# 显示输入网格\n",
    "o3d.visualization.draw_geometries([mesh],mesh_show_wireframe=True)"
   ]
  },
  {
   "cell_type": "code",
   "execution_count": null,
   "metadata": {},
   "outputs": [],
   "source": [
    "print(\"Cluster connected triangles\")\n",
    "with o3d.utility.VerbosityContextManager(o3d.utility.VerbosityLevel.Debug) as cm:\n",
    "    triangle_clusters, cluster_n_triangles, cluster_area = (\n",
    "        mesh.cluster_connected_triangles())\n",
    "triangle_clusters = np.asarray(triangle_clusters)\n",
    "cluster_n_triangles = np.asarray(cluster_n_triangles)\n",
    "cluster_area = np.asarray(cluster_area)"
   ]
  },
  {
   "cell_type": "code",
   "execution_count": null,
   "metadata": {},
   "outputs": [],
   "source": [
    "# 删除小的连通分量\n",
    "mesh_0 = copy.deepcopy(mesh)\n",
    "triangles_to_remove = cluster_n_triangles[triangle_clusters] < 100\n",
    "mesh_0.remove_triangles_by_mask(triangles_to_remove)\n",
    "o3d.visualization.draw_geometries([mesh_0],mesh_show_wireframe=True)"
   ]
  },
  {
   "cell_type": "code",
   "execution_count": null,
   "metadata": {},
   "outputs": [],
   "source": [
    "# 显示最大的连通分量\n",
    "mesh_1 = copy.deepcopy(mesh)\n",
    "largest_cluster_idx = cluster_n_triangles.argmax()\n",
    "triangles_to_remove = triangle_clusters != largest_cluster_idx\n",
    "mesh_1.remove_triangles_by_mask(triangles_to_remove)\n",
    "o3d.visualization.draw_geometries([mesh_1],mesh_show_wireframe=True)"
   ]
  },
  {
   "cell_type": "markdown",
   "metadata": {},
   "source": [
    "## 深度图\n",
    "### 读取 展示"
   ]
  },
  {
   "cell_type": "code",
   "execution_count": 3,
   "metadata": {},
   "outputs": [
    {
     "name": "stdout",
     "output_type": "stream",
     "text": [
      "RGBDImage of size \n",
      "Color image : 640x480, with 1 channels.\n",
      "Depth image : 640x480, with 1 channels.\n",
      "Use numpy.asarray to access buffer data.\n"
     ]
    },
    {
     "data": {
      "image/png": "[encoded data removed]",
      "text/plain": [
       "<Figure size 640x480 with 2 Axes>"
      ]
     },
     "metadata": {},
     "output_type": "display_data"
    }
   ],
   "source": [
    "\n",
    "color_raw = o3d.io.read_image(\"RGBD_Data\\\\SampleRedwoodRGBDImages\\\\color\\\\00000.jpg\")\n",
    "depth_raw = o3d.io.read_image(\"RGBD_Data\\\\SampleFountainRGBDImages\\\\depth\\\\0000038-000001234662.png\")\n",
    "\n",
    "# color_raw = o3d.io.read_image(\"RGBD_Data\\\\SampleRedwoodRGBDImages\\\\color\\\\00000.jpg\")\n",
    "# depth_raw = o3d.io.read_image(\"RGBD_Data\\\\SampleRedwoodRGBDImages\\\\depth\\\\00000.png\")\n",
    "rgbd_image = o3d.geometry.RGBDImage.create_from_color_and_depth(\n",
    "    color_raw, depth_raw)\n",
    "print(rgbd_image)\n",
    "plt.subplot(1, 2, 1)\n",
    "plt.title('Redwood grayscale image')\n",
    "plt.imshow(rgbd_image.color)\n",
    "plt.subplot(1, 2, 2)\n",
    "plt.title('Redwood depth image')\n",
    "plt.imshow(rgbd_image.depth)\n",
    "plt.show()"
   ]
  },
  {
   "cell_type": "code",
   "execution_count": 4,
   "id": "8509d36f",
   "metadata": {},
   "outputs": [
    {
     "data": {
      "text/plain": [
       "Image of size 640x480, with 1 channels.\n",
       "Use numpy.asarray to access buffer data."
      ]
     },
     "execution_count": 4,
     "metadata": {},
     "output_type": "execute_result"
    }
   ],
   "source": [
    "rgbd_image.color"
   ]
  },
  {
   "cell_type": "code",
   "execution_count": null,
   "id": "3f211c03",
   "metadata": {},
   "outputs": [],
   "source": []
  },
  {
   "cell_type": "code",
   "execution_count": null,
   "id": "869aa602",
   "metadata": {},
   "outputs": [],
   "source": []
  },
  {
   "cell_type": "markdown",
   "metadata": {},
   "source": [
    "### 转换为点云\n",
    "在给定一组相机内参的情况下，RGBD图像可以被转换为点云。"
   ]
  },
  {
   "cell_type": "code",
   "execution_count": 5,
   "metadata": {},
   "outputs": [
    {
     "name": "stdout",
     "output_type": "stream",
     "text": [
      "[Open3D WARNING] GLFW Error: WGL: Failed to make context current: 句柄无效。 \n"
     ]
    }
   ],
   "source": [
    "# 从深度图生成点云\n",
    "# 给定相机内参，默认内参\n",
    "# 图像分辨率为640x480，焦距（fx, fy）=（525.0, 525.0），光学中心（cx, cy）=（319.5, 239.5）\n",
    "pcd = o3d.geometry.PointCloud.create_from_rgbd_image(\n",
    "    rgbd_image,\n",
    "    o3d.camera.PinholeCameraIntrinsic(\n",
    "        o3d.camera.PinholeCameraIntrinsicParameters.PrimeSenseDefault))\n",
    "# 翻转，相机小孔成像\n",
    "pcd.transform([[1, 0, 0, 0], [0, -1, 0, 0], [0, 0, -1, 0], [0, 0, 0, 1]])\n",
    "o3d.visualization.draw_geometries([pcd])"
   ]
  },
  {
   "cell_type": "markdown",
   "metadata": {},
   "source": [
    "### 可视化SUN数据集\n",
    "建立RGBD的函数不一样"
   ]
  },
  {
   "cell_type": "code",
   "execution_count": null,
   "metadata": {},
   "outputs": [],
   "source": [
    "\n",
    "color_raw = o3d.io.read_image(\"RGBD_Data\\SampleSUNRGBDImage\\SUN_color.jpg\")\n",
    "depth_raw = o3d.io.read_image(\"RGBD_Data\\SampleSUNRGBDImage\\SUN_depth.png\")\n",
    "rgbd_image = o3d.geometry.RGBDImage.create_from_sun_format(\n",
    "    color_raw, depth_raw)\n",
    "print(rgbd_image)\n",
    "plt.subplot(1, 2, 1)\n",
    "plt.title('SUN grayscale image')\n",
    "plt.imshow(rgbd_image.color)\n",
    "plt.subplot(1, 2, 2)\n",
    "plt.title('SUN depth image')\n",
    "plt.imshow(rgbd_image.depth)\n",
    "plt.show()"
   ]
  },
  {
   "cell_type": "code",
   "execution_count": null,
   "metadata": {},
   "outputs": [],
   "source": [
    "pcd = o3d.geometry.PointCloud.create_from_rgbd_image(\n",
    "    rgbd_image,\n",
    "    o3d.camera.PinholeCameraIntrinsic(\n",
    "        o3d.camera.PinholeCameraIntrinsicParameters.PrimeSenseDefault))\n",
    "# Flip it, otherwise the pointcloud will be upside down\n",
    "pcd.transform([[1, 0, 0, 0], [0, -1, 0, 0], [0, 0, -1, 0], [0, 0, 0, 1]])\n",
    "o3d.visualization.draw_geometries([pcd])"
   ]
  },
  {
   "cell_type": "markdown",
   "metadata": {},
   "source": [
    "### 可视化NYU数据集\n",
    "NYU数据集的图像不是标准的jpg或png格式，使用mpimg.imread来读取作为numpy数组的彩色图像并将其转换为Open3D图像\n",
    "\n",
    "- 调用了一个辅助函数read_nyu_pgm，从纽约大学数据集中使用的特殊格式中读取深度图像\n",
    "- 使用转换函数create_rgbd_image_from_nyu_format来解析SUN数据集中的深度图像\n",
    "\n"
   ]
  },
  {
   "cell_type": "code",
   "execution_count": null,
   "metadata": {},
   "outputs": [],
   "source": [
    "\n",
    "\n",
    "# This is special function used for reading NYU pgm format\n",
    "# as it is written in big endian byte order.\n",
    "def read_nyu_pgm(filename, byteorder='>'):\n",
    "    with open(filename, 'rb') as f:\n",
    "        buffer = f.read()\n",
    "    try:\n",
    "        header, width, height, maxval = re.search(\n",
    "            b\"(^P5\\s(?:\\s*#.*[\\r\\n])*\"\n",
    "            b\"(\\d+)\\s(?:\\s*#.*[\\r\\n])*\"\n",
    "            b\"(\\d+)\\s(?:\\s*#.*[\\r\\n])*\"\n",
    "            b\"(\\d+)\\s(?:\\s*#.*[\\r\\n]\\s)*)\", buffer).groups()\n",
    "    except AttributeError:\n",
    "        raise ValueError(\"Not a raw PGM file: '%s'\" % filename)\n",
    "    img = np.frombuffer(buffer,\n",
    "                        dtype=byteorder + 'u2',\n",
    "                        count=int(width) * int(height),\n",
    "                        offset=len(header)).reshape((int(height), int(width)))\n",
    "    img_out = img.astype('u2')\n",
    "    return img_out\n",
    "\n",
    "\n",
    "print(\"Read NYU dataset\")\n",
    "# Open3D does not support ppm/pgm file yet. Not using o3d.io.read_image here.\n",
    "# MathplotImage having some ISSUE with NYU pgm file. Not using imread for pgm.\n",
    "\n",
    "color_raw = mpimg.imread(\"RGBD_Data\\\\SampleNYURGBDImage\\\\NYU_color.ppm\")\n",
    "depth_raw = read_nyu_pgm(\"RGBD_Data\\\\SampleNYURGBDImage\\\\NYU_depth.pgm\")\n",
    "color = o3d.geometry.Image(color_raw)\n",
    "depth = o3d.geometry.Image(depth_raw)\n",
    "rgbd_image = o3d.geometry.RGBDImage.create_from_nyu_format(color, depth)\n",
    "print(rgbd_image)\n",
    "plt.subplot(1, 2, 1)\n",
    "plt.title('NYU grayscale image')\n",
    "plt.imshow(rgbd_image.color)\n",
    "plt.subplot(1, 2, 2)\n",
    "plt.title('NYU depth image')\n",
    "plt.imshow(rgbd_image.depth)\n",
    "plt.show()"
   ]
  },
  {
   "cell_type": "code",
   "execution_count": null,
   "metadata": {},
   "outputs": [],
   "source": [
    "pcd = o3d.geometry.PointCloud.create_from_rgbd_image(\n",
    "    rgbd_image,\n",
    "    o3d.camera.PinholeCameraIntrinsic(\n",
    "        o3d.camera.PinholeCameraIntrinsicParameters.PrimeSenseDefault))\n",
    "# Flip it, otherwise the pointcloud will be upside down\n",
    "pcd.transform([[1, 0, 0, 0], [0, -1, 0, 0], [0, 0, -1, 0], [0, 0, 0, 1]])\n",
    "o3d.visualization.draw_geometries([pcd])"
   ]
  },
  {
   "cell_type": "markdown",
   "metadata": {},
   "source": [
    "### 可视化TUM数据集\n",
    "(官方文档下错数据集了)\n",
    "\n",
    "使用转换函数create_rgbd_image_from_tum_format来解析TUM数据集中的深度图像"
   ]
  },
  {
   "cell_type": "code",
   "execution_count": null,
   "metadata": {},
   "outputs": [],
   "source": [
    "color_raw = o3d.io.read_image(\"RGBD_Data\\SampleTUMRGBDImage\\TUM_color.png\")\n",
    "depth_raw = o3d.io.read_image(\"RGBD_Data\\SampleTUMRGBDImage\\TUM_depth.png\")\n",
    "rgbd_image = o3d.geometry.RGBDImage.create_from_tum_format(color_raw, depth_raw)\n",
    "print(rgbd_image)\n",
    "plt.subplot(1, 2, 1)\n",
    "plt.title('TUM grayscale image')\n",
    "plt.imshow(rgbd_image.color)\n",
    "plt.subplot(1, 2, 2)\n",
    "plt.title('TUM depth image')\n",
    "plt.imshow(rgbd_image.depth)\n",
    "plt.show()"
   ]
  },
  {
   "cell_type": "code",
   "execution_count": null,
   "metadata": {},
   "outputs": [],
   "source": [
    "pcd = o3d.geometry.PointCloud.create_from_rgbd_image(\n",
    "    rgbd_image,\n",
    "    o3d.camera.PinholeCameraIntrinsic(\n",
    "        o3d.camera.PinholeCameraIntrinsicParameters.PrimeSenseDefault))\n",
    "# Flip it, otherwise the pointcloud will be upside down\n",
    "pcd.transform([[1, 0, 0, 0], [0, -1, 0, 0], [0, 0, -1, 0], [0, 0, 0, 1]])\n",
    "o3d.visualization.draw_geometries([pcd])"
   ]
  },
  {
   "cell_type": "markdown",
   "metadata": {},
   "source": [
    "## KD树\n",
    "### 从点云建立DK树"
   ]
  },
  {
   "cell_type": "code",
   "execution_count": null,
   "metadata": {},
   "outputs": [],
   "source": [
    "\n",
    "mesh = o3d.io.read_triangle_mesh(\"PointCloudData/yk_examples/TpipeMesh.ply\")\n",
    "pcd = mesh.sample_points_uniformly(number_of_points=5000)\n",
    "\n",
    "# pcd = o3d.io.read_point_cloud(\"PointCloudData\\\\yk_examples\\\\TpipeMesh.ply\")\n",
    "pcd.paint_uniform_color([0.5, 0.5, 0.5])\n",
    "pcd_tree = o3d.geometry.KDTreeFlann(pcd)"
   ]
  },
  {
   "cell_type": "markdown",
   "metadata": {},
   "source": [
    "### 寻找相邻的点"
   ]
  },
  {
   "cell_type": "code",
   "execution_count": null,
   "metadata": {},
   "outputs": [],
   "source": [
    "# 挑选第100个（数组以0为索引）点作为锚点，并将其涂成红色\n",
    "\n",
    "pcd.colors[100] = [1, 0, 0]\n",
    "o3d.visualization.draw_geometries([pcd])"
   ]
  },
  {
   "cell_type": "markdown",
   "metadata": {},
   "source": [
    "#### KNN搜寻\n",
    "返回锚点的k个最近的邻居的索引列表"
   ]
  },
  {
   "cell_type": "code",
   "execution_count": null,
   "metadata": {},
   "outputs": [],
   "source": [
    "print(\"Find its 30 nearest neighbors, and paint them blue.\")\n",
    "[k, idx, _] = pcd_tree.search_knn_vector_3d(pcd.points[100], 30)\n",
    "np.asarray(pcd.colors)[idx[1:], :] = [0, 0, 1]  # 涂蓝\n",
    "o3d.visualization.draw_geometries([pcd])"
   ]
  },
  {
   "cell_type": "markdown",
   "metadata": {},
   "source": [
    "#### 半径搜寻\n",
    "返回与锚点距离小于给定半径的点"
   ]
  },
  {
   "cell_type": "code",
   "execution_count": null,
   "metadata": {},
   "outputs": [],
   "source": [
    "print(\"Find its neighbors with distance less than 2, and paint them green.\")\n",
    "[k, idx, _] = pcd_tree.search_radius_vector_3d(pcd.points[100], 2)\n",
    "np.asarray(pcd.colors)[idx[1:], :] = [0, 1, 0]  # 涂绿\n",
    "o3d.visualization.draw_geometries([pcd])"
   ]
  },
  {
   "cell_type": "markdown",
   "metadata": {},
   "source": [
    "# 数据处理\n",
    "## 文件IO\n",
    "### 点云读写"
   ]
  },
  {
   "cell_type": "code",
   "execution_count": 2,
   "metadata": {},
   "outputs": [
    {
     "name": "stdout",
     "output_type": "stream",
     "text": [
      "Jupyter environment detected. Enabling Open3D WebVisualizer.\n",
      "[Open3D INFO] WebRTC GUI backend enabled.\n",
      "[Open3D INFO] WebRTCWindowSystem: HTTP handshake server disabled.\n"
     ]
    }
   ],
   "source": [
    "import open3d as o3d\n",
    "import open3d_example as o3de\n",
    "import numpy as np\n",
    "import copy,time,re\n",
    "import matplotlib.pyplot as plt\n",
    "import matplotlib.image as mpimg"
   ]
  },
  {
   "cell_type": "code",
   "execution_count": null,
   "metadata": {},
   "outputs": [],
   "source": [
    "# 读取和写入\n",
    "\n",
    "pcd = o3d.io.read_point_cloud(\"PointCloudData\\\\yk_examples\\\\rectangle.ply\")\n",
    "print(pcd)\n",
    "o3d.io.write_point_cloud(\"Cache\\\\copy_of_rectangle.pcd\", pcd)"
   ]
  },
  {
   "cell_type": "markdown",
   "metadata": {},
   "source": [
    "点云文件格式\n",
    "|文件格式|描述|\n",
    "|:-:|:-:|\n",
    "|.xyz|每行是[x, y, z]，x,y,z是三维坐标|\n",
    "|.xyzn|每行是[x, y, z, nx, ny, nz]，nx,ny,nz是法线坐标|\n",
    "|.xyzrgb|每行是[x, y, z, r, g, b]，r,g,b的范围是[0, 1]|\n",
    "|.pts|第一行是一个整数，表示点的个数。随后的行遵循以下格式之一:[x, y, z, i, r, g, b], [x, y, z, r, g, b], [x, y, z, i] or [x, y, z]|\n",
    "|.ply|[参见Polygon File Format](http://paulbourke.net/dataformats/ply)，文件可以同时包含点云和网格数据|\n",
    "|.pcd|[参见Point Cloud Data](http://pointclouds.org/documentation/tutorials/pcd_file_format.html)|"
   ]
  },
  {
   "cell_type": "code",
   "execution_count": null,
   "metadata": {},
   "outputs": [],
   "source": [
    "# 也可以指定格式读取\n",
    "# pcd = o3d.io.read_point_cloud(\"Cache\\\\copy_of_fragment.txt\", format='xyz')"
   ]
  },
  {
   "cell_type": "markdown",
   "metadata": {},
   "source": [
    "### mesh读写"
   ]
  },
  {
   "cell_type": "code",
   "execution_count": null,
   "metadata": {},
   "outputs": [],
   "source": [
    "print(\"Testing IO for meshes ...\")\n",
    "mesh = o3d.io.read_triangle_mesh(\"PointCloudData\\\\yk_examples\\\\TpipeMesh.ply\")\n",
    "print(mesh)\n",
    "o3d.visualization.draw_geometries([mesh])\n",
    "o3d.io.write_triangle_mesh(\"Cache\\\\copy_of_TpipeMesh.ply\", mesh,)\n"
   ]
  },
  {
   "cell_type": "markdown",
   "metadata": {},
   "source": [
    "mesh文件格式\n",
    "|文件格式|描述|\n",
    "|:-:|:-:|\n",
    "|.ply|[Polygon File Format](http://paulbourke.net/dataformats/ply)|\n",
    "|.stl|[StereoLithography](http://www.fabbers.com/tech/STL_Format)|\n",
    "|.obj|[Object Files](http://paulbourke.net/dataformats/obj/)|\n",
    "|.off|[Object File Format](http://www.geomview.org/docs/html/OFF.html)|\n",
    "|.gltf/.glb|[GL Transmission Format](https://github.com/KhronosGroup/glTF/tree/master/specification/2.0)|"
   ]
  },
  {
   "cell_type": "markdown",
   "metadata": {},
   "source": [
    "### 图片读写"
   ]
  },
  {
   "cell_type": "code",
   "execution_count": null,
   "metadata": {},
   "outputs": [],
   "source": [
    "print(\"Testing IO for images ...\")\n",
    "img = o3d.io.read_image(\"RGBD_Data\\\\SampleRedwoodRGBDImages\\\\color\\\\00000.jpg\")\n",
    "print(img)\n",
    "o3d.io.write_image(\"Cache\\\\copy_of_Juneau.jpg\", img)"
   ]
  },
  {
   "cell_type": "markdown",
   "metadata": {},
   "source": [
    "## 转换numpy\n",
    "Open3D的所有数据结构都与NumPy的缓冲区原生兼容。下面的教程使用NumPy生成了一个变体的同步函数，并使用Open3D将该函数可视化。"
   ]
  },
  {
   "cell_type": "code",
   "execution_count": 4,
   "metadata": {},
   "outputs": [
    {
     "name": "stdout",
     "output_type": "stream",
     "text": [
      "xyz\n",
      "(160801, 3)\n"
     ]
    }
   ],
   "source": [
    "# 生成一个n×3的矩阵xyz。每一列都有x、y和z的值，函数z=sin(x*x+y*y)/(x*x+y*y)。\n",
    "# z_norm是[0,1]范围内z的归一化映射。\n",
    "# Generate some neat n times 3 matrix using a variant of sync function\n",
    "x = np.linspace(-3, 3, 401)\n",
    "mesh_x, mesh_y = np.meshgrid(x, x)\n",
    "z = np.sinc((np.power(mesh_x, 2) + np.power(mesh_y, 2)))\n",
    "z_norm = (z - z.min()) / (z.max() - z.min())\n",
    "xyz = np.zeros((np.size(mesh_x), 3))\n",
    "xyz[:, 0] = np.reshape(mesh_x, -1)\n",
    "xyz[:, 1] = np.reshape(mesh_y, -1)\n",
    "xyz[:, 2] = np.reshape(z_norm, -1)\n",
    "print('xyz')\n",
    "print(xyz.shape)\n"
   ]
  },
  {
   "cell_type": "markdown",
   "metadata": {},
   "source": [
    "### 从NumPy到open3d.PointCloud\n",
    "Open3D提供了从NumPy矩阵到3D向量的转换。通过使用Vector3dVector，一个NumPy矩阵可以直接被分配到open3d.PointCloud.points。\n",
    "\n",
    "通过这种方式，任何类似的数据结构，如open3d.PointCloud.color或open3d.PointCloud.normals都可以使用NumPy进行分配或修改。"
   ]
  },
  {
   "cell_type": "code",
   "execution_count": 3,
   "metadata": {},
   "outputs": [],
   "source": [
    "# Pass xyz to Open3D.o3d.geometry.PointCloud and visualize\n",
    "pcd = o3d.geometry.PointCloud()\n",
    "pcd.points = o3d.utility.Vector3dVector(xyz)\n",
    "# o3d.io.write_point_cloud(\"../../test_data/sync.ply\", pcd)\n",
    "o3d.visualization.draw_geometries([pcd])"
   ]
  },
  {
   "cell_type": "markdown",
   "metadata": {},
   "source": [
    "### 从open3d.PointCloud到NumPy\n",
    "类型为Vector3dVector的pcd_load.point使用np.asarray转换为NumPy数组"
   ]
  },
  {
   "cell_type": "code",
   "execution_count": null,
   "metadata": {},
   "outputs": [],
   "source": [
    "# Load saved point cloud and visualize it\n",
    "pcd_load = o3d.io.read_point_cloud(\"PointCloudData\\\\yk_examples\\\\t_pipe_stackable.ply\")\n",
    "\n",
    "# Convert Open3D.o3d.geometry.PointCloud to numpy array\n",
    "xyz_load = np.asarray(pcd_load.points)\n",
    "print('xyz_load')\n",
    "print(xyz_load)\n",
    "o3d.visualization.draw_geometries([pcd_load])\n"
   ]
  },
  {
   "cell_type": "markdown",
   "metadata": {},
   "source": [
    "## 点云离群点去除\n",
    "### 准备输入数据"
   ]
  },
  {
   "cell_type": "code",
   "execution_count": 4,
   "metadata": {},
   "outputs": [],
   "source": [
    "pcd = o3d.io.read_point_cloud(\"PointCloudData\\\\isl-org_examples\\\\fragment.ply\")\n",
    "o3d.visualization.draw_geometries([pcd],\n",
    "                                  zoom=0.2,\n",
    "                                  front=[0.5439, -0.2333, -0.8060],\n",
    "                                  lookat=[2.4615, 2.1331, 1.338],\n",
    "                                  up=[-0.1781, -0.9708, 0.1608])\n",
    "# voxel_down_sample下采样\n",
    "voxel_down_pcd = pcd.voxel_down_sample(voxel_size=0.02)\n",
    "o3d.visualization.draw_geometries([voxel_down_pcd],\n",
    "                                  zoom=0.2,\n",
    "                                  front=[0.5439, -0.2333, -0.8060],\n",
    "                                  lookat=[2.4615, 2.1331, 1.338],\n",
    "                                  up=[-0.1781, -0.9708, 0.1608])\n"
   ]
  },
  {
   "cell_type": "code",
   "execution_count": 3,
   "metadata": {},
   "outputs": [
    {
     "name": "stdout",
     "output_type": "stream",
     "text": [
      "Every 5th points are selected\n",
      "[Open3D WARNING] GLFW Error: WGL: Failed to make context current: 不支持请求的转换操作。 \n"
     ]
    }
   ],
   "source": [
    "# uniform_down_sample下采样\n",
    "print(\"Every 5th points are selected\")\n",
    "uni_down_pcd = pcd.uniform_down_sample(every_k_points=5)\n",
    "o3d.visualization.draw_geometries([uni_down_pcd],\n",
    "                                  zoom=0.2,\n",
    "                                  front=[0.5439, -0.2333, -0.8060],\n",
    "                                  lookat=[2.4615, 2.1331, 1.338],\n",
    "                                  up=[-0.1781, -0.9708, 0.1608])\n"
   ]
  },
  {
   "cell_type": "markdown",
   "metadata": {},
   "source": [
    "### 选择样本点\n",
    "下面的辅助函数使用select_by_index，它接受一个二进制掩码，只输出选定的点。被选中的点和未被选中的点都是可视化的"
   ]
  },
  {
   "cell_type": "code",
   "execution_count": 6,
   "metadata": {},
   "outputs": [],
   "source": [
    "def display_inlier_outlier(cloud, ind):\n",
    "    inlier_cloud = cloud.select_by_index(ind)\n",
    "    outlier_cloud = cloud.select_by_index(ind, invert=True)\n",
    "\n",
    "    print(\"Showing outliers (red) and inliers (gray): \")\n",
    "    outlier_cloud.paint_uniform_color([1, 0, 0])\n",
    "    inlier_cloud.paint_uniform_color([0.8, 0.8, 0.8])\n",
    "    o3d.visualization.draw_geometries([inlier_cloud, outlier_cloud],\n",
    "                                      zoom=0.3412,\n",
    "                                      front=[0.4257, -0.2125, -0.8795],\n",
    "                                      lookat=[2.6172, 2.0475, 1.532],\n",
    "                                      up=[-0.0694, -0.9768, 0.2024])\n"
   ]
  },
  {
   "cell_type": "markdown",
   "metadata": {},
   "source": [
    "### 统计离群点清除\n",
    "statistical_outlier_removal删除那些与点云的平均数相比离其邻居较远的点。它需要两个输入参数：\n",
    "\n",
    "- nb_neighbors，用于指定在计算一个给定点的平均距离时考虑多少个邻居。\n",
    "\n",
    "- std_ratio，允许根据整个点云的平均距离的标准偏差来设置阈值水平。这个数字越小，过滤器就越积极。"
   ]
  },
  {
   "cell_type": "code",
   "execution_count": 8,
   "metadata": {},
   "outputs": [
    {
     "name": "stdout",
     "output_type": "stream",
     "text": [
      "Statistical oulier removal\n",
      "Showing outliers (red) and inliers (gray): \n",
      "[Open3D WARNING] GLFW Error: WGL: Failed to make context current: 不支持请求的转换操作。 \n",
      "[Open3D WARNING] GLFW Error: WGL: Failed to make context current: 句柄无效。 \n",
      "[Open3D WARNING] GLFW Error: WGL: Failed to make context current: 不支持请求的转换操作。 \n"
     ]
    }
   ],
   "source": [
    "print(\"Statistical oulier removal\")\n",
    "cl, ind = voxel_down_pcd.remove_statistical_outlier(nb_neighbors=20,\n",
    "                                                    std_ratio=1.0)\n",
    "display_inlier_outlier(voxel_down_pcd, ind)\n"
   ]
  },
  {
   "cell_type": "markdown",
   "metadata": {},
   "source": [
    "### 半径离群点去除\n",
    "\n",
    "radius_outlier_removal删除那些在其周围给定范围内有少数邻居的点。有两个参数可以用来根据你的数据调整过滤器。\n",
    "\n",
    "- nb_points，它让你选择球体应该包含的最小数量的点。\n",
    "\n",
    "- radius，它定义了用于计算邻域的球体半径。"
   ]
  },
  {
   "cell_type": "code",
   "execution_count": 9,
   "metadata": {},
   "outputs": [
    {
     "name": "stdout",
     "output_type": "stream",
     "text": [
      "Radius oulier removal\n",
      "Showing outliers (red) and inliers (gray): \n",
      "[Open3D WARNING] GLFW Error: WGL: Failed to make context current: 不支持请求的转换操作。 \n",
      "[Open3D WARNING] GLFW Error: WGL: Failed to make context current: 不支持请求的转换操作。 \n",
      "[Open3D WARNING] GLFW Error: WGL: Failed to make context current: 句柄无效。 \n"
     ]
    }
   ],
   "source": [
    "print(\"Radius oulier removal\")\n",
    "cl, ind = voxel_down_pcd.remove_radius_outlier(nb_points=16, radius=0.05)\n",
    "display_inlier_outlier(voxel_down_pcd, ind)\n"
   ]
  },
  {
   "cell_type": "markdown",
   "metadata": {},
   "source": [
    "## 体素化\n",
    "点云和三角网格是非常灵活，但不规则的几何类型。体素网格是3D的另一种几何类型，它被定义在一个规则的3D网格上，而体素可以被认为是2D中像素的3D对应物。Open3D有一个几何类型VoxelGrid，可以用来处理体素网格。\n",
    "### 从mesh体素化\n",
    "Open3D提供了create_from_triangle_mesh方法，可以从一个三角形网格中创建一个体素网格。它返回一个体素网格，其中所有与三角形相交的体素都被设置为1，其他都被设置为0。参数voxel_size定义了体素网格的分辨率。"
   ]
  },
  {
   "cell_type": "code",
   "execution_count": null,
   "metadata": {},
   "outputs": [],
   "source": [
    "\n",
    "print('input')\n",
    "mesh = o3d.io.read_triangle_mesh(\"PointCloudData\\isl-org_examples\\BunnyMesh.ply\")\n",
    "\n",
    "# fit to unit cube\n",
    "mesh.scale(1 / np.max(mesh.get_max_bound() - mesh.get_min_bound()),\n",
    "           center=mesh.get_center())\n",
    "o3d.visualization.draw_geometries([mesh])\n",
    "\n",
    "print('voxelization')\n",
    "voxel_grid = o3d.geometry.VoxelGrid.create_from_triangle_mesh(mesh,\n",
    "                                                              voxel_size=0.05)\n",
    "o3d.visualization.draw_geometries([voxel_grid])\n"
   ]
  },
  {
   "cell_type": "markdown",
   "metadata": {},
   "source": [
    "### 从点云体素化\n",
    "使用create_from_point_cloud方法也可以从点云中创建体素网格。如果点云中至少有一个点在体素内，该体素就被占用。体素的颜色是该体素内所有点的平均值。参数voxel_size定义了体素网格的分辨率"
   ]
  },
  {
   "cell_type": "code",
   "execution_count": null,
   "metadata": {},
   "outputs": [],
   "source": [
    "print('input')\n",
    "mesh = o3d.io.read_triangle_mesh(\"PointCloudData\\isl-org_examples\\BunnyMesh.ply\")\n",
    "\n",
    "N = 2000\n",
    "pcd = mesh.sample_points_poisson_disk(N)\n",
    "# fit to unit cube\n",
    "pcd.scale(1 / np.max(pcd.get_max_bound() - pcd.get_min_bound()),\n",
    "          center=pcd.get_center())\n",
    "pcd.colors = o3d.utility.Vector3dVector(np.random.uniform(0, 1, size=(N, 3)))\n",
    "o3d.visualization.draw_geometries([pcd])\n",
    "\n",
    "print('voxelization')\n",
    "voxel_grid = o3d.geometry.VoxelGrid.create_from_point_cloud(pcd,\n",
    "                                                            voxel_size=0.05)\n",
    "o3d.visualization.draw_geometries([voxel_grid])\n"
   ]
  },
  {
   "cell_type": "markdown",
   "metadata": {},
   "source": [
    "### 包含性测试\n",
    "体素网格也可以用来测试点是否在一个被占领的体素内。check_if_included方法接受一个(n,3)数组作为输入，并输出一个bool数组。"
   ]
  },
  {
   "cell_type": "code",
   "execution_count": null,
   "metadata": {},
   "outputs": [],
   "source": [
    "queries = np.asarray(pcd.points)\n",
    "output = voxel_grid.check_if_included(o3d.utility.Vector3dVector(queries))\n",
    "print(output[:10])"
   ]
  },
  {
   "cell_type": "markdown",
   "metadata": {},
   "source": [
    "### 体素雕琢\n",
    "方法create_from_point_cloud和create_from_triangle_mesh只在几何体的表面创建占用的体素。然而，也可以从一些深度图或剪影中雕刻出一个体素网格。Open3D为体素雕刻提供了carve_depth_map和carve_silhouette方法。"
   ]
  },
  {
   "cell_type": "code",
   "execution_count": null,
   "metadata": {},
   "outputs": [],
   "source": [
    "# 首先渲染几何体的深度图，然后使用这些深度图来雕刻一个密集的体素网格。其结果是给定形状的填充体素网格。\n",
    "# 画球形\n",
    "def xyz_spherical(xyz):\n",
    "    x = xyz[0]\n",
    "    y = xyz[1]\n",
    "    z = xyz[2]\n",
    "    r = np.sqrt(x * x + y * y + z * z)\n",
    "    r_x = np.arccos(y / r)\n",
    "    r_y = np.arctan2(z, x)\n",
    "    return [r, r_x, r_y]\n",
    "\n",
    "\n",
    "def get_rotation_matrix(r_x, r_y):\n",
    "    rot_x = np.asarray([[1, 0, 0], [0, np.cos(r_x), -np.sin(r_x)],\n",
    "                        [0, np.sin(r_x), np.cos(r_x)]])\n",
    "    rot_y = np.asarray([[np.cos(r_y), 0, np.sin(r_y)], [0, 1, 0],\n",
    "                        [-np.sin(r_y), 0, np.cos(r_y)]])\n",
    "    return rot_y.dot(rot_x)\n",
    "\n",
    "\n",
    "def get_extrinsic(xyz):\n",
    "    rvec = xyz_spherical(xyz)\n",
    "    r = get_rotation_matrix(rvec[1], rvec[2])\n",
    "    t = np.asarray([0, 0, 2]).transpose()\n",
    "    trans = np.eye(4)\n",
    "    trans[:3, :3] = r\n",
    "    trans[:3, 3] = t\n",
    "    return trans\n",
    "\n",
    "\n",
    "def preprocess(model):\n",
    "    min_bound = model.get_min_bound()\n",
    "    max_bound = model.get_max_bound()\n",
    "    center = min_bound + (max_bound - min_bound) / 2.0\n",
    "    scale = np.linalg.norm(max_bound - min_bound) / 2.0\n",
    "    vertices = np.asarray(model.vertices)\n",
    "    vertices -= center\n",
    "    model.vertices = o3d.utility.Vector3dVector(vertices / scale)\n",
    "    return model\n",
    "\n",
    "\n",
    "def voxel_carving(mesh,\n",
    "                  cubic_size,\n",
    "                  voxel_resolution,\n",
    "                  w=300,\n",
    "                  h=300,\n",
    "                  use_depth=True,\n",
    "                  surface_method='pointcloud'):\n",
    "    mesh.compute_vertex_normals()\n",
    "    camera_sphere = o3d.geometry.TriangleMesh.create_sphere()\n",
    "\n",
    "    # setup dense voxel grid\n",
    "    voxel_carving = o3d.geometry.VoxelGrid.create_dense(\n",
    "        width=cubic_size,\n",
    "        height=cubic_size,\n",
    "        depth=cubic_size,\n",
    "        voxel_size=cubic_size / voxel_resolution,\n",
    "        origin=[-cubic_size / 2.0, -cubic_size / 2.0, -cubic_size / 2.0],\n",
    "        color=[1.0, 0.7, 0.0])\n",
    "\n",
    "    # rescale geometry\n",
    "    camera_sphere = preprocess(camera_sphere)\n",
    "    mesh = preprocess(mesh)\n",
    "\n",
    "    # setup visualizer to render depthmaps\n",
    "    vis = o3d.visualization.Visualizer()\n",
    "    vis.create_window(width=w, height=h, visible=False)\n",
    "    vis.add_geometry(mesh)\n",
    "    vis.get_render_option().mesh_show_back_face = True\n",
    "    ctr = vis.get_view_control()\n",
    "    param = ctr.convert_to_pinhole_camera_parameters()\n",
    "\n",
    "    # carve voxel grid\n",
    "    pcd_agg = o3d.geometry.PointCloud()\n",
    "    centers_pts = np.zeros((len(camera_sphere.vertices), 3))\n",
    "    for cid, xyz in enumerate(camera_sphere.vertices):\n",
    "        # get new camera pose\n",
    "        trans = get_extrinsic(xyz)\n",
    "        param.extrinsic = trans\n",
    "        c = np.linalg.inv(trans).dot(np.asarray([0, 0, 0, 1]).transpose())\n",
    "        centers_pts[cid, :] = c[:3]\n",
    "        ctr.convert_from_pinhole_camera_parameters(param)\n",
    "\n",
    "        # capture depth image and make a point cloud\n",
    "        vis.poll_events()\n",
    "        vis.update_renderer()\n",
    "        depth = vis.capture_depth_float_buffer(False)\n",
    "        pcd_agg += o3d.geometry.PointCloud.create_from_depth_image(\n",
    "            o3d.geometry.Image(depth),\n",
    "            param.intrinsic,\n",
    "            param.extrinsic,\n",
    "            depth_scale=1)\n",
    "\n",
    "        # depth map carving method\n",
    "        if use_depth:\n",
    "            voxel_carving.carve_depth_map(o3d.geometry.Image(depth), param)\n",
    "        else:\n",
    "            voxel_carving.carve_silhouette(o3d.geometry.Image(depth), param)\n",
    "        print(\"Carve view %03d/%03d\" % (cid + 1, len(camera_sphere.vertices)))\n",
    "    vis.destroy_window()\n",
    "\n",
    "    # add voxel grid survace\n",
    "    print('Surface voxel grid from %s' % surface_method)\n",
    "    if surface_method == 'pointcloud':\n",
    "        voxel_surface = o3d.geometry.VoxelGrid.create_from_point_cloud_within_bounds(\n",
    "            pcd_agg,\n",
    "            voxel_size=cubic_size / voxel_resolution,\n",
    "            min_bound=(-cubic_size / 2, -cubic_size / 2, -cubic_size / 2),\n",
    "            max_bound=(cubic_size / 2, cubic_size / 2, cubic_size / 2))\n",
    "    elif surface_method == 'mesh':\n",
    "        voxel_surface = o3d.geometry.VoxelGrid.create_from_triangle_mesh_within_bounds(\n",
    "            mesh,\n",
    "            voxel_size=cubic_size / voxel_resolution,\n",
    "            min_bound=(-cubic_size / 2, -cubic_size / 2, -cubic_size / 2),\n",
    "            max_bound=(cubic_size / 2, cubic_size / 2, cubic_size / 2))\n",
    "    else:\n",
    "        raise Exception('invalid surface method')\n",
    "    voxel_carving_surface = voxel_surface + voxel_carving\n",
    "\n",
    "    return voxel_carving_surface, voxel_carving, voxel_surface\n",
    "\n",
    "if __name__ ==\"__main__\":\n",
    "    mesh = o3d.io.read_triangle_mesh(\"PointCloudData\\\\isl-org_examples\\\\BunnyMesh.ply\")\n",
    "\n",
    "    visualization = True\n",
    "    cubic_size = 2.0\n",
    "    voxel_resolution = 128.0\n",
    "\n",
    "    voxel_grid, voxel_carving, voxel_surface = voxel_carving(\n",
    "        mesh, cubic_size, voxel_resolution)\n"
   ]
  },
  {
   "cell_type": "code",
   "execution_count": null,
   "metadata": {},
   "outputs": [],
   "source": [
    "print(\"surface voxels\")\n",
    "print(voxel_surface)\n",
    "o3d.visualization.draw_geometries([voxel_surface])\n",
    "\n",
    "print(\"carved voxels\")\n",
    "print(voxel_carving)\n",
    "o3d.visualization.draw_geometries([voxel_carving])\n",
    "\n",
    "print(\"combined voxels (carved + surface)\")\n",
    "print(voxel_grid)\n",
    "o3d.visualization.draw_geometries([voxel_grid])\n"
   ]
  },
  {
   "cell_type": "markdown",
   "metadata": {},
   "source": [
    "## 八叉树\n",
    "八叉树是一种树形数据结构，每个内部节点有八个子节点。八叉树通常用于三维点云的空间划分。八角树的非空叶节点包含一个或多个属于同一空间分区的点。八叉树是对三维空间的一种有用的描述，可以用来快速找到附近的点。Open3D有一个几何类型的八叉树，可以用来创建、搜索和遍历八叉树，其最大的树深是用户指定的，max_depth。\n",
    "### 从点云建立八叉树\n",
    "一个八叉树可以通过使用转换方法（convert_from_point_cloud）从点云中构建。每个点都是按照从根节点到适当的叶节点的深度max_depth的路径插入树中的。随着树的深度增加，内部（最终是叶子）节点代表了三维空间的一个较小的分区。\n",
    "\n",
    "如果点云有颜色，相应的叶子节点就采用最后插入的点的颜色。size_expand参数增加了根八叉树节点的大小，因此它比原始点云的边界略大，以容纳所有的点。"
   ]
  },
  {
   "cell_type": "code",
   "execution_count": null,
   "metadata": {},
   "outputs": [],
   "source": [
    "\n",
    "print('input')\n",
    "N = 2000\n",
    "mesh = o3d.io.read_triangle_mesh(\"PointCloudData\\\\isl-org_examples\\\\BunnyMesh.ply\")\n",
    "pcd = mesh.sample_points_poisson_disk(N)\n",
    "# fit to unit cube\n",
    "pcd.scale(1 / np.max(pcd.get_max_bound() - pcd.get_min_bound()),\n",
    "          center=pcd.get_center())\n",
    "pcd.colors = o3d.utility.Vector3dVector(np.random.uniform(0, 1, size=(N, 3)))\n",
    "o3d.visualization.draw_geometries([pcd])\n",
    "\n",
    "print('octree division')\n",
    "octree = o3d.geometry.Octree(max_depth=4)\n",
    "octree.convert_from_point_cloud(pcd, size_expand=0.01)\n",
    "o3d.visualization.draw_geometries([octree])\n"
   ]
  },
  {
   "cell_type": "markdown",
   "metadata": {},
   "source": [
    "### 从体素建立八叉树\n",
    "八叉树也可以使用create_from_voxel_grid方法从Open3D VoxelGrid几何体中构建。输入的VoxelGrid的每个体素被视为三维空间中的一个点，其坐标对应于体素的原点。每个叶子节点取其相应体素的颜色。"
   ]
  },
  {
   "cell_type": "code",
   "execution_count": null,
   "metadata": {},
   "outputs": [],
   "source": [
    "print('voxelization')\n",
    "voxel_grid = o3d.geometry.VoxelGrid.create_from_point_cloud(pcd,\n",
    "                                                            voxel_size=0.05)\n",
    "o3d.visualization.draw_geometries([voxel_grid])\n",
    "\n",
    "print('octree division')\n",
    "octree = o3d.geometry.Octree(max_depth=4)\n",
    "octree.create_from_voxel_grid(voxel_grid)\n",
    "o3d.visualization.draw_geometries([octree])\n"
   ]
  },
  {
   "cell_type": "markdown",
   "metadata": {},
   "source": [
    "### 遍历八叉树\n",
    "八叉树可以被遍历，这对于搜索或处理三维几何体的子部分非常有用。通过为遍历方法提供一个回调，每次访问一个节点（内部或叶子）时，都可以进行额外的处理。\n",
    "\n",
    "在下面的例子中，一个早期停止标准被用来只处理具有超过一定数量的点的内部/叶子节点。这种早期停止的能力可以用来有效地处理满足某些条件的空间区域。"
   ]
  },
  {
   "cell_type": "code",
   "execution_count": null,
   "metadata": {},
   "outputs": [],
   "source": [
    "\n",
    "def f_traverse(node, node_info):\n",
    "    early_stop = False\n",
    "\n",
    "    if isinstance(node, o3d.geometry.OctreeInternalNode):\n",
    "        if isinstance(node, o3d.geometry.OctreeInternalPointNode):\n",
    "            n = 0\n",
    "            for child in node.children:\n",
    "                if child is not None:\n",
    "                    n += 1\n",
    "            print(\n",
    "                \"{}{}: Internal node at depth {} has {} children and {} points ({})\"\n",
    "                .format('    ' * node_info.depth,\n",
    "                        node_info.child_index, node_info.depth, n,\n",
    "                        len(node.indices), node_info.origin))\n",
    "\n",
    "            # we only want to process nodes / spatial regions with enough points\n",
    "            early_stop = len(node.indices) < 250\n",
    "    elif isinstance(node, o3d.geometry.OctreeLeafNode):\n",
    "        if isinstance(node, o3d.geometry.OctreePointColorLeafNode):\n",
    "            print(\"{}{}: Leaf node at depth {} has {} points with origin {}\".\n",
    "                  format('    ' * node_info.depth, node_info.child_index,\n",
    "                         node_info.depth, len(node.indices), node_info.origin))\n",
    "    else:\n",
    "        raise NotImplementedError('Node type not recognized!')\n",
    "\n",
    "    # early stopping: if True, traversal of children of the current node will be skipped\n",
    "    return early_stop\n",
    "octree = o3d.geometry.Octree(max_depth=4)\n",
    "octree.convert_from_point_cloud(pcd, size_expand=0.01)\n",
    "octree.traverse(f_traverse)\n"
   ]
  },
  {
   "cell_type": "markdown",
   "metadata": {},
   "source": [
    "### 查找包含点的叶子节点\n",
    "\n",
    "使用上述的遍历机制，可以在八叉树上快速搜索包含给定点的叶节点。这个功能是通过locate_leaf_node方法提供的。\n",
    "\n",
    "也可以不遍历直接查找"
   ]
  },
  {
   "cell_type": "code",
   "execution_count": null,
   "metadata": {},
   "outputs": [],
   "source": [
    "octree.locate_leaf_node(pcd.points[0])"
   ]
  },
  {
   "cell_type": "markdown",
   "metadata": {},
   "source": [
    "## 表面重建 从点云重建mesh\n",
    "在许多情况下，我们希望生成一个密集的三维几何体，即一个三角形的网格。然而，从多视角立体法或深度传感器中，我们只能得到一个非结构化的点云。为了从这个非结构化的输入中得到一个mesh，我们需要进行表面重建。在文献中，存在一些方法，Open3D目前实现了以下方法。\n",
    "\n",
    "- Alpha shapes\n",
    "- Ball pivoting\n",
    "- Poisson surface reconstruction\n",
    "\n",
    "### 阿尔法形状\n",
    "阿尔法形状[Edelsbrunner1983]是凸面体的一个泛化。正如这里所描述的那样，人们可以直观地认为阿尔法形状是如下的。想象一下，有一大团冰淇淋，其中的点S是硬巧克力块。使用这些球形的冰淇淋勺子，我们在不撞到巧克力块的情况下，将冰淇淋块的所有部分都雕刻出来，从而甚至在内部雕刻出洞（例如，简单地从外面移动勺子所不能到达的部分）。我们最终会得到一个由帽、弧和点围成的（不一定是凸的）物体。如果我们现在把所有的圆面都拉直成三角形和线段，我们就有了一个直观的描述，即所谓的S的阿尔法形状。\n",
    "\n",
    "Open3D实现了涉及权衡参数α的方法create_from_point_cloud_alpha_shape。"
   ]
  },
  {
   "cell_type": "code",
   "execution_count": 11,
   "metadata": {},
   "outputs": [
    {
     "name": "stdout",
     "output_type": "stream",
     "text": [
      "alpha=0.030\n"
     ]
    }
   ],
   "source": [
    "mesh = o3d.io.read_triangle_mesh(\"PointCloudData\\\\isl-org_examples\\\\BunnyMesh.ply\")\n",
    "mesh.compute_vertex_normals()\n",
    "pcd = mesh.sample_points_poisson_disk(750)\n",
    "o3d.visualization.draw_geometries([pcd])\n",
    "alpha = 0.03\n",
    "print(f\"alpha={alpha:.3f}\")\n",
    "mesh = o3d.geometry.TriangleMesh.create_from_point_cloud_alpha_shape(pcd, alpha)\n",
    "mesh.compute_vertex_normals()\n",
    "o3d.visualization.draw_geometries([mesh], mesh_show_back_face=True)"
   ]
  },
  {
   "cell_type": "markdown",
   "metadata": {},
   "source": [
    "这个实现是基于点云的凸包。如果我们想从一个给定的点云中计算出多个alpha形状，那么我们可以只计算一次凸包，并将其传递给create_from_point_cloud_alpha_shape，从而节省一些计算量。"
   ]
  },
  {
   "cell_type": "code",
   "execution_count": 14,
   "metadata": {},
   "outputs": [
    {
     "name": "stdout",
     "output_type": "stream",
     "text": [
      "alpha=0.500\n",
      "[Open3D WARNING] GLFW Error: WGL: Failed to make context current: 句柄无效。 \n",
      "alpha=0.136\n",
      "[Open3D WARNING] GLFW Error: WGL: Failed to make context current: 句柄无效。 \n",
      "alpha=0.037\n",
      "alpha=0.010\n"
     ]
    }
   ],
   "source": [
    "tetra_mesh, pt_map = o3d.geometry.TetraMesh.create_from_point_cloud(pcd)\n",
    "for alpha in np.logspace(np.log10(0.5), np.log10(0.01), num=4):\n",
    "    print(f\"alpha={alpha:.3f}\")\n",
    "    mesh = o3d.geometry.TriangleMesh.create_from_point_cloud_alpha_shape(\n",
    "        pcd, alpha, tetra_mesh, pt_map)\n",
    "    mesh.compute_vertex_normals()\n",
    "    o3d.visualization.draw_geometries([mesh], mesh_show_back_face=True)\n"
   ]
  },
  {
   "cell_type": "markdown",
   "metadata": {},
   "source": [
    "### 球体透视\n",
    "\n",
    "球状旋转算法（BPA）[Bernardini1999]是一种与阿尔法形状有关的表面重建方法。直观地讲，想想一个有一定半径的三维球，我们把它放在点云上。如果它击中了任何3个点（并且它没有落过这3个点），它就会产生一个三角形。然后，算法从现有三角形的边缘开始转动，每当它击中3个球没有落下的点时，我们就创建一个新的三角形。\n",
    "\n",
    "Open3D在create_from_point_cloud_ball_pivoting中实现了这个方法。该方法接受一个半径列表作为参数，对应于在点云上旋转的各个球的半径。\n",
    "\n",
    "**注意:这个算法假设点云有法线。**"
   ]
  },
  {
   "cell_type": "code",
   "execution_count": 15,
   "metadata": {},
   "outputs": [],
   "source": [
    "gt_mesh = o3d.io.read_triangle_mesh(\"PointCloudData\\\\isl-org_examples\\\\BunnyMesh.ply\")\n",
    "gt_mesh.compute_vertex_normals()\n",
    "pcd = gt_mesh.sample_points_poisson_disk(3000)\n",
    "# pcd = o3d.io.read_point_cloud(\"PointCloudData\\\\isl-org_examples\\\\EaglePointCloud.ply\")\n",
    "o3d.visualization.draw_geometries([pcd])\n",
    "radii = [0.005, 0.01, 0.02, 0.04]\n",
    "rec_mesh = o3d.geometry.TriangleMesh.create_from_point_cloud_ball_pivoting(\n",
    "    pcd, o3d.utility.DoubleVector(radii))\n",
    "o3d.visualization.draw_geometries([pcd, rec_mesh])\n"
   ]
  },
  {
   "cell_type": "markdown",
   "metadata": {},
   "source": [
    "### 泊松曲面重建\n",
    "\n",
    "泊松曲面重建方法[Kazhdan2006]解决了一个规则化的优化问题，以获得一个光滑的曲面。由于这个原因，泊松曲面重建可以优于上面提到的方法，因为它们产生了非光滑的结果，因为PointCloud的点也是产生的三角形网格的顶点，不需要任何修改。\n",
    "\n",
    "Open3D实现了create_from_point_cloud_poisson方法，它基本上是Kazhdan代码的一个封装。该函数的一个重要参数是深度，它定义了用于表面重建的八叉树的深度，从而意味着生成的三角形网格的分辨率。一个较高的深度值意味着网格有更多的细节。\n",
    "\n",
    "**注意:这个算法假设PointCloud有normals。**"
   ]
  },
  {
   "cell_type": "code",
   "execution_count": 16,
   "metadata": {},
   "outputs": [],
   "source": [
    "\n",
    "pcd = o3d.io.read_point_cloud(\"PointCloudData\\\\isl-org_examples\\\\EaglePointCloud.ply\")\n",
    "o3d.visualization.draw_geometries([pcd],\n",
    "                                  zoom=0.664,\n",
    "                                  front=[-0.4761, -0.4698, -0.7434],\n",
    "                                  lookat=[1.8900, 3.2596, 0.9284],\n",
    "                                  up=[0.2304, -0.8825, 0.4101])\n"
   ]
  },
  {
   "cell_type": "code",
   "execution_count": 17,
   "metadata": {},
   "outputs": [
    {
     "name": "stdout",
     "output_type": "stream",
     "text": [
      "run Poisson surface reconstruction\n",
      "[Open3D DEBUG] Input Points / Samples: 796825 / 368254\n",
      "[Open3D DEBUG] #   Got kernel density: 0.181 (s), 249.559 (MB) / 249.559 (MB) / 297 (MB)\n",
      "[Open3D DEBUG] #     Got normal field: 0.509000 (s), 357.363 (MB) / 357.363 (MB) / 357 (MB)\n",
      "[Open3D DEBUG] Point weight / Estimated Area: 2.623548e-06 / 2.090508e+00\n",
      "[Open3D DEBUG] #       Finalized tree: 0.707000 (s), 445.734 (MB) / 445.734 (MB) / 483 (MB)\n",
      "[Open3D DEBUG] #  Set FEM constraints: 0.893 (s), 396.199 (MB) / 445.734 (MB) / 483 (MB)\n",
      "[Open3D DEBUG] #Set point constraints: 0.313 (s), 328.496 (MB) / 445.734 (MB) / 483 (MB)\n",
      "[Open3D DEBUG] Leaf Nodes / Active Nodes / Ghost Nodes: 2945433 / 3365000 / 1209\n",
      "[Open3D DEBUG] Memory Usage: 328.496 MB\n",
      "[Open3D DEBUG] # Linear system solved: 2.30300 (s), 397.781 (MB) / 445.734 (MB) / 483 (MB)\n",
      "[Open3D DEBUG] Got average: 0.046 (s), 318.199 (MB) / 445.734 (MB) / 483 (MB)\n",
      "[Open3D DEBUG] Iso-Value: 5.028479e-01 = 4.006817e+05 / 7.968250e+05\n",
      "[Open3D DEBUG] #          Total Solve:       9.1 (s),     505.4 (MB)\n",
      "TriangleMesh with 563112 points and 1126072 triangles.\n"
     ]
    }
   ],
   "source": [
    "print('run Poisson surface reconstruction')\n",
    "with o3d.utility.VerbosityContextManager(\n",
    "        o3d.utility.VerbosityLevel.Debug) as cm:\n",
    "    mesh, densities = o3d.geometry.TriangleMesh.create_from_point_cloud_poisson(\n",
    "        pcd, depth=9)\n",
    "print(mesh)\n",
    "o3d.visualization.draw_geometries([mesh],\n",
    "                                  zoom=0.664,\n",
    "                                  front=[-0.4761, -0.4698, -0.7434],\n",
    "                                  lookat=[1.8900, 3.2596, 0.9284],\n",
    "                                  up=[0.2304, -0.8825, 0.4101])\n"
   ]
  },
  {
   "cell_type": "markdown",
   "metadata": {},
   "source": [
    "泊松曲面重建也会在点密度低的区域创建三角形，甚至会外推到一些区域（见上面老鹰输出的底部）。create_from_point_cloud_poisson函数有第二个densities返回值，表示每个顶点的密度。一个低密度值意味着该顶点仅由输入点云中的低数量的点支持。\n",
    "\n",
    "在下面的代码中，我们用伪色将密度在三维中可视化。紫色表示低密度，黄色表示高密度。"
   ]
  },
  {
   "cell_type": "code",
   "execution_count": null,
   "metadata": {},
   "outputs": [],
   "source": [
    "\n",
    "print('visualize densities')\n",
    "densities = np.asarray(densities)\n",
    "density_colors = plt.get_cmap('plasma')(\n",
    "    (densities - densities.min()) / (densities.max() - densities.min()))\n",
    "density_colors = density_colors[:, :3]\n",
    "density_mesh = o3d.geometry.TriangleMesh()\n",
    "density_mesh.vertices = mesh.vertices\n",
    "density_mesh.triangles = mesh.triangles\n",
    "density_mesh.triangle_normals = mesh.triangle_normals\n",
    "density_mesh.vertex_colors = o3d.utility.Vector3dVector(density_colors)\n",
    "o3d.visualization.draw_geometries([density_mesh],\n",
    "                                  zoom=0.664,\n",
    "                                  front=[-0.4761, -0.4698, -0.7434],\n",
    "                                  lookat=[1.8900, 3.2596, 0.9284],\n",
    "                                  up=[0.2304, -0.8825, 0.4101])\n"
   ]
  },
  {
   "cell_type": "markdown",
   "metadata": {},
   "source": [
    "我们可以进一步使用密度值来移除支持度低的顶点和三角形。在下面的代码中，我们删除所有密度值低于所有密度值的0.01四分位数的顶点（和连接的三角形）"
   ]
  },
  {
   "cell_type": "code",
   "execution_count": 18,
   "metadata": {},
   "outputs": [
    {
     "name": "stdout",
     "output_type": "stream",
     "text": [
      "remove low density vertices\n",
      "TriangleMesh with 557480 points and 1113212 triangles.\n"
     ]
    }
   ],
   "source": [
    "print('remove low density vertices')\n",
    "vertices_to_remove = densities < np.quantile(densities, 0.01)\n",
    "mesh.remove_vertices_by_mask(vertices_to_remove)\n",
    "print(mesh)\n",
    "o3d.visualization.draw_geometries([mesh],\n",
    "                                  zoom=0.664,\n",
    "                                  front=[-0.4761, -0.4698, -0.7434],\n",
    "                                  lookat=[1.8900, 3.2596, 0.9284],\n",
    "                                  up=[0.2304, -0.8825, 0.4101])\n"
   ]
  },
  {
   "cell_type": "markdown",
   "metadata": {},
   "source": [
    "### 法线估计\n",
    "在上面的例子中，我们假设点云的法线是向外指向的。然而，并不是所有的点云都已经有了相关的法线。Open3D可以用improve_normals来估计点云的法线，它对每个3D点进行局部拟合以得出法线。然而，估计的法线可能不是一致的方向。 orient_normals_consistent_tangent_plane使用最小生成树传播法线方向。"
   ]
  },
  {
   "cell_type": "code",
   "execution_count": null,
   "metadata": {},
   "outputs": [],
   "source": [
    "\n",
    "gt_mesh = o3d.io.read_triangle_mesh(\"PointCloudData\\\\isl-org_examples\\\\BunnyMesh.ply\")\n",
    "\n",
    "pcd = gt_mesh.sample_points_poisson_disk(5000)\n",
    "pcd.normals = o3d.utility.Vector3dVector(np.zeros(\n",
    "    (1, 3)))  # invalidate existing normals\n",
    "\n",
    "pcd.estimate_normals()\n",
    "o3d.visualization.draw_geometries([pcd], point_show_normal=True)\n"
   ]
  },
  {
   "cell_type": "code",
   "execution_count": null,
   "metadata": {},
   "outputs": [],
   "source": [
    "pcd.orient_normals_consistent_tangent_plane(100)\n",
    "o3d.visualization.draw_geometries([pcd], point_show_normal=True)"
   ]
  },
  {
   "cell_type": "markdown",
   "metadata": {},
   "source": [
    "## 点云变换\n",
    "平移、旋转、缩放和一般变换\n",
    "### 平移\n",
    "平移方法接受一个单一的三维矢量t作为输入，并通过这个矢量平移几何体的所有点/顶点，vt=v+t。下面的代码显示了网格是如何在X方向和Y方向上平移一次的。"
   ]
  },
  {
   "cell_type": "code",
   "execution_count": null,
   "metadata": {},
   "outputs": [],
   "source": [
    "\n",
    "mesh = o3d.geometry.TriangleMesh.create_coordinate_frame()\n",
    "# mesh = o3d.geometry.TriangleMesh.create_sphere()\n",
    "mesh_tx = copy.deepcopy(mesh).translate((1.3, 0, 0))\n",
    "mesh_ty = copy.deepcopy(mesh).translate((0, 1.3, 0))\n",
    "# 注意:get_center方法返回TriangleMesh顶点的平均值。\n",
    "# 这意味着，对于在原点[0,0,0]创建的坐标框架，\n",
    "# get_center将返回[0.05167549 0.05167549 0.05167549]。\n",
    "print(f'Center of mesh: {mesh.get_center()}')\n",
    "print(f'Center of mesh tx: {mesh_tx.get_center()}')\n",
    "print(f'Center of mesh ty: {mesh_ty.get_center()}')\n",
    "o3d.visualization.draw_geometries([mesh, mesh_tx, mesh_ty])\n"
   ]
  },
  {
   "cell_type": "markdown",
   "metadata": {},
   "source": [
    "该方法需要一个相对的第二个参数，默认设置为True。如果设置为False，几何体的中心会被直接翻译到第一个参数中指定的位置。"
   ]
  },
  {
   "cell_type": "code",
   "execution_count": null,
   "metadata": {},
   "outputs": [],
   "source": [
    "mesh = o3d.geometry.TriangleMesh.create_coordinate_frame()\n",
    "mesh_mv = copy.deepcopy(mesh).translate((2, 2, 2), relative=False)\n",
    "print(f'Center of mesh: {mesh.get_center()}')\n",
    "print(f'Center of translated mesh: {mesh_mv.get_center()}')\n",
    "o3d.visualization.draw_geometries([mesh, mesh_mv])"
   ]
  },
  {
   "cell_type": "markdown",
   "metadata": {},
   "source": [
    "### 旋转\n",
    "Open3D的几何体类型也可以用旋转的方法进行旋转。它需要一个旋转矩阵R作为第一个参数。由于3D中的旋转可以用多种方式进行参数化，Open3D提供了方便的函数来将不同的参数化转换为旋转矩阵。\n",
    "\n",
    "- 用get_rotation_matrix_from_xyz转换欧拉角（其中xyz也可以是yzx、zxy、xzy、zyx和yxz形式）。\n",
    "\n",
    "- 用get_rotation_matrix_from_axis_angle转换轴-角表示法。\n",
    "\n",
    "- 用get_rotation_matrix_from_quaternion转换四元数。\n",
    "\n",
    "在下面的代码中，我们使用欧拉角来旋转网格"
   ]
  },
  {
   "cell_type": "code",
   "execution_count": null,
   "metadata": {},
   "outputs": [],
   "source": [
    "mesh = o3d.geometry.TriangleMesh.create_coordinate_frame()\n",
    "mesh_r = copy.deepcopy(mesh)\n",
    "R = mesh.get_rotation_matrix_from_xyz((np.pi / 3, 0, 0))\n",
    "mesh_r.rotate(R, center=(0, 0, 0))\n",
    "o3d.visualization.draw_geometries([mesh, mesh_r])"
   ]
  },
  {
   "cell_type": "markdown",
   "metadata": {},
   "source": [
    "函数rotate有一个第二个参数center，默认设置为True。这表明在应用旋转之前，对象首先被置于中心位置，然后再移回其先前的中心。如果这个参数设置为False，那么旋转将被直接应用，这样整个几何体将围绕坐标中心旋转。这意味着网格中心在旋转后可以被改变。"
   ]
  },
  {
   "cell_type": "code",
   "execution_count": null,
   "metadata": {},
   "outputs": [],
   "source": [
    "mesh = o3d.geometry.TriangleMesh.create_coordinate_frame()\n",
    "mesh_r = copy.deepcopy(mesh).translate((2, 0, 0))\n",
    "mesh_r.rotate(mesh.get_rotation_matrix_from_xyz((np.pi / 2, 0, np.pi / 4)),\n",
    "              center=(0, 0, 2))\n",
    "o3d.visualization.draw_geometries([mesh, mesh_r])"
   ]
  },
  {
   "cell_type": "markdown",
   "metadata": {},
   "source": [
    "### 缩放\n",
    "Open3D几何体类型的顶点和点也可以使用比例，vs=s⋅v进行缩放"
   ]
  },
  {
   "cell_type": "code",
   "execution_count": null,
   "metadata": {},
   "outputs": [],
   "source": [
    "mesh = o3d.geometry.TriangleMesh.create_coordinate_frame()\n",
    "mesh_s = copy.deepcopy(mesh).translate((2, 0, 0))\n",
    "mesh_s.scale(0.5, center=mesh_s.get_center())\n",
    "o3d.visualization.draw_geometries([mesh, mesh_s])"
   ]
  },
  {
   "cell_type": "markdown",
   "metadata": {},
   "source": [
    "缩放方法还有一个第二个参数center，默认设置为True。如果它被设置为 \"False\"，那么在缩放之前，对象不会被置于中心位置，这样对象的中心就会因为缩放操作而移动。"
   ]
  },
  {
   "cell_type": "code",
   "execution_count": null,
   "metadata": {},
   "outputs": [],
   "source": [
    "mesh = o3d.geometry.TriangleMesh.create_coordinate_frame()\n",
    "mesh_s = copy.deepcopy(mesh).translate((2, 1, 0))\n",
    "mesh_s.scale(0.5, center=(0, 0, 0))\n",
    "o3d.visualization.draw_geometries([mesh, mesh_s])"
   ]
  },
  {
   "cell_type": "markdown",
   "metadata": {},
   "source": [
    "### 一般变换\n",
    "Open3D也支持由一个4×4的同质变换矩阵定义的一般变换，使用变换方法。"
   ]
  },
  {
   "cell_type": "code",
   "execution_count": null,
   "metadata": {},
   "outputs": [],
   "source": [
    "mesh = o3d.geometry.TriangleMesh.create_coordinate_frame()\n",
    "T = np.eye(4)\n",
    "T[:3, :3] = mesh.get_rotation_matrix_from_xyz((0, np.pi / 3, np.pi / 2))\n",
    "T[0, 3] = 1\n",
    "T[1, 3] = 1.3\n",
    "print(T)\n",
    "mesh_t = copy.deepcopy(mesh).transform(T)\n",
    "o3d.visualization.draw_geometries([mesh, mesh_t])"
   ]
  },
  {
   "cell_type": "markdown",
   "metadata": {},
   "source": [
    "## mesh 变换\n",
    "deform_as_rigid_as_possible中实现了这个方法。\n",
    "\n",
    "第一个参数是一组constraint_ids，指的是三角形网格中的顶点。\n",
    "\n",
    "第二个参数constrint_pos定义了这些顶点在优化后应该处于哪个位置。\n",
    "\n",
    "优化过程是一个迭代方案。因此，我们也可以通过max_iter定义迭代的次数。"
   ]
  },
  {
   "cell_type": "code",
   "execution_count": null,
   "metadata": {},
   "outputs": [],
   "source": [
    "\n",
    "\n",
    "mesh = o3d.io.read_triangle_mesh(\"PointCloudData\\\\isl-org_examples\\\\ArmadilloMesh.ply\")\n",
    "# armadillo = o3d.data.ArmadilloMesh()\n",
    "# mesh = o3d.io.read_triangle_mesh(armadillo.path)\n",
    "\n",
    "vertices = np.asarray(mesh.vertices)\n",
    "static_ids = [idx for idx in np.where(vertices[:, 1] < -30)[0]]\n",
    "static_pos = []\n",
    "for id in static_ids:\n",
    "    static_pos.append(vertices[id])\n",
    "handle_ids = [2490]\n",
    "handle_pos = [vertices[2490] + np.array((-40, -40, -40))]\n",
    "constraint_ids = o3d.utility.IntVector(static_ids + handle_ids)\n",
    "constraint_pos = o3d.utility.Vector3dVector(static_pos + handle_pos)\n",
    "\n",
    "with o3d.utility.VerbosityContextManager(\n",
    "        o3d.utility.VerbosityLevel.Debug) as cm:\n",
    "    mesh_prime = mesh.deform_as_rigid_as_possible(constraint_ids,\n",
    "                                                  constraint_pos,\n",
    "                                                  max_iter=50)"
   ]
  },
  {
   "cell_type": "code",
   "execution_count": null,
   "metadata": {},
   "outputs": [],
   "source": [
    "print('Original Mesh')\n",
    "R = mesh.get_rotation_matrix_from_xyz((0, np.pi, 0))\n",
    "o3d.visualization.draw_geometries([mesh.rotate(R, center=mesh.get_center())])\n",
    "print('Deformed Mesh')\n",
    "mesh_prime.compute_vertex_normals()\n",
    "o3d.visualization.draw_geometries(\n",
    "    [mesh_prime.rotate(R, center=mesh_prime.get_center())])"
   ]
  },
  {
   "cell_type": "markdown",
   "metadata": {},
   "source": [
    "## 内部形状描述子(ISS关键点检测)\n"
   ]
  },
  {
   "cell_type": "code",
   "execution_count": 19,
   "metadata": {},
   "outputs": [
    {
     "name": "stdout",
     "output_type": "stream",
     "text": [
      "ISS Computation took 725 [ms]\n"
     ]
    }
   ],
   "source": [
    "\n",
    "# Compute ISS Keypoints on ArmadilloMesh\n",
    "mesh = o3d.io.read_triangle_mesh(\"PointCloudData\\isl-org_examples\\ArmadilloMesh.ply\")\n",
    "mesh.compute_vertex_normals()\n",
    "\n",
    "pcd = o3d.geometry.PointCloud()\n",
    "pcd.points = mesh.vertices\n",
    "\n",
    "tic = time.time()\n",
    "keypoints = o3d.geometry.keypoint.compute_iss_keypoints(pcd)\n",
    "toc = 1000 * (time.time() - tic)\n",
    "print(\"ISS Computation took {:.0f} [ms]\".format(toc))\n",
    "\n",
    "mesh.compute_vertex_normals()\n",
    "mesh.paint_uniform_color([0.5, 0.5, 0.5])\n",
    "keypoints.paint_uniform_color([1.0, 0.75, 0.0])\n",
    "o3d.visualization.draw_geometries([keypoints, mesh])\n"
   ]
  },
  {
   "cell_type": "code",
   "execution_count": 13,
   "metadata": {},
   "outputs": [
    {
     "name": "stdout",
     "output_type": "stream",
     "text": [
      "ISS Computation took 73 [ms]\n"
     ]
    }
   ],
   "source": [
    "# This function is only used to make the keypoints look better on the rendering\n",
    "def keypoints_to_spheres(keypoints):\n",
    "    spheres = o3d.geometry.TriangleMesh()\n",
    "    for keypoint in keypoints.points:\n",
    "        sphere = o3d.geometry.TriangleMesh.create_sphere(radius=0.001)\n",
    "        sphere.translate(keypoint)\n",
    "        spheres += sphere\n",
    "    spheres.paint_uniform_color([1.0, 0.75, 0.0])\n",
    "    return spheres\n",
    "# Compute ISS Keypoints on Standford BunnyMesh, changing the default parameters\n",
    "\n",
    "mesh = o3d.io.read_triangle_mesh(\"PointCloudData\\\\isl-org_examples\\\\BunnyMesh.ply\")\n",
    "mesh.compute_vertex_normals()\n",
    "\n",
    "pcd = o3d.geometry.PointCloud()\n",
    "pcd.points = mesh.vertices\n",
    "\n",
    "tic = time.time()\n",
    "keypoints = o3d.geometry.keypoint.compute_iss_keypoints(pcd,\n",
    "                                                        salient_radius=0.005,\n",
    "                                                        non_max_radius=0.005,\n",
    "                                                        gamma_21=0.5,\n",
    "                                                        gamma_32=0.5)\n",
    "toc = 1000 * (time.time() - tic)\n",
    "print(\"ISS Computation took {:.0f} [ms]\".format(toc))\n",
    "\n",
    "mesh.compute_vertex_normals()\n",
    "mesh.paint_uniform_color([0.5, 0.5, 0.5])\n",
    "o3d.visualization.draw_geometries([keypoints_to_spheres(keypoints), mesh])\n"
   ]
  },
  {
   "cell_type": "markdown",
   "metadata": {},
   "source": [
    "## 光线照射\n",
    "Open3D中的RaycastingScene类提供了基本的光线投射功能。在本教程中，我们将展示如何创建一个场景并进行光线相交测试。你也可以使用RaycastingScene从网格中创建一个虚拟点云，例如从CAD模型中创建。"
   ]
  },
  {
   "cell_type": "code",
   "execution_count": null,
   "metadata": {},
   "outputs": [],
   "source": [
    "# 创建mesh\n",
    "cube = o3d.geometry.TriangleMesh.create_box().translate([0, 0, 0])\n",
    "cube = o3d.t.geometry.TriangleMesh.from_legacy(cube)\n",
    "# 创建场景 添加mesh\n",
    "scene = o3d.t.geometry.RaycastingScene()\n",
    "cube_id = scene.add_triangles(cube)\n",
    "print(cube_id)"
   ]
  },
  {
   "cell_type": "code",
   "execution_count": null,
   "metadata": {},
   "outputs": [],
   "source": [
    "# 创建两道光线\n",
    "# 第一道光线从 (0.5,0.5,10) 照射到 (0,0,-1).\n",
    "# 第二道光线从 (-1,-1,-1) 照射到 (0,0,-1).\n",
    "rays = o3d.core.Tensor([[0.5, 0.5, 10, 0, 0, -1], [-1, -1, -1, 0, 0, -1]],\n",
    "                       dtype=o3d.core.Dtype.Float32)\n",
    "\n",
    "ans = scene.cast_rays(rays)\n",
    "print(ans.keys())\n",
    "# t_hit是到交点的距离。单位是由射线方向的长度定义的。如果没有相交点，则为Inf\n",
    "# geometry_ids给出被射线击中的几何体的ID。如果没有击中几何体，则为RaycastingScene.INVALID_ID。\n",
    "# primitive_ids是被击中的三角形的索引或RaycastingScene.INVALID_ID。\n",
    "# primitive_uvs是三角形内交点的arycentric坐标。\n",
    "# primitive_normals是被击中的三角形的法线。\n",
    "print(ans['t_hit'].numpy(), ans['geometry_ids'].numpy())\n"
   ]
  },
  {
   "cell_type": "code",
   "execution_count": null,
   "metadata": {},
   "outputs": [],
   "source": [
    "# 创建有多个对象的场景\n",
    "# Create meshes and convert to open3d.t.geometry.TriangleMesh\n",
    "cube = o3d.geometry.TriangleMesh.create_box().translate([0, 0, 0])\n",
    "cube = o3d.t.geometry.TriangleMesh.from_legacy(cube)\n",
    "torus = o3d.geometry.TriangleMesh.create_torus().translate([0, 0, 2])\n",
    "torus = o3d.t.geometry.TriangleMesh.from_legacy(torus)\n",
    "sphere = o3d.geometry.TriangleMesh.create_sphere(radius=0.5).translate(\n",
    "    [1, 2, 3])\n",
    "sphere = o3d.t.geometry.TriangleMesh.from_legacy(sphere)\n",
    "\n",
    "scene = o3d.t.geometry.RaycastingScene()\n",
    "scene.add_triangles(cube)\n",
    "scene.add_triangles(torus)\n",
    "_ = scene.add_triangles(sphere)"
   ]
  },
  {
   "cell_type": "markdown",
   "metadata": {},
   "source": [
    "RaycastingScene允许用任意数量的前导尺寸来组织射线。例如，我们可以生成一个形状为[h,w,6]的数组来组织射线以创建一个图像。该类还提供了为针孔摄像机创建射线的辅助函数。以下是创建形状为[480,640,6]的射线张量。"
   ]
  },
  {
   "cell_type": "code",
   "execution_count": null,
   "metadata": {},
   "outputs": [],
   "source": [
    "# 创建射线张量\n",
    "rays = o3d.t.geometry.RaycastingScene.create_rays_pinhole(\n",
    "    fov_deg=90,\n",
    "    center=[0, 0, 2],\n",
    "    eye=[2, 3, 0],\n",
    "    up=[0, 1, 0],\n",
    "    width_px=640,\n",
    "    height_px=480,\n",
    ")\n",
    "# We can directly pass the rays tensor to the cast_rays function.\n",
    "ans = scene.cast_rays(rays)"
   ]
  },
  {
   "cell_type": "code",
   "execution_count": null,
   "metadata": {},
   "outputs": [],
   "source": [
    "# 输出的张量保留了射线的形状，我们可以用matplotlib直接将命中距离可视化，得到深度图\n",
    "\n",
    "plt.imshow(ans['t_hit'].numpy())"
   ]
  },
  {
   "cell_type": "code",
   "execution_count": null,
   "metadata": {},
   "outputs": [],
   "source": [
    "# 可视化原始法线\n",
    "# use abs to avoid negative values\n",
    "plt.imshow(np.abs(ans['primitive_normals'].numpy()))"
   ]
  },
  {
   "cell_type": "code",
   "execution_count": null,
   "metadata": {},
   "outputs": [],
   "source": [
    "# 可视化被光线击中的目标\n",
    "plt.imshow(ans['geometry_ids'].numpy(), vmax=3)"
   ]
  },
  {
   "cell_type": "markdown",
   "metadata": {},
   "source": [
    "### 从射线照射中创建虚拟点云\n",
    "使用击中距离来计算交点的XYZ坐标。这些是你通过在射线的原点放置一个虚拟的三维传感器而得到的点。"
   ]
  },
  {
   "cell_type": "code",
   "execution_count": null,
   "metadata": {},
   "outputs": [],
   "source": [
    "hit = ans['t_hit'].isfinite()\n",
    "points = rays[hit][:,:3] + rays[hit][:,3:]*ans['t_hit'][hit].reshape((-1,1))\n",
    "pcd = o3d.t.geometry.PointCloud(points)\n",
    "# Press Ctrl/Cmd-C in the visualization window to copy the current viewpoint\n",
    "o3d.visualization.draw_geometries([pcd.to_legacy()],\n",
    "                                  front=[0.5, 0.86, 0.125],\n",
    "                                  lookat=[0.23, 0.5, 2],\n",
    "                                  up=[-0.63, 0.45, -0.63],\n",
    "                                  zoom=0.7)\n",
    "# o3d.visualization.draw([pcd]) # new API\n",
    "\n"
   ]
  },
  {
   "cell_type": "markdown",
   "metadata": {},
   "source": [
    "## 距离查询\n",
    "Open3D中的RaycastingScene类提供了一组距离查询，它可以用来将mesh转换为隐式函数，查询到表面的距离或确定一个点是否在网格内。\n",
    "### mesh转换为隐式表达"
   ]
  },
  {
   "cell_type": "code",
   "execution_count": null,
   "metadata": {},
   "outputs": [],
   "source": [
    "\n",
    "# 初始化，用一个（封闭的）mesh初始化一个RaycastingScene\n",
    "# Load mesh and convert to open3d.t.geometry.TriangleMesh\n",
    "mesh = o3d.io.read_triangle_mesh(\"PointCloudData\\\\isl-org_examples\\\\ArmadilloMesh.ply\")\n",
    "mesh = o3d.t.geometry.TriangleMesh.from_legacy(mesh)\n",
    "# Create a scene and add the triangle mesh\n",
    "scene = o3d.t.geometry.RaycastingScene()\n",
    "_ = scene.add_triangles(mesh)  # we do not need the geometry ID for mesh\n"
   ]
  },
  {
   "cell_type": "markdown",
   "metadata": {},
   "source": [
    "### 计算单点的距离和mesh内外"
   ]
  },
  {
   "cell_type": "code",
   "execution_count": null,
   "metadata": {},
   "outputs": [],
   "source": [
    "# RaycastingScene直接提供函数来计算 一个点到mesh表面的无符号和有符号距离。\n",
    "# 它还提供了一个函数来计算一个查询点的占用率。\n",
    "query_point = o3d.core.Tensor([[10, 10, 10]], dtype=o3d.core.Dtype.Float32)\n",
    "\n",
    "# Compute distance of the query point from the surface\n",
    "unsigned_distance = scene.compute_distance(query_point)\n",
    "signed_distance = scene.compute_signed_distance(query_point)\n",
    "occupancy = scene.compute_occupancy(query_point)\n",
    "# 虽然无符号的距离总是可以计算出来，\n",
    "# 但有符号的距离和占用率只有在mesh不漏水且内部和外部都明确定义的情况下才有效。\n",
    "# 如果查询点在mesh内，则有符号距离为负值。占用率对于网格外的点是0，对于网格内的点是1。"
   ]
  },
  {
   "cell_type": "code",
   "execution_count": null,
   "metadata": {},
   "outputs": [],
   "source": [
    "# 我们的网格是不漏水的，我们可以看到查询点是在网格内，因为有符号的距离和占用率的值。\n",
    "print(\"unsigned distance\", unsigned_distance.numpy())\n",
    "print(\"signed_distance\", signed_distance.numpy())\n",
    "print(\"occupancy\", occupancy.numpy())"
   ]
  },
  {
   "cell_type": "markdown",
   "metadata": {},
   "source": [
    "### 计算多个点和mesh的距离\n",
    "RaycastingScene允许一次进行多个查询。例如，我们可以通过一个具有N个查询点的[N,3]张量，该张量可用于随机抽样，以训练机器学习中的隐性神经表征。"
   ]
  },
  {
   "cell_type": "code",
   "execution_count": null,
   "metadata": {},
   "outputs": [],
   "source": [
    "\n",
    "min_bound = mesh.vertex['positions'].min(0).numpy()\n",
    "max_bound = mesh.vertex['positions'].max(0).numpy()\n",
    "\n",
    "N = 256\n",
    "query_points = np.random.uniform(low=min_bound, high=max_bound,\n",
    "                                 size=[N, 3]).astype(np.float32)\n",
    "\n",
    "# Compute the signed distance for N random points\n",
    "signed_distance = scene.compute_signed_distance(query_points)\n"
   ]
  },
  {
   "cell_type": "code",
   "execution_count": null,
   "metadata": {},
   "outputs": [],
   "source": [
    "pcd = o3d.geometry.PointCloud()\n",
    "pcd.points = o3d.utility.Vector3dVector(query_points)\n",
    "o3d.visualization.draw_geometries([pcd])"
   ]
  },
  {
   "cell_type": "code",
   "execution_count": null,
   "metadata": {},
   "outputs": [],
   "source": [
    "\n",
    "xyz_range = np.linspace(min_bound, max_bound, num=32)\n",
    "\n",
    "# query_points is a [32,32,32,3] array ..\n",
    "query_points = np.stack(np.meshgrid(*xyz_range.T), axis=-1).astype(np.float32)\n",
    "\n",
    "# signed distance is a [32,32,32] array\n",
    "signed_distance = scene.compute_signed_distance(query_points)\n",
    "\n",
    "# We can visualize a slice of the distance field directly with matplotlib\n",
    "plt.imshow(signed_distance.numpy()[:, :, 10])\n"
   ]
  },
  {
   "cell_type": "code",
   "execution_count": null,
   "metadata": {},
   "outputs": [],
   "source": []
  },
  {
   "cell_type": "markdown",
   "metadata": {},
   "source": [
    "### 最近点查询计算距离\n",
    "距离函数是建立在compute_closest_points()函数之上的。在这一部分，我们将重新实现有符号距离，并展示如何利用compute_closest_points()函数返回的额外信息。"
   ]
  },
  {
   "cell_type": "code",
   "execution_count": null,
   "metadata": {},
   "outputs": [],
   "source": [
    "# 初始化\n",
    "# 首先初始化一个带有两个三角形网格的RaycastingScene。\n",
    "# 这两个网格都是不漏水的，我们将把它们放置在它们之间没有交集的地方。\n",
    "\n",
    "cube = o3d.t.geometry.TriangleMesh.from_legacy(\n",
    "    o3d.geometry.TriangleMesh.create_box().translate([-1.2, -1.2, 0]))\n",
    "sphere = o3d.t.geometry.TriangleMesh.from_legacy(\n",
    "    o3d.geometry.TriangleMesh.create_sphere(0.5).translate([0.7, 0.8, 0]))\n",
    "\n",
    "scene = o3d.t.geometry.RaycastingScene()\n",
    "# Add triangle meshes and remember ids\n",
    "mesh_ids = {}\n",
    "mesh_ids[scene.add_triangles(cube)] = 'cube'\n",
    "mesh_ids[scene.add_triangles(sphere)] = 'sphere'\n"
   ]
  },
  {
   "cell_type": "code",
   "execution_count": null,
   "metadata": {},
   "outputs": [],
   "source": [
    "# 创建射线张量\n",
    "rays = o3d.t.geometry.RaycastingScene.create_rays_pinhole(\n",
    "    fov_deg=90,\n",
    "    center=[0, 0, 2],\n",
    "    eye=[2, 3, 0],\n",
    "    up=[0, 1, 0],\n",
    "    width_px=640,\n",
    "    height_px=480,\n",
    ")\n",
    "# We can directly pass the rays tensor to the cast_rays function.\n",
    "ans = scene.cast_rays(rays)"
   ]
  },
  {
   "cell_type": "code",
   "execution_count": null,
   "metadata": {},
   "outputs": [],
   "source": [
    "# 从射线中创建虚拟点云\n",
    "hit = ans['t_hit'].isfinite()\n",
    "points = rays[hit][:,:3] + rays[hit][:,3:]*ans['t_hit'][hit].reshape((-1,1))\n",
    "pcd = o3d.t.geometry.PointCloud(points)\n",
    "# Press Ctrl/Cmd-C in the visualization window to copy the current viewpoint\n",
    "o3d.visualization.draw_geometries([pcd.to_legacy()],\n",
    "                                  front=[0.5, 0.86, 0.125],\n",
    "                                  lookat=[0.23, 0.5, 2],\n",
    "                                  up=[-0.63, 0.45, -0.63],\n",
    "                                  zoom=0.7)"
   ]
  },
  {
   "cell_type": "code",
   "execution_count": null,
   "metadata": {},
   "outputs": [],
   "source": [
    "# 计算曲面上最近的点\n",
    "# RaycastingScene.compute_closest_points()可以计算曲面上与查询点最近的点。\n",
    "\n",
    "\n",
    "query_point = o3d.core.Tensor([[0, 0, 0]], dtype=o3d.core.Dtype.Float32)\n",
    "\n",
    "# We compute the closest point on the surface for the point at position [0,0,0].\n",
    "ans = scene.compute_closest_points(query_point)\n",
    "\n",
    "# Compute_closest_points provides the point on the surface, the geometry id,\n",
    "# and the primitive id.\n",
    "# The dictionary keys are\n",
    "#.    points\n",
    "#.    geometry_ids\n",
    "#.    primitive_ids\n",
    "print('The closest point on the surface is', ans['points'].numpy())\n",
    "print('The closest point is on the surface of the',\n",
    "      mesh_ids[ans['geometry_ids'][0].item()])\n",
    "print('The closest point belongs to triangle', ans['primitive_ids'][0].item())\n"
   ]
  },
  {
   "cell_type": "code",
   "execution_count": null,
   "metadata": {},
   "outputs": [],
   "source": [
    "# 为了计算该点是在内部还是外部，我们可以从查询点开始投射一条射线，然后计算交点的数量\n",
    "rays = np.concatenate(\n",
    "    [query_point.numpy(),\n",
    "     np.ones(query_point.shape, dtype=np.float32)],\n",
    "    axis=-1)\n",
    "intersection_counts = scene.count_intersections(rays).numpy()\n",
    "# A point is inside if the number of intersections with the scene is even\n",
    "# This sssumes that inside and outside is we ll defined for the scene.\n",
    "is_inside = intersection_counts % 2 == 1\n",
    "print(is_inside)"
   ]
  },
  {
   "cell_type": "code",
   "execution_count": null,
   "metadata": {},
   "outputs": [],
   "source": [
    "# 可以将其合并为一个函数，创建一个特殊的带符号的距离函数，并返回额外的信息\n",
    "def compute_signed_distance_and_closest_goemetry(query_points: np.ndarray):\n",
    "    closest_points = scene.compute_closest_points(query_points)\n",
    "    distance = np.linalg.norm(query_points - closest_points['points'].numpy(),\n",
    "                              axis=-1)\n",
    "    rays = np.concatenate([query_points, np.ones_like(query_points)], axis=-1)\n",
    "    intersection_counts = scene.count_intersections(rays).numpy()\n",
    "    is_inside = intersection_counts % 2 == 1\n",
    "    distance[is_inside] *= -1\n",
    "    return distance, closest_points['geometry_ids'].numpy()"
   ]
  },
  {
   "cell_type": "code",
   "execution_count": null,
   "metadata": {},
   "outputs": [],
   "source": [
    "# 可以用这个函数来创建一个带有距离和几何id信息的网格\n",
    "# compute range\n",
    "xyz_range = np.linspace([-2, -2, -2], [2, 2, 2], num=32)\n",
    "# query_points is a [32,32,32,3] array ..\n",
    "query_points = np.stack(np.meshgrid(*xyz_range.T), axis=-1).astype(np.float32)\n",
    "\n",
    "sdf, closest_geom = compute_signed_distance_and_closest_goemetry(query_points)\n",
    "\n",
    "# We can visualize a slice of the grids directly with matplotlib\n",
    "fig, axes = plt.subplots(1, 2)\n",
    "axes[0].imshow(sdf[:, :, 16])\n",
    "axes[1].imshow(closest_geom[:, :, 16])\n"
   ]
  }
 ],
 "metadata": {
  "kernelspec": {
   "display_name": "Python 3 (ipykernel)",
   "language": "python",
   "name": "python3"
  },
  "language_info": {
   "codemirror_mode": {
    "name": "ipython",
    "version": 3
   },
   "file_extension": ".py",
   "mimetype": "text/x-python",
   "name": "python",
   "nbconvert_exporter": "python",
   "pygments_lexer": "ipython3",
   "version": "3.7.16"
  }
 },
 "nbformat": 4,
 "nbformat_minor": 5
}
